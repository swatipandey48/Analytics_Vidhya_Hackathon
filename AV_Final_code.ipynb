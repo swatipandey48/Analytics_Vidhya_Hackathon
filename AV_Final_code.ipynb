{
 "cells": [
  {
   "cell_type": "markdown",
   "metadata": {},
   "source": [
    "# Load Important Libraries"
   ]
  },
  {
   "cell_type": "code",
   "execution_count": 1,
   "metadata": {
    "ExecuteTime": {
     "end_time": "2022-03-13T10:16:18.155902Z",
     "start_time": "2022-03-13T10:16:16.613539Z"
    }
   },
   "outputs": [
    {
     "name": "stderr",
     "output_type": "stream",
     "text": [
      "/root/anaconda3/lib/python3.6/site-packages/dask/dataframe/utils.py:14: FutureWarning: pandas.util.testing is deprecated. Use the functions in the public API at pandas.testing instead.\n",
      "  import pandas.util.testing as tm\n"
     ]
    }
   ],
   "source": [
    "import pandas as pd\n",
    "import numpy as np\n",
    "import seaborn as sns\n",
    "from sklearn.model_selection import train_test_split\n",
    "from sklearn.model_selection import KFold\n",
    "from sklearn.metrics import accuracy_score\n",
    "from sklearn.linear_model import LogisticRegression\n",
    "from sklearn.neighbors import KNeighborsClassifier\n",
    "from sklearn.naive_bayes import GaussianNB\n",
    "from sklearn.discriminant_analysis import LinearDiscriminantAnalysis\n",
    "from sklearn.svm import SVC\n",
    "from sklearn.ensemble import RandomForestClassifier\n",
    "from matplotlib import pyplot\n",
    "from sklearn import  metrics\n",
    "from xgboost import XGBClassifier\n",
    "from lightgbm import LGBMClassifier\n",
    "from xgboost import plot_importance\n",
    "\n",
    "import joblib\n",
    "\n",
    "from hyperopt.pyll.stochastic import sample\n",
    "from hyperopt import tpe, Trials, hp, STATUS_OK, fmin\n",
    "from timeit import default_timer as timer\n",
    "from sklearn.model_selection import cross_val_score\n",
    "from sklearn.model_selection import StratifiedKFold"
   ]
  },
  {
   "cell_type": "markdown",
   "metadata": {},
   "source": [
    "# Utility Functions"
   ]
  },
  {
   "cell_type": "code",
   "execution_count": 2,
   "metadata": {
    "ExecuteTime": {
     "end_time": "2022-03-13T10:16:19.252378Z",
     "start_time": "2022-03-13T10:16:19.241523Z"
    }
   },
   "outputs": [],
   "source": [
    "# Function to calculate performance table with f1_macro score and acculacy\n",
    "def perf_measure(y_actual, y_pred):\n",
    "    eval_dict = {}\n",
    "    cm = metrics.confusion_matrix(y_actual, y_pred)\n",
    "    TN = cm[0][0]\n",
    "    TP = cm[1][1]\n",
    "    FN = cm[1][0]\n",
    "    FP = cm[0][1]\n",
    "    eval_dict['F1_Score'] = [\n",
    "        metrics.f1_score(y_actual, y_pred, average='macro')\n",
    "    ]\n",
    "    eval_dict['Accuracy'] = [\n",
    "        metrics.accuracy_score(y_actual, y_pred)\n",
    "    ]\n",
    "    eval_dict['Class_Count'] = [len(y_actual)/100, len([i for i in y_actual if i in [0, 'clean']])/100, \n",
    "                                len([i for i in y_actual if i in [1,'malicious']])/100]\n",
    "    eval_dict['Class_Ratio'] = [i/len(y_actual) for i in eval_dict['Class_Count']]\n",
    "    return pd.DataFrame(eval_dict, index=['Overall', 0, 1]) * 100\n",
    "\n",
    "# Function to calculate performance table for various thresholds\n",
    "def score_df(df, target, preds, cutOffList):\n",
    "    temp = pd.DataFrame(\n",
    "    pd.concat([                                               \n",
    "        perf_measure(\n",
    "            target,\n",
    "            df[preds].apply(lambda x: 1 if x >= i else 0)).loc[['Overall'\n",
    "                                                                    ]]\n",
    "        for i in cutOffList\n",
    "    ],\n",
    "              ignore_index=True))\n",
    "    temp.index = ['@_'+str(i) for i in cutOffList]\n",
    "    display(temp)"
   ]
  },
  {
   "cell_type": "code",
   "execution_count": 3,
   "metadata": {
    "ExecuteTime": {
     "end_time": "2022-03-13T10:16:20.246929Z",
     "start_time": "2022-03-13T10:16:20.241838Z"
    }
   },
   "outputs": [],
   "source": [
    "# Function to calculate the feature importance for LGBM model\n",
    "\n",
    "def get_lgbm_varimp_gain(model, train_columns, max_vars=50):\n",
    "    \n",
    "    if \"basic.Booster\" in str(model.__class__):\n",
    "        # lightgbm.basic.Booster was trained directly, so using feature_importance() function \n",
    "        cv_varimp_df = pd.DataFrame([train_columns, model.feature_importance(importance_type='gain')]).T\n",
    "    else:\n",
    "        # Scikit-learn API LGBMClassifier or LGBMRegressor was fitted, \n",
    "        # so using feature_importances_ property\n",
    "        cv_varimp_df = pd.DataFrame([train_columns, model.booster_.feature_importance(importance_type='gain')]).T\n",
    "\n",
    "    cv_varimp_df.columns = ['feature_name', 'varimp']\n",
    "\n",
    "    cv_varimp_df.sort_values(by='varimp', ascending=False, inplace=True)\n",
    "\n",
    "    cv_varimp_df = cv_varimp_df.iloc[0:max_vars]   \n",
    "\n",
    "    return cv_varimp_df\n",
    "\n"
   ]
  },
  {
   "cell_type": "markdown",
   "metadata": {},
   "source": [
    "# Prediction on Test Data"
   ]
  },
  {
   "cell_type": "code",
   "execution_count": 4,
   "metadata": {
    "ExecuteTime": {
     "end_time": "2022-03-13T10:16:21.908413Z",
     "start_time": "2022-03-13T10:16:21.898081Z"
    }
   },
   "outputs": [],
   "source": [
    "# Load Machine Learning Models\n",
    "xgb=joblib.load(\"xgb_model\")\n",
    "lgb=joblib.load(\"lgb_model\")"
   ]
  },
  {
   "cell_type": "code",
   "execution_count": 5,
   "metadata": {
    "ExecuteTime": {
     "end_time": "2022-03-13T10:16:22.596389Z",
     "start_time": "2022-03-13T10:16:22.584095Z"
    }
   },
   "outputs": [],
   "source": [
    "# Load Data\n",
    "test = pd.read_csv(\"test_lTY72QC.csv\")"
   ]
  },
  {
   "cell_type": "code",
   "execution_count": 6,
   "metadata": {
    "ExecuteTime": {
     "end_time": "2022-03-13T10:16:25.406134Z",
     "start_time": "2022-03-13T10:16:23.339382Z"
    }
   },
   "outputs": [],
   "source": [
    "# Create Features\n",
    "Income_dict = {'Less than 5L':1, '5L - 10L':2, '10L - 15L':3, 'More than 15L':4}\n",
    "\n",
    "test['Gender_num'] = test['Gender'].apply(lambda row: 1 if row=='Male' else 0)\n",
    "test['Income_num'] = test['Income'].apply(lambda row: Income_dict[row] if row in Income_dict.keys() else 0)\n",
    "test['Product_Holdings_1'] = test['Product_Holdings'].apply(lambda row: 1 if row=='1' else 0)\n",
    "test['Product_Holdings_2'] = test['Product_Holdings'].apply(lambda row: 1 if row=='2' else 0)\n",
    "test['Product_Holdings_3_plus'] = test['Product_Holdings'].apply(lambda row: 1 if row=='3+' else 0)\n",
    "test['Credit_Category_Good'] = test['Credit_Category'].apply(lambda row: 1 if row=='Good' else 0)\n",
    "test['Credit_Category_Poor'] = test['Credit_Category'].apply(lambda row: 1 if row=='Poor' else 0)\n",
    "test['Credit_Category_Average'] = test['Credit_Category'].apply(lambda row: 1 if row=='Average' else 0)\n",
    "\n",
    "test['Income_Age_ratio'] = test.apply(lambda x: x.Income_num/x.Age if x.Age!=0 else 0, axis=1)\n",
    "test['Vintage_Age_ratio'] = test.apply(lambda x: x.Vintage/x.Age if x.Age!=0 else 0, axis=1)\n",
    "test['Balance_Income_ratio'] = test.apply(lambda x: x.Balance/x.Income_num if x.Income_num!=0 else 0, axis=1)\n",
    "test['Balance_Age_ratio'] = test.apply(lambda x: x.Balance/x.Age if x.Age!=0 else 0, axis=1)\n",
    "test['Vintage_Balance_ratio'] = test.apply(lambda x: x.Vintage/x.Balance if x.Balance!=0 else 0, axis=1)\n",
    "test['Vintage_Income_ratio'] = test.apply(lambda x: x.Vintage/x.Income_num if x.Income_num!=0 else 0, axis=1)\n",
    "\n",
    "test['Income_squared'] = test['Income_num'].apply(lambda row: pow(row, 2))\n",
    "test['Vintage_squared'] = test['Vintage'].apply(lambda row: pow(row, 2))\n",
    "\n",
    "test['Product_Holdings_num'] = test['Product_Holdings'].apply(lambda row: 1 if row=='1' else 2 if row=='2' else 3\n",
    "                                                                if row=='3+' else 0)\n",
    "test['Age_Product_Holdings_ratio'] = test.apply(lambda x: x.Age/x.Product_Holdings_num \n",
    "                                                  if x.Product_Holdings_num!=0 else 0, axis=1)\n",
    "test['Income_Product_Holdings_ratio'] = test.apply(lambda x: x.Income_num/x.Product_Holdings_num \n",
    "                                                     if x.Product_Holdings_num!=0 else 0, axis=1)\n",
    "test['Balance_Product_Holdings_ratio'] = test.apply(lambda x: x.Balance/x.Product_Holdings_num \n",
    "                                                      if x.Product_Holdings_num!=0 else 0, axis=1)\n",
    "test['Vintage_Product_Holdings_ratio'] = test.apply(lambda x: x.Vintage/x.Product_Holdings_num \n",
    "                                                      if x.Product_Holdings_num!=0 else 0, axis=1)\n",
    "test['Product_Holdings_squared'] = test['Product_Holdings_num'].apply(lambda row: pow(row, 2))\n",
    "\n",
    "test['Income_squared_Age_ratio'] = test.apply(lambda x: x.Income_squared/x.Age if x.Age!=0 else 0, axis=1)\n",
    "test['Vintage_squared_Age_ratio'] = test.apply(lambda x: x.Vintage_squared/x.Age if x.Age!=0 else 0, axis=1)\n",
    "test['Balance_Income_squared_ratio'] = test.apply(lambda x: x.Balance/x.Income_squared if x.Income_squared!=0 else 0, \n",
    "                                                    axis=1)\n",
    "test['Vintage_squared_Balance_ratio'] = test.apply(lambda x: x.Vintage_squared/x.Balance if x.Balance!=0 else 0, axis=1)\n",
    "test['Vintage_Income_squared_ratio'] = test.apply(lambda x: x.Vintage/x.Income_squared if x.Income_squared!=0 else 0, \n",
    "                                                    axis=1)\n",
    "test['Vintage_squared_Income_ratio'] = test.apply(lambda x: x.Vintage_squared/x.Income_num if x.Income_squared!=0 \n",
    "                                                    else 0,  axis=1)\n",
    "test['Vintage_squared_Income_squared_ratio'] = test.apply(lambda x: x.Vintage_squared/x.Income_squared \n",
    "                                                            if x.Income_squared!=0 else 0,  axis=1)\n",
    "\n",
    "\n",
    "test['Age_Product_Holdings_squared_ratio'] = test.apply(lambda x: x.Age/x.Product_Holdings_squared \n",
    "                                                  if x.Product_Holdings_squared!=0 else 0, axis=1)\n",
    "test['Balance_Product_Holdings_squared_ratio'] = test.apply(lambda x: x.Balance/x.Product_Holdings_squared \n",
    "                                                      if x.Product_Holdings_squared!=0 else 0, axis=1)\n",
    "test['Income_Product_Holdings_squared_ratio'] = test.apply(lambda x: x.Income_num/x.Product_Holdings_squared \n",
    "                                                     if x.Product_Holdings_squared!=0 else 0, axis=1)\n",
    "test['Income_squared_Product_Holdings_ratio'] = test.apply(lambda x: x.Income_squared/x.Product_Holdings_num\n",
    "                                                     if x.Product_Holdings_num!=0 else 0, axis=1)\n",
    "test['Income_squared_Product_Holdings_squared_ratio'] = test.apply(lambda x: x.Income_squared\n",
    "                                                                     /x.Product_Holdings_squared \n",
    "                                                     if x.Product_Holdings_squared!=0 else 0, axis=1)\n",
    "test['Vintage_Product_Holdings_squared_ratio'] = test.apply(lambda x: x.Vintage/x.Product_Holdings_squared \n",
    "                                                      if x.Product_Holdings_squared!=0 else 0, axis=1)\n",
    "test['Vintage_squared_Product_Holdings_ratio'] = test.apply(lambda x: x.Vintage_squared/x.Product_Holdings_num\n",
    "                                                      if x.Product_Holdings_num!=0 else 0, axis=1)\n",
    "test['Vintage_squared_Product_Holdings_squared_ratio'] = test.apply(lambda x: x.Vintage_squared\n",
    "                                                                      /x.Product_Holdings_squared \n",
    "                                                      if x.Product_Holdings_squared!=0 else 0, axis=1)"
   ]
  },
  {
   "cell_type": "code",
   "execution_count": 7,
   "metadata": {
    "ExecuteTime": {
     "end_time": "2022-03-13T10:16:25.554291Z",
     "start_time": "2022-03-13T10:16:25.550629Z"
    }
   },
   "outputs": [],
   "source": [
    "features1=['Age', 'Balance', 'Vintage', 'Transaction_Status', 'Credit_Card', 'Gender_num', 'Income_num', \n",
    "           'Product_Holdings_1', 'Credit_Category_Good', 'Credit_Category_Poor', 'Credit_Category_Average', \n",
    "           'Income_Age_ratio', 'Balance_Income_ratio', 'Vintage_Balance_ratio', 'Vintage_Income_ratio', \n",
    "           'Age_Product_Holdings_ratio', 'Income_Product_Holdings_ratio', 'Balance_Product_Holdings_ratio', \n",
    "           'Vintage_Product_Holdings_ratio']"
   ]
  },
  {
   "cell_type": "code",
   "execution_count": 8,
   "metadata": {
    "ExecuteTime": {
     "end_time": "2022-03-13T10:16:26.915061Z",
     "start_time": "2022-03-13T10:16:26.884140Z"
    }
   },
   "outputs": [],
   "source": [
    "# Calculate predicted probabilities\n",
    "test['xgb_preds'] = xgb.predict_proba(test[features1])[:, 1]\n",
    "test['lgb_preds'] = lgb.predict_proba(test[features1])[:, 1]\n",
    "\n",
    "# Apply weighted ensembling\n",
    "test['xgb_lgb'] = 0.4*test['xgb_preds'] + 0.6*test['lgb_preds']\n",
    "\n",
    "# Calculate churn with optimal threshold (0.42 here)\n",
    "test['Is_Churn'] = test['xgb_lgb'].apply(lambda x: 1 if x>0.42 else 0)"
   ]
  },
  {
   "cell_type": "code",
   "execution_count": 9,
   "metadata": {
    "ExecuteTime": {
     "end_time": "2022-03-13T10:16:28.709121Z",
     "start_time": "2022-03-13T10:16:28.699414Z"
    }
   },
   "outputs": [],
   "source": [
    "# Save the output file with ID and churn prediction (Is_Churn) columns\n",
    "test[['ID', 'Is_Churn']].to_csv(\"output_xgb_lgb_4_6__19vars_0.42.csv\", index = False)"
   ]
  },
  {
   "cell_type": "markdown",
   "metadata": {},
   "source": [
    "# Training"
   ]
  },
  {
   "cell_type": "markdown",
   "metadata": {},
   "source": [
    "## Data Preprocessing"
   ]
  },
  {
   "cell_type": "markdown",
   "metadata": {},
   "source": [
    "### Load Train Data and verify related informations, distribution of target (Is_Churn) column, etc."
   ]
  },
  {
   "cell_type": "code",
   "execution_count": 10,
   "metadata": {
    "ExecuteTime": {
     "end_time": "2022-03-13T10:16:32.581161Z",
     "start_time": "2022-03-13T10:16:32.559776Z"
    }
   },
   "outputs": [
    {
     "name": "stdout",
     "output_type": "stream",
     "text": [
      "<class 'pandas.core.frame.DataFrame'>\n",
      "RangeIndex: 6650 entries, 0 to 6649\n",
      "Data columns (total 11 columns):\n",
      " #   Column              Non-Null Count  Dtype  \n",
      "---  ------              --------------  -----  \n",
      " 0   ID                  6650 non-null   object \n",
      " 1   Age                 6650 non-null   int64  \n",
      " 2   Gender              6650 non-null   object \n",
      " 3   Income              6650 non-null   object \n",
      " 4   Balance             6650 non-null   float64\n",
      " 5   Vintage             6650 non-null   int64  \n",
      " 6   Transaction_Status  6650 non-null   int64  \n",
      " 7   Product_Holdings    6650 non-null   object \n",
      " 8   Credit_Card         6650 non-null   int64  \n",
      " 9   Credit_Category     6650 non-null   object \n",
      " 10  Is_Churn            6650 non-null   int64  \n",
      "dtypes: float64(1), int64(5), object(5)\n",
      "memory usage: 571.6+ KB\n"
     ]
    }
   ],
   "source": [
    "# load data\n",
    "train = pd.read_csv(\"train_PDjVQMB.csv\")\n",
    "\n",
    "# Data Info\n",
    "train.info()"
   ]
  },
  {
   "cell_type": "code",
   "execution_count": 11,
   "metadata": {
    "ExecuteTime": {
     "end_time": "2022-03-13T10:16:33.176496Z",
     "start_time": "2022-03-13T10:16:33.170443Z"
    }
   },
   "outputs": [
    {
     "data": {
      "text/plain": [
       "6650"
      ]
     },
     "execution_count": 11,
     "metadata": {},
     "output_type": "execute_result"
    }
   ],
   "source": [
    "# check if any duplicate ID\n",
    "len(train['ID'].unique())"
   ]
  },
  {
   "cell_type": "code",
   "execution_count": 12,
   "metadata": {
    "ExecuteTime": {
     "end_time": "2022-03-13T10:16:33.710800Z",
     "start_time": "2022-03-13T10:16:33.695536Z"
    }
   },
   "outputs": [
    {
     "data": {
      "text/html": [
       "<div>\n",
       "<style scoped>\n",
       "    .dataframe tbody tr th:only-of-type {\n",
       "        vertical-align: middle;\n",
       "    }\n",
       "\n",
       "    .dataframe tbody tr th {\n",
       "        vertical-align: top;\n",
       "    }\n",
       "\n",
       "    .dataframe thead th {\n",
       "        text-align: right;\n",
       "    }\n",
       "</style>\n",
       "<table border=\"1\" class=\"dataframe\">\n",
       "  <thead>\n",
       "    <tr style=\"text-align: right;\">\n",
       "      <th></th>\n",
       "      <th>ID</th>\n",
       "      <th>Age</th>\n",
       "      <th>Gender</th>\n",
       "      <th>Income</th>\n",
       "      <th>Balance</th>\n",
       "      <th>Vintage</th>\n",
       "      <th>Transaction_Status</th>\n",
       "      <th>Product_Holdings</th>\n",
       "      <th>Credit_Card</th>\n",
       "      <th>Credit_Category</th>\n",
       "      <th>Is_Churn</th>\n",
       "    </tr>\n",
       "  </thead>\n",
       "  <tbody>\n",
       "    <tr>\n",
       "      <th>0</th>\n",
       "      <td>84e2fcc9</td>\n",
       "      <td>36</td>\n",
       "      <td>Female</td>\n",
       "      <td>5L - 10L</td>\n",
       "      <td>563266.44</td>\n",
       "      <td>4</td>\n",
       "      <td>0</td>\n",
       "      <td>1</td>\n",
       "      <td>0</td>\n",
       "      <td>Average</td>\n",
       "      <td>1</td>\n",
       "    </tr>\n",
       "    <tr>\n",
       "      <th>1</th>\n",
       "      <td>57fea15e</td>\n",
       "      <td>53</td>\n",
       "      <td>Female</td>\n",
       "      <td>Less than 5L</td>\n",
       "      <td>875572.11</td>\n",
       "      <td>2</td>\n",
       "      <td>1</td>\n",
       "      <td>1</td>\n",
       "      <td>1</td>\n",
       "      <td>Poor</td>\n",
       "      <td>0</td>\n",
       "    </tr>\n",
       "    <tr>\n",
       "      <th>2</th>\n",
       "      <td>8df34ef3</td>\n",
       "      <td>35</td>\n",
       "      <td>Female</td>\n",
       "      <td>More than 15L</td>\n",
       "      <td>701607.06</td>\n",
       "      <td>2</td>\n",
       "      <td>1</td>\n",
       "      <td>2</td>\n",
       "      <td>0</td>\n",
       "      <td>Poor</td>\n",
       "      <td>0</td>\n",
       "    </tr>\n",
       "    <tr>\n",
       "      <th>3</th>\n",
       "      <td>c5c0788b</td>\n",
       "      <td>43</td>\n",
       "      <td>Female</td>\n",
       "      <td>More than 15L</td>\n",
       "      <td>1393922.16</td>\n",
       "      <td>0</td>\n",
       "      <td>1</td>\n",
       "      <td>2</td>\n",
       "      <td>1</td>\n",
       "      <td>Poor</td>\n",
       "      <td>1</td>\n",
       "    </tr>\n",
       "    <tr>\n",
       "      <th>4</th>\n",
       "      <td>951d69c4</td>\n",
       "      <td>39</td>\n",
       "      <td>Female</td>\n",
       "      <td>More than 15L</td>\n",
       "      <td>893146.23</td>\n",
       "      <td>1</td>\n",
       "      <td>1</td>\n",
       "      <td>1</td>\n",
       "      <td>1</td>\n",
       "      <td>Good</td>\n",
       "      <td>1</td>\n",
       "    </tr>\n",
       "  </tbody>\n",
       "</table>\n",
       "</div>"
      ],
      "text/plain": [
       "         ID  Age  Gender         Income     Balance  Vintage  \\\n",
       "0  84e2fcc9   36  Female       5L - 10L   563266.44        4   \n",
       "1  57fea15e   53  Female   Less than 5L   875572.11        2   \n",
       "2  8df34ef3   35  Female  More than 15L   701607.06        2   \n",
       "3  c5c0788b   43  Female  More than 15L  1393922.16        0   \n",
       "4  951d69c4   39  Female  More than 15L   893146.23        1   \n",
       "\n",
       "   Transaction_Status Product_Holdings  Credit_Card Credit_Category  Is_Churn  \n",
       "0                   0                1            0         Average         1  \n",
       "1                   1                1            1            Poor         0  \n",
       "2                   1                2            0            Poor         0  \n",
       "3                   1                2            1            Poor         1  \n",
       "4                   1                1            1            Good         1  "
      ]
     },
     "execution_count": 12,
     "metadata": {},
     "output_type": "execute_result"
    }
   ],
   "source": [
    "# first 5 rows of the data\n",
    "train.head()"
   ]
  },
  {
   "cell_type": "code",
   "execution_count": 13,
   "metadata": {
    "ExecuteTime": {
     "end_time": "2022-03-13T10:16:34.233784Z",
     "start_time": "2022-03-13T10:16:34.223897Z"
    }
   },
   "outputs": [
    {
     "data": {
      "text/plain": [
       "ID                    0\n",
       "Age                   0\n",
       "Gender                0\n",
       "Income                0\n",
       "Balance               0\n",
       "Vintage               0\n",
       "Transaction_Status    0\n",
       "Product_Holdings      0\n",
       "Credit_Card           0\n",
       "Credit_Category       0\n",
       "Is_Churn              0\n",
       "dtype: int64"
      ]
     },
     "execution_count": 13,
     "metadata": {},
     "output_type": "execute_result"
    }
   ],
   "source": [
    "# check if any null values are there\n",
    "train.isnull().sum()"
   ]
  },
  {
   "cell_type": "code",
   "execution_count": 14,
   "metadata": {
    "ExecuteTime": {
     "end_time": "2022-03-13T10:16:34.637169Z",
     "start_time": "2022-03-13T10:16:34.628998Z"
    }
   },
   "outputs": [
    {
     "data": {
      "text/plain": [
       "ID                     object\n",
       "Age                     int64\n",
       "Gender                 object\n",
       "Income                 object\n",
       "Balance               float64\n",
       "Vintage                 int64\n",
       "Transaction_Status      int64\n",
       "Product_Holdings       object\n",
       "Credit_Card             int64\n",
       "Credit_Category        object\n",
       "Is_Churn                int64\n",
       "dtype: object"
      ]
     },
     "execution_count": 14,
     "metadata": {},
     "output_type": "execute_result"
    }
   ],
   "source": [
    "# check the data types of each column\n",
    "train.dtypes"
   ]
  },
  {
   "cell_type": "code",
   "execution_count": 15,
   "metadata": {
    "ExecuteTime": {
     "end_time": "2022-03-13T10:16:34.973720Z",
     "start_time": "2022-03-13T10:16:34.966486Z"
    }
   },
   "outputs": [
    {
     "name": "stdout",
     "output_type": "stream",
     "text": [
      "count distribution\n",
      "0    5113\n",
      "1    1537\n",
      "Name: Is_Churn, dtype: int64\n",
      "\n",
      "\n",
      "proportion distribution\n",
      "0    0.768872\n",
      "1    0.231128\n",
      "Name: Is_Churn, dtype: float64\n"
     ]
    }
   ],
   "source": [
    "# verify the distribution of target column (Is_Churn)\n",
    "\n",
    "# count distribution\n",
    "print('count distribution')\n",
    "print(train['Is_Churn'].value_counts())\n",
    "print('\\n')\n",
    "\n",
    "# proportion distribution\n",
    "print('proportion distribution')\n",
    "print(train['Is_Churn'].value_counts(1))"
   ]
  },
  {
   "cell_type": "markdown",
   "metadata": {},
   "source": [
    "### Univariate analysis for each feature except ID"
   ]
  },
  {
   "cell_type": "code",
   "execution_count": 16,
   "metadata": {
    "ExecuteTime": {
     "end_time": "2022-03-13T10:16:35.840738Z",
     "start_time": "2022-03-13T10:16:35.674024Z"
    }
   },
   "outputs": [
    {
     "data": {
      "text/plain": [
       "<matplotlib.axes._subplots.AxesSubplot at 0x7f9904122a20>"
      ]
     },
     "execution_count": 16,
     "metadata": {},
     "output_type": "execute_result"
    },
    {
     "data": {
      "image/png": "[encoded data removed]",
      "text/plain": [
       "<Figure size 432x288 with 1 Axes>"
      ]
     },
     "metadata": {
      "needs_background": "light"
     },
     "output_type": "display_data"
    }
   ],
   "source": [
    "sns.kdeplot(train[\"Age\"])"
   ]
  },
  {
   "cell_type": "code",
   "execution_count": 17,
   "metadata": {
    "ExecuteTime": {
     "end_time": "2022-03-13T10:16:36.265996Z",
     "start_time": "2022-03-13T10:16:36.257823Z"
    }
   },
   "outputs": [
    {
     "name": "stdout",
     "output_type": "stream",
     "text": [
      "Male      3612\n",
      "Female    3038\n",
      "Name: Gender, dtype: int64\n",
      "Male      0.543158\n",
      "Female    0.456842\n",
      "Name: Gender, dtype: float64\n"
     ]
    }
   ],
   "source": [
    "print(train['Gender'].value_counts())\n",
    "print(train['Gender'].value_counts(1))"
   ]
  },
  {
   "cell_type": "code",
   "execution_count": 18,
   "metadata": {
    "ExecuteTime": {
     "end_time": "2022-03-13T10:16:36.564071Z",
     "start_time": "2022-03-13T10:16:36.556611Z"
    }
   },
   "outputs": [
    {
     "name": "stdout",
     "output_type": "stream",
     "text": [
      "10L - 15L        1885\n",
      "5L - 10L         1847\n",
      "Less than 5L     1573\n",
      "More than 15L    1345\n",
      "Name: Income, dtype: int64\n",
      "10L - 15L        0.283459\n",
      "5L - 10L         0.277744\n",
      "Less than 5L     0.236541\n",
      "More than 15L    0.202256\n",
      "Name: Income, dtype: float64\n"
     ]
    }
   ],
   "source": [
    "print(train['Income'].value_counts())\n",
    "print(train['Income'].value_counts(1))"
   ]
  },
  {
   "cell_type": "code",
   "execution_count": 19,
   "metadata": {
    "ExecuteTime": {
     "end_time": "2022-03-13T10:16:37.015404Z",
     "start_time": "2022-03-13T10:16:36.857403Z"
    }
   },
   "outputs": [
    {
     "data": {
      "text/plain": [
       "<matplotlib.axes._subplots.AxesSubplot at 0x7f990401de48>"
      ]
     },
     "execution_count": 19,
     "metadata": {},
     "output_type": "execute_result"
    },
    {
     "data": {
      "image/png": "[encoded data removed]",
      "text/plain": [
       "<Figure size 432x288 with 1 Axes>"
      ]
     },
     "metadata": {
      "needs_background": "light"
     },
     "output_type": "display_data"
    }
   ],
   "source": [
    "sns.kdeplot(train[\"Balance\"])"
   ]
  },
  {
   "cell_type": "code",
   "execution_count": 20,
   "metadata": {
    "ExecuteTime": {
     "end_time": "2022-03-13T10:16:37.235463Z",
     "start_time": "2022-03-13T10:16:37.228862Z"
    }
   },
   "outputs": [
    {
     "name": "stdout",
     "output_type": "stream",
     "text": [
      "3    1405\n",
      "1    1354\n",
      "2    1328\n",
      "4    1296\n",
      "0     956\n",
      "5     311\n",
      "Name: Vintage, dtype: int64\n",
      "3    0.211278\n",
      "1    0.203609\n",
      "2    0.199699\n",
      "4    0.194887\n",
      "0    0.143759\n",
      "5    0.046767\n",
      "Name: Vintage, dtype: float64\n"
     ]
    }
   ],
   "source": [
    "print(train['Vintage'].value_counts())\n",
    "print(train['Vintage'].value_counts(1))"
   ]
  },
  {
   "cell_type": "code",
   "execution_count": 21,
   "metadata": {
    "ExecuteTime": {
     "end_time": "2022-03-13T10:16:37.459230Z",
     "start_time": "2022-03-13T10:16:37.453059Z"
    }
   },
   "outputs": [
    {
     "name": "stdout",
     "output_type": "stream",
     "text": [
      "1    3430\n",
      "0    3220\n",
      "Name: Transaction_Status, dtype: int64\n",
      "1    0.515789\n",
      "0    0.484211\n",
      "Name: Transaction_Status, dtype: float64\n"
     ]
    }
   ],
   "source": [
    "print(train['Transaction_Status'].value_counts())\n",
    "print(train['Transaction_Status'].value_counts(1))"
   ]
  },
  {
   "cell_type": "code",
   "execution_count": 22,
   "metadata": {
    "ExecuteTime": {
     "end_time": "2022-03-13T10:16:37.727853Z",
     "start_time": "2022-03-13T10:16:37.720130Z"
    },
    "scrolled": true
   },
   "outputs": [
    {
     "name": "stdout",
     "output_type": "stream",
     "text": [
      "1     3200\n",
      "2     3182\n",
      "3+     268\n",
      "Name: Product_Holdings, dtype: int64\n",
      "1     0.481203\n",
      "2     0.478496\n",
      "3+    0.040301\n",
      "Name: Product_Holdings, dtype: float64\n"
     ]
    }
   ],
   "source": [
    "print(train['Product_Holdings'].value_counts())\n",
    "print(train['Product_Holdings'].value_counts(1))"
   ]
  },
  {
   "cell_type": "code",
   "execution_count": 23,
   "metadata": {
    "ExecuteTime": {
     "end_time": "2022-03-13T10:16:38.054683Z",
     "start_time": "2022-03-13T10:16:38.047365Z"
    }
   },
   "outputs": [
    {
     "name": "stdout",
     "output_type": "stream",
     "text": [
      "1    4418\n",
      "0    2232\n",
      "Name: Credit_Card, dtype: int64\n",
      "1    0.664361\n",
      "0    0.335639\n",
      "Name: Credit_Card, dtype: float64\n"
     ]
    }
   ],
   "source": [
    "print(train['Credit_Card'].value_counts())\n",
    "print(train['Credit_Card'].value_counts(1))"
   ]
  },
  {
   "cell_type": "code",
   "execution_count": 24,
   "metadata": {
    "ExecuteTime": {
     "end_time": "2022-03-13T10:16:38.352211Z",
     "start_time": "2022-03-13T10:16:38.343248Z"
    }
   },
   "outputs": [
    {
     "name": "stdout",
     "output_type": "stream",
     "text": [
      "Poor       3076\n",
      "Average    2043\n",
      "Good       1531\n",
      "Name: Credit_Category, dtype: int64\n",
      "Poor       0.462556\n",
      "Average    0.307218\n",
      "Good       0.230226\n",
      "Name: Credit_Category, dtype: float64\n"
     ]
    }
   ],
   "source": [
    "print(train['Credit_Category'].value_counts())\n",
    "print(train['Credit_Category'].value_counts(1))"
   ]
  },
  {
   "cell_type": "markdown",
   "metadata": {},
   "source": [
    "### Bi-variate analysis for each feature except ID, with respect to target column (Is_Churn)"
   ]
  },
  {
   "cell_type": "code",
   "execution_count": 25,
   "metadata": {
    "ExecuteTime": {
     "end_time": "2022-03-13T10:16:39.278635Z",
     "start_time": "2022-03-13T10:16:39.135989Z"
    }
   },
   "outputs": [
    {
     "data": {
      "text/plain": [
       "<matplotlib.axes._subplots.AxesSubplot at 0x7f990404db38>"
      ]
     },
     "execution_count": 25,
     "metadata": {},
     "output_type": "execute_result"
    },
    {
     "data": {
      "image/png": "[encoded data removed]",
      "text/plain": [
       "<Figure size 432x288 with 1 Axes>"
      ]
     },
     "metadata": {
      "needs_background": "light"
     },
     "output_type": "display_data"
    }
   ],
   "source": [
    "sns.boxplot(train['Is_Churn'], train['Age'])"
   ]
  },
  {
   "cell_type": "code",
   "execution_count": 26,
   "metadata": {
    "ExecuteTime": {
     "end_time": "2022-03-13T10:16:39.586236Z",
     "start_time": "2022-03-13T10:16:39.563202Z"
    }
   },
   "outputs": [
    {
     "data": {
      "text/html": [
       "<div>\n",
       "<style scoped>\n",
       "    .dataframe tbody tr th:only-of-type {\n",
       "        vertical-align: middle;\n",
       "    }\n",
       "\n",
       "    .dataframe tbody tr th {\n",
       "        vertical-align: top;\n",
       "    }\n",
       "\n",
       "    .dataframe thead th {\n",
       "        text-align: right;\n",
       "    }\n",
       "</style>\n",
       "<table border=\"1\" class=\"dataframe\">\n",
       "  <thead>\n",
       "    <tr style=\"text-align: right;\">\n",
       "      <th>Gender</th>\n",
       "      <th>Female</th>\n",
       "      <th>Male</th>\n",
       "    </tr>\n",
       "    <tr>\n",
       "      <th>Is_Churn</th>\n",
       "      <th></th>\n",
       "      <th></th>\n",
       "    </tr>\n",
       "  </thead>\n",
       "  <tbody>\n",
       "    <tr>\n",
       "      <th>0</th>\n",
       "      <td>2261</td>\n",
       "      <td>2852</td>\n",
       "    </tr>\n",
       "    <tr>\n",
       "      <th>1</th>\n",
       "      <td>777</td>\n",
       "      <td>760</td>\n",
       "    </tr>\n",
       "  </tbody>\n",
       "</table>\n",
       "</div>"
      ],
      "text/plain": [
       "Gender    Female  Male\n",
       "Is_Churn              \n",
       "0           2261  2852\n",
       "1            777   760"
      ]
     },
     "execution_count": 26,
     "metadata": {},
     "output_type": "execute_result"
    }
   ],
   "source": [
    "pd.crosstab(train['Is_Churn'], train['Gender'])"
   ]
  },
  {
   "cell_type": "code",
   "execution_count": 27,
   "metadata": {
    "ExecuteTime": {
     "end_time": "2022-03-13T10:16:39.861782Z",
     "start_time": "2022-03-13T10:16:39.843354Z"
    }
   },
   "outputs": [
    {
     "data": {
      "text/html": [
       "<div>\n",
       "<style scoped>\n",
       "    .dataframe tbody tr th:only-of-type {\n",
       "        vertical-align: middle;\n",
       "    }\n",
       "\n",
       "    .dataframe tbody tr th {\n",
       "        vertical-align: top;\n",
       "    }\n",
       "\n",
       "    .dataframe thead th {\n",
       "        text-align: right;\n",
       "    }\n",
       "</style>\n",
       "<table border=\"1\" class=\"dataframe\">\n",
       "  <thead>\n",
       "    <tr style=\"text-align: right;\">\n",
       "      <th>Income</th>\n",
       "      <th>10L - 15L</th>\n",
       "      <th>5L - 10L</th>\n",
       "      <th>Less than 5L</th>\n",
       "      <th>More than 15L</th>\n",
       "    </tr>\n",
       "    <tr>\n",
       "      <th>Is_Churn</th>\n",
       "      <th></th>\n",
       "      <th></th>\n",
       "      <th></th>\n",
       "      <th></th>\n",
       "    </tr>\n",
       "  </thead>\n",
       "  <tbody>\n",
       "    <tr>\n",
       "      <th>0</th>\n",
       "      <td>1441</td>\n",
       "      <td>1435</td>\n",
       "      <td>1219</td>\n",
       "      <td>1018</td>\n",
       "    </tr>\n",
       "    <tr>\n",
       "      <th>1</th>\n",
       "      <td>444</td>\n",
       "      <td>412</td>\n",
       "      <td>354</td>\n",
       "      <td>327</td>\n",
       "    </tr>\n",
       "  </tbody>\n",
       "</table>\n",
       "</div>"
      ],
      "text/plain": [
       "Income    10L - 15L  5L - 10L  Less than 5L  More than 15L\n",
       "Is_Churn                                                  \n",
       "0              1441      1435          1219           1018\n",
       "1               444       412           354            327"
      ]
     },
     "execution_count": 27,
     "metadata": {},
     "output_type": "execute_result"
    }
   ],
   "source": [
    "pd.crosstab(train['Is_Churn'], train['Income'])"
   ]
  },
  {
   "cell_type": "code",
   "execution_count": 28,
   "metadata": {
    "ExecuteTime": {
     "end_time": "2022-03-13T10:16:40.305621Z",
     "start_time": "2022-03-13T10:16:40.161644Z"
    }
   },
   "outputs": [
    {
     "data": {
      "text/plain": [
       "<matplotlib.axes._subplots.AxesSubplot at 0x7f98ec726e80>"
      ]
     },
     "execution_count": 28,
     "metadata": {},
     "output_type": "execute_result"
    },
    {
     "data": {
      "image/png": "[encoded data removed]",
      "text/plain": [
       "<Figure size 432x288 with 1 Axes>"
      ]
     },
     "metadata": {
      "needs_background": "light"
     },
     "output_type": "display_data"
    }
   ],
   "source": [
    "sns.boxplot(train['Is_Churn'], train['Balance'])"
   ]
  },
  {
   "cell_type": "code",
   "execution_count": 29,
   "metadata": {
    "ExecuteTime": {
     "end_time": "2022-03-13T10:16:40.534515Z",
     "start_time": "2022-03-13T10:16:40.514633Z"
    }
   },
   "outputs": [
    {
     "data": {
      "text/html": [
       "<div>\n",
       "<style scoped>\n",
       "    .dataframe tbody tr th:only-of-type {\n",
       "        vertical-align: middle;\n",
       "    }\n",
       "\n",
       "    .dataframe tbody tr th {\n",
       "        vertical-align: top;\n",
       "    }\n",
       "\n",
       "    .dataframe thead th {\n",
       "        text-align: right;\n",
       "    }\n",
       "</style>\n",
       "<table border=\"1\" class=\"dataframe\">\n",
       "  <thead>\n",
       "    <tr style=\"text-align: right;\">\n",
       "      <th>Vintage</th>\n",
       "      <th>0</th>\n",
       "      <th>1</th>\n",
       "      <th>2</th>\n",
       "      <th>3</th>\n",
       "      <th>4</th>\n",
       "      <th>5</th>\n",
       "    </tr>\n",
       "    <tr>\n",
       "      <th>Is_Churn</th>\n",
       "      <th></th>\n",
       "      <th></th>\n",
       "      <th></th>\n",
       "      <th></th>\n",
       "      <th></th>\n",
       "      <th></th>\n",
       "    </tr>\n",
       "  </thead>\n",
       "  <tbody>\n",
       "    <tr>\n",
       "      <th>0</th>\n",
       "      <td>755</td>\n",
       "      <td>1026</td>\n",
       "      <td>1052</td>\n",
       "      <td>1066</td>\n",
       "      <td>975</td>\n",
       "      <td>239</td>\n",
       "    </tr>\n",
       "    <tr>\n",
       "      <th>1</th>\n",
       "      <td>201</td>\n",
       "      <td>328</td>\n",
       "      <td>276</td>\n",
       "      <td>339</td>\n",
       "      <td>321</td>\n",
       "      <td>72</td>\n",
       "    </tr>\n",
       "  </tbody>\n",
       "</table>\n",
       "</div>"
      ],
      "text/plain": [
       "Vintage     0     1     2     3    4    5\n",
       "Is_Churn                                 \n",
       "0         755  1026  1052  1066  975  239\n",
       "1         201   328   276   339  321   72"
      ]
     },
     "execution_count": 29,
     "metadata": {},
     "output_type": "execute_result"
    }
   ],
   "source": [
    "pd.crosstab(train['Is_Churn'], train['Vintage'])"
   ]
  },
  {
   "cell_type": "code",
   "execution_count": 30,
   "metadata": {
    "ExecuteTime": {
     "end_time": "2022-03-13T10:16:40.928573Z",
     "start_time": "2022-03-13T10:16:40.791182Z"
    }
   },
   "outputs": [
    {
     "data": {
      "text/plain": [
       "<matplotlib.axes._subplots.AxesSubplot at 0x7f98ec642160>"
      ]
     },
     "execution_count": 30,
     "metadata": {},
     "output_type": "execute_result"
    },
    {
     "data": {
      "image/png": "[encoded data removed]",
      "text/plain": [
       "<Figure size 432x288 with 1 Axes>"
      ]
     },
     "metadata": {
      "needs_background": "light"
     },
     "output_type": "display_data"
    }
   ],
   "source": [
    "sns.boxplot(train['Is_Churn'], train['Vintage'])"
   ]
  },
  {
   "cell_type": "code",
   "execution_count": 31,
   "metadata": {
    "ExecuteTime": {
     "end_time": "2022-03-13T10:16:41.156493Z",
     "start_time": "2022-03-13T10:16:41.138566Z"
    }
   },
   "outputs": [
    {
     "data": {
      "text/html": [
       "<div>\n",
       "<style scoped>\n",
       "    .dataframe tbody tr th:only-of-type {\n",
       "        vertical-align: middle;\n",
       "    }\n",
       "\n",
       "    .dataframe tbody tr th {\n",
       "        vertical-align: top;\n",
       "    }\n",
       "\n",
       "    .dataframe thead th {\n",
       "        text-align: right;\n",
       "    }\n",
       "</style>\n",
       "<table border=\"1\" class=\"dataframe\">\n",
       "  <thead>\n",
       "    <tr style=\"text-align: right;\">\n",
       "      <th>Transaction_Status</th>\n",
       "      <th>0</th>\n",
       "      <th>1</th>\n",
       "    </tr>\n",
       "    <tr>\n",
       "      <th>Is_Churn</th>\n",
       "      <th></th>\n",
       "      <th></th>\n",
       "    </tr>\n",
       "  </thead>\n",
       "  <tbody>\n",
       "    <tr>\n",
       "      <th>0</th>\n",
       "      <td>2354</td>\n",
       "      <td>2759</td>\n",
       "    </tr>\n",
       "    <tr>\n",
       "      <th>1</th>\n",
       "      <td>866</td>\n",
       "      <td>671</td>\n",
       "    </tr>\n",
       "  </tbody>\n",
       "</table>\n",
       "</div>"
      ],
      "text/plain": [
       "Transaction_Status     0     1\n",
       "Is_Churn                      \n",
       "0                   2354  2759\n",
       "1                    866   671"
      ]
     },
     "execution_count": 31,
     "metadata": {},
     "output_type": "execute_result"
    }
   ],
   "source": [
    "pd.crosstab(train['Is_Churn'], train['Transaction_Status'])"
   ]
  },
  {
   "cell_type": "code",
   "execution_count": 32,
   "metadata": {
    "ExecuteTime": {
     "end_time": "2022-03-13T10:16:41.382411Z",
     "start_time": "2022-03-13T10:16:41.364396Z"
    }
   },
   "outputs": [
    {
     "data": {
      "text/html": [
       "<div>\n",
       "<style scoped>\n",
       "    .dataframe tbody tr th:only-of-type {\n",
       "        vertical-align: middle;\n",
       "    }\n",
       "\n",
       "    .dataframe tbody tr th {\n",
       "        vertical-align: top;\n",
       "    }\n",
       "\n",
       "    .dataframe thead th {\n",
       "        text-align: right;\n",
       "    }\n",
       "</style>\n",
       "<table border=\"1\" class=\"dataframe\">\n",
       "  <thead>\n",
       "    <tr style=\"text-align: right;\">\n",
       "      <th>Product_Holdings</th>\n",
       "      <th>1</th>\n",
       "      <th>2</th>\n",
       "      <th>3+</th>\n",
       "    </tr>\n",
       "    <tr>\n",
       "      <th>Is_Churn</th>\n",
       "      <th></th>\n",
       "      <th></th>\n",
       "      <th></th>\n",
       "    </tr>\n",
       "  </thead>\n",
       "  <tbody>\n",
       "    <tr>\n",
       "      <th>0</th>\n",
       "      <td>2414</td>\n",
       "      <td>2490</td>\n",
       "      <td>209</td>\n",
       "    </tr>\n",
       "    <tr>\n",
       "      <th>1</th>\n",
       "      <td>786</td>\n",
       "      <td>692</td>\n",
       "      <td>59</td>\n",
       "    </tr>\n",
       "  </tbody>\n",
       "</table>\n",
       "</div>"
      ],
      "text/plain": [
       "Product_Holdings     1     2   3+\n",
       "Is_Churn                         \n",
       "0                 2414  2490  209\n",
       "1                  786   692   59"
      ]
     },
     "execution_count": 32,
     "metadata": {},
     "output_type": "execute_result"
    }
   ],
   "source": [
    "pd.crosstab(train['Is_Churn'], train['Product_Holdings'])"
   ]
  },
  {
   "cell_type": "code",
   "execution_count": 33,
   "metadata": {
    "ExecuteTime": {
     "end_time": "2022-03-13T10:16:41.701610Z",
     "start_time": "2022-03-13T10:16:41.680991Z"
    }
   },
   "outputs": [
    {
     "data": {
      "text/html": [
       "<div>\n",
       "<style scoped>\n",
       "    .dataframe tbody tr th:only-of-type {\n",
       "        vertical-align: middle;\n",
       "    }\n",
       "\n",
       "    .dataframe tbody tr th {\n",
       "        vertical-align: top;\n",
       "    }\n",
       "\n",
       "    .dataframe thead th {\n",
       "        text-align: right;\n",
       "    }\n",
       "</style>\n",
       "<table border=\"1\" class=\"dataframe\">\n",
       "  <thead>\n",
       "    <tr style=\"text-align: right;\">\n",
       "      <th>Credit_Card</th>\n",
       "      <th>0</th>\n",
       "      <th>1</th>\n",
       "    </tr>\n",
       "    <tr>\n",
       "      <th>Is_Churn</th>\n",
       "      <th></th>\n",
       "      <th></th>\n",
       "    </tr>\n",
       "  </thead>\n",
       "  <tbody>\n",
       "    <tr>\n",
       "      <th>0</th>\n",
       "      <td>1715</td>\n",
       "      <td>3398</td>\n",
       "    </tr>\n",
       "    <tr>\n",
       "      <th>1</th>\n",
       "      <td>517</td>\n",
       "      <td>1020</td>\n",
       "    </tr>\n",
       "  </tbody>\n",
       "</table>\n",
       "</div>"
      ],
      "text/plain": [
       "Credit_Card     0     1\n",
       "Is_Churn               \n",
       "0            1715  3398\n",
       "1             517  1020"
      ]
     },
     "execution_count": 33,
     "metadata": {},
     "output_type": "execute_result"
    }
   ],
   "source": [
    "pd.crosstab(train['Is_Churn'], train['Credit_Card'])"
   ]
  },
  {
   "cell_type": "code",
   "execution_count": 34,
   "metadata": {
    "ExecuteTime": {
     "end_time": "2022-03-13T10:16:42.061187Z",
     "start_time": "2022-03-13T10:16:42.042454Z"
    }
   },
   "outputs": [
    {
     "data": {
      "text/html": [
       "<div>\n",
       "<style scoped>\n",
       "    .dataframe tbody tr th:only-of-type {\n",
       "        vertical-align: middle;\n",
       "    }\n",
       "\n",
       "    .dataframe tbody tr th {\n",
       "        vertical-align: top;\n",
       "    }\n",
       "\n",
       "    .dataframe thead th {\n",
       "        text-align: right;\n",
       "    }\n",
       "</style>\n",
       "<table border=\"1\" class=\"dataframe\">\n",
       "  <thead>\n",
       "    <tr style=\"text-align: right;\">\n",
       "      <th>Credit_Category</th>\n",
       "      <th>Average</th>\n",
       "      <th>Good</th>\n",
       "      <th>Poor</th>\n",
       "    </tr>\n",
       "    <tr>\n",
       "      <th>Is_Churn</th>\n",
       "      <th></th>\n",
       "      <th></th>\n",
       "      <th></th>\n",
       "    </tr>\n",
       "  </thead>\n",
       "  <tbody>\n",
       "    <tr>\n",
       "      <th>0</th>\n",
       "      <td>1572</td>\n",
       "      <td>1220</td>\n",
       "      <td>2321</td>\n",
       "    </tr>\n",
       "    <tr>\n",
       "      <th>1</th>\n",
       "      <td>471</td>\n",
       "      <td>311</td>\n",
       "      <td>755</td>\n",
       "    </tr>\n",
       "  </tbody>\n",
       "</table>\n",
       "</div>"
      ],
      "text/plain": [
       "Credit_Category  Average  Good  Poor\n",
       "Is_Churn                            \n",
       "0                   1572  1220  2321\n",
       "1                    471   311   755"
      ]
     },
     "execution_count": 34,
     "metadata": {},
     "output_type": "execute_result"
    }
   ],
   "source": [
    "pd.crosstab(train['Is_Churn'], train['Credit_Category'])"
   ]
  },
  {
   "cell_type": "markdown",
   "metadata": {},
   "source": [
    "## Feature Engineering"
   ]
  },
  {
   "cell_type": "markdown",
   "metadata": {},
   "source": [
    "### Create new features"
   ]
  },
  {
   "cell_type": "code",
   "execution_count": 35,
   "metadata": {
    "ExecuteTime": {
     "end_time": "2022-03-13T10:16:43.669376Z",
     "start_time": "2022-03-13T10:16:43.666441Z"
    }
   },
   "outputs": [],
   "source": [
    "Income_dict = {'Less than 5L':1, '5L - 10L':2, '10L - 15L':3, 'More than 15L':4}"
   ]
  },
  {
   "cell_type": "code",
   "execution_count": 36,
   "metadata": {
    "ExecuteTime": {
     "end_time": "2022-03-13T10:16:48.671140Z",
     "start_time": "2022-03-13T10:16:44.069722Z"
    }
   },
   "outputs": [],
   "source": [
    "train['Gender_num'] = train['Gender'].apply(lambda row: 1 if row=='Male' else 0)\n",
    "train['Income_num'] = train['Income'].apply(lambda row: Income_dict[row] if row in Income_dict.keys() else 0)\n",
    "train['Product_Holdings_1'] = train['Product_Holdings'].apply(lambda row: 1 if row=='1' else 0)\n",
    "train['Product_Holdings_2'] = train['Product_Holdings'].apply(lambda row: 1 if row=='2' else 0)\n",
    "train['Product_Holdings_3_plus'] = train['Product_Holdings'].apply(lambda row: 1 if row=='3+' else 0)\n",
    "train['Credit_Category_Good'] = train['Credit_Category'].apply(lambda row: 1 if row=='Good' else 0)\n",
    "train['Credit_Category_Poor'] = train['Credit_Category'].apply(lambda row: 1 if row=='Poor' else 0)\n",
    "train['Credit_Category_Average'] = train['Credit_Category'].apply(lambda row: 1 if row=='Average' else 0)\n",
    "\n",
    "train['Income_Age_ratio'] = train.apply(lambda x: x.Income_num/x.Age if x.Age!=0 else 0, axis=1)\n",
    "train['Vintage_Age_ratio'] = train.apply(lambda x: x.Vintage/x.Age if x.Age!=0 else 0, axis=1)\n",
    "train['Balance_Income_ratio'] = train.apply(lambda x: x.Balance/x.Income_num if x.Income_num!=0 else 0, axis=1)\n",
    "train['Balance_Age_ratio'] = train.apply(lambda x: x.Balance/x.Age if x.Age!=0 else 0, axis=1)\n",
    "train['Vintage_Balance_ratio'] = train.apply(lambda x: x.Vintage/x.Balance if x.Balance!=0 else 0, axis=1)\n",
    "train['Vintage_Income_ratio'] = train.apply(lambda x: x.Vintage/x.Income_num if x.Income_num!=0 else 0, axis=1)\n",
    "\n",
    "train['Income_squared'] = train['Income_num'].apply(lambda row: pow(row, 2))\n",
    "train['Vintage_squared'] = train['Vintage'].apply(lambda row: pow(row, 2))\n",
    "\n",
    "train['Product_Holdings_num'] = train['Product_Holdings'].apply(lambda row: 1 if row=='1' else 2 if row=='2' else 3\n",
    "                                                                if row=='3+' else 0)\n",
    "train['Age_Product_Holdings_ratio'] = train.apply(lambda x: x.Age/x.Product_Holdings_num \n",
    "                                                  if x.Product_Holdings_num!=0 else 0, axis=1)\n",
    "train['Income_Product_Holdings_ratio'] = train.apply(lambda x: x.Income_num/x.Product_Holdings_num \n",
    "                                                     if x.Product_Holdings_num!=0 else 0, axis=1)\n",
    "train['Balance_Product_Holdings_ratio'] = train.apply(lambda x: x.Balance/x.Product_Holdings_num \n",
    "                                                      if x.Product_Holdings_num!=0 else 0, axis=1)\n",
    "train['Vintage_Product_Holdings_ratio'] = train.apply(lambda x: x.Vintage/x.Product_Holdings_num \n",
    "                                                      if x.Product_Holdings_num!=0 else 0, axis=1)\n",
    "train['Product_Holdings_squared'] = train['Product_Holdings_num'].apply(lambda row: pow(row, 2))\n",
    "\n",
    "train['Income_squared_Age_ratio'] = train.apply(lambda x: x.Income_squared/x.Age if x.Age!=0 else 0, axis=1)\n",
    "train['Vintage_squared_Age_ratio'] = train.apply(lambda x: x.Vintage_squared/x.Age if x.Age!=0 else 0, axis=1)\n",
    "train['Balance_Income_squared_ratio'] = train.apply(lambda x: x.Balance/x.Income_squared if x.Income_squared!=0 else 0, \n",
    "                                                    axis=1)\n",
    "train['Vintage_squared_Balance_ratio'] = train.apply(lambda x: x.Vintage_squared/x.Balance if x.Balance!=0 else 0, axis=1)\n",
    "train['Vintage_Income_squared_ratio'] = train.apply(lambda x: x.Vintage/x.Income_squared if x.Income_squared!=0 else 0, \n",
    "                                                    axis=1)\n",
    "train['Vintage_squared_Income_ratio'] = train.apply(lambda x: x.Vintage_squared/x.Income_num if x.Income_squared!=0 \n",
    "                                                    else 0,  axis=1)\n",
    "train['Vintage_squared_Income_squared_ratio'] = train.apply(lambda x: x.Vintage_squared/x.Income_squared \n",
    "                                                            if x.Income_squared!=0 else 0,  axis=1)\n",
    "\n",
    "\n",
    "train['Age_Product_Holdings_squared_ratio'] = train.apply(lambda x: x.Age/x.Product_Holdings_squared \n",
    "                                                  if x.Product_Holdings_squared!=0 else 0, axis=1)\n",
    "train['Balance_Product_Holdings_squared_ratio'] = train.apply(lambda x: x.Balance/x.Product_Holdings_squared \n",
    "                                                      if x.Product_Holdings_squared!=0 else 0, axis=1)\n",
    "train['Income_Product_Holdings_squared_ratio'] = train.apply(lambda x: x.Income_num/x.Product_Holdings_squared \n",
    "                                                     if x.Product_Holdings_squared!=0 else 0, axis=1)\n",
    "train['Income_squared_Product_Holdings_ratio'] = train.apply(lambda x: x.Income_squared/x.Product_Holdings_num\n",
    "                                                     if x.Product_Holdings_num!=0 else 0, axis=1)\n",
    "train['Income_squared_Product_Holdings_squared_ratio'] = train.apply(lambda x: x.Income_squared\n",
    "                                                                     /x.Product_Holdings_squared \n",
    "                                                     if x.Product_Holdings_squared!=0 else 0, axis=1)\n",
    "train['Vintage_Product_Holdings_squared_ratio'] = train.apply(lambda x: x.Vintage/x.Product_Holdings_squared \n",
    "                                                      if x.Product_Holdings_squared!=0 else 0, axis=1)\n",
    "train['Vintage_squared_Product_Holdings_ratio'] = train.apply(lambda x: x.Vintage_squared/x.Product_Holdings_num\n",
    "                                                      if x.Product_Holdings_num!=0 else 0, axis=1)\n",
    "train['Vintage_squared_Product_Holdings_squared_ratio'] = train.apply(lambda x: x.Vintage_squared\n",
    "                                                                      /x.Product_Holdings_squared \n",
    "                                                      if x.Product_Holdings_squared!=0 else 0, axis=1)"
   ]
  },
  {
   "cell_type": "markdown",
   "metadata": {},
   "source": [
    "### Verifying details and descriptions of new features"
   ]
  },
  {
   "cell_type": "code",
   "execution_count": 37,
   "metadata": {
    "ExecuteTime": {
     "end_time": "2022-03-13T10:16:48.970996Z",
     "start_time": "2022-03-13T10:16:48.944781Z"
    }
   },
   "outputs": [
    {
     "data": {
      "text/html": [
       "<div>\n",
       "<style scoped>\n",
       "    .dataframe tbody tr th:only-of-type {\n",
       "        vertical-align: middle;\n",
       "    }\n",
       "\n",
       "    .dataframe tbody tr th {\n",
       "        vertical-align: top;\n",
       "    }\n",
       "\n",
       "    .dataframe thead th {\n",
       "        text-align: right;\n",
       "    }\n",
       "</style>\n",
       "<table border=\"1\" class=\"dataframe\">\n",
       "  <thead>\n",
       "    <tr style=\"text-align: right;\">\n",
       "      <th></th>\n",
       "      <th>ID</th>\n",
       "      <th>Age</th>\n",
       "      <th>Gender</th>\n",
       "      <th>Income</th>\n",
       "      <th>Balance</th>\n",
       "      <th>Vintage</th>\n",
       "      <th>Transaction_Status</th>\n",
       "      <th>Product_Holdings</th>\n",
       "      <th>Credit_Card</th>\n",
       "      <th>Credit_Category</th>\n",
       "      <th>...</th>\n",
       "      <th>Vintage_squared_Income_ratio</th>\n",
       "      <th>Vintage_squared_Income_squared_ratio</th>\n",
       "      <th>Age_Product_Holdings_squared_ratio</th>\n",
       "      <th>Balance_Product_Holdings_squared_ratio</th>\n",
       "      <th>Income_Product_Holdings_squared_ratio</th>\n",
       "      <th>Income_squared_Product_Holdings_ratio</th>\n",
       "      <th>Income_squared_Product_Holdings_squared_ratio</th>\n",
       "      <th>Vintage_Product_Holdings_squared_ratio</th>\n",
       "      <th>Vintage_squared_Product_Holdings_ratio</th>\n",
       "      <th>Vintage_squared_Product_Holdings_squared_ratio</th>\n",
       "    </tr>\n",
       "  </thead>\n",
       "  <tbody>\n",
       "    <tr>\n",
       "      <th>0</th>\n",
       "      <td>84e2fcc9</td>\n",
       "      <td>36</td>\n",
       "      <td>Female</td>\n",
       "      <td>5L - 10L</td>\n",
       "      <td>563266.44</td>\n",
       "      <td>4</td>\n",
       "      <td>0</td>\n",
       "      <td>1</td>\n",
       "      <td>0</td>\n",
       "      <td>Average</td>\n",
       "      <td>...</td>\n",
       "      <td>8.00</td>\n",
       "      <td>4.0000</td>\n",
       "      <td>36.00</td>\n",
       "      <td>563266.440</td>\n",
       "      <td>2.0</td>\n",
       "      <td>4.0</td>\n",
       "      <td>4.0</td>\n",
       "      <td>4.0</td>\n",
       "      <td>16.0</td>\n",
       "      <td>16.0</td>\n",
       "    </tr>\n",
       "    <tr>\n",
       "      <th>1</th>\n",
       "      <td>57fea15e</td>\n",
       "      <td>53</td>\n",
       "      <td>Female</td>\n",
       "      <td>Less than 5L</td>\n",
       "      <td>875572.11</td>\n",
       "      <td>2</td>\n",
       "      <td>1</td>\n",
       "      <td>1</td>\n",
       "      <td>1</td>\n",
       "      <td>Poor</td>\n",
       "      <td>...</td>\n",
       "      <td>4.00</td>\n",
       "      <td>4.0000</td>\n",
       "      <td>53.00</td>\n",
       "      <td>875572.110</td>\n",
       "      <td>1.0</td>\n",
       "      <td>1.0</td>\n",
       "      <td>1.0</td>\n",
       "      <td>2.0</td>\n",
       "      <td>4.0</td>\n",
       "      <td>4.0</td>\n",
       "    </tr>\n",
       "    <tr>\n",
       "      <th>2</th>\n",
       "      <td>8df34ef3</td>\n",
       "      <td>35</td>\n",
       "      <td>Female</td>\n",
       "      <td>More than 15L</td>\n",
       "      <td>701607.06</td>\n",
       "      <td>2</td>\n",
       "      <td>1</td>\n",
       "      <td>2</td>\n",
       "      <td>0</td>\n",
       "      <td>Poor</td>\n",
       "      <td>...</td>\n",
       "      <td>1.00</td>\n",
       "      <td>0.2500</td>\n",
       "      <td>8.75</td>\n",
       "      <td>175401.765</td>\n",
       "      <td>1.0</td>\n",
       "      <td>8.0</td>\n",
       "      <td>4.0</td>\n",
       "      <td>0.5</td>\n",
       "      <td>2.0</td>\n",
       "      <td>1.0</td>\n",
       "    </tr>\n",
       "    <tr>\n",
       "      <th>3</th>\n",
       "      <td>c5c0788b</td>\n",
       "      <td>43</td>\n",
       "      <td>Female</td>\n",
       "      <td>More than 15L</td>\n",
       "      <td>1393922.16</td>\n",
       "      <td>0</td>\n",
       "      <td>1</td>\n",
       "      <td>2</td>\n",
       "      <td>1</td>\n",
       "      <td>Poor</td>\n",
       "      <td>...</td>\n",
       "      <td>0.00</td>\n",
       "      <td>0.0000</td>\n",
       "      <td>10.75</td>\n",
       "      <td>348480.540</td>\n",
       "      <td>1.0</td>\n",
       "      <td>8.0</td>\n",
       "      <td>4.0</td>\n",
       "      <td>0.0</td>\n",
       "      <td>0.0</td>\n",
       "      <td>0.0</td>\n",
       "    </tr>\n",
       "    <tr>\n",
       "      <th>4</th>\n",
       "      <td>951d69c4</td>\n",
       "      <td>39</td>\n",
       "      <td>Female</td>\n",
       "      <td>More than 15L</td>\n",
       "      <td>893146.23</td>\n",
       "      <td>1</td>\n",
       "      <td>1</td>\n",
       "      <td>1</td>\n",
       "      <td>1</td>\n",
       "      <td>Good</td>\n",
       "      <td>...</td>\n",
       "      <td>0.25</td>\n",
       "      <td>0.0625</td>\n",
       "      <td>39.00</td>\n",
       "      <td>893146.230</td>\n",
       "      <td>4.0</td>\n",
       "      <td>16.0</td>\n",
       "      <td>16.0</td>\n",
       "      <td>1.0</td>\n",
       "      <td>1.0</td>\n",
       "      <td>1.0</td>\n",
       "    </tr>\n",
       "  </tbody>\n",
       "</table>\n",
       "<p>5 rows × 48 columns</p>\n",
       "</div>"
      ],
      "text/plain": [
       "         ID  Age  Gender         Income     Balance  Vintage  \\\n",
       "0  84e2fcc9   36  Female       5L - 10L   563266.44        4   \n",
       "1  57fea15e   53  Female   Less than 5L   875572.11        2   \n",
       "2  8df34ef3   35  Female  More than 15L   701607.06        2   \n",
       "3  c5c0788b   43  Female  More than 15L  1393922.16        0   \n",
       "4  951d69c4   39  Female  More than 15L   893146.23        1   \n",
       "\n",
       "   Transaction_Status Product_Holdings  Credit_Card Credit_Category  ...  \\\n",
       "0                   0                1            0         Average  ...   \n",
       "1                   1                1            1            Poor  ...   \n",
       "2                   1                2            0            Poor  ...   \n",
       "3                   1                2            1            Poor  ...   \n",
       "4                   1                1            1            Good  ...   \n",
       "\n",
       "   Vintage_squared_Income_ratio  Vintage_squared_Income_squared_ratio  \\\n",
       "0                          8.00                                4.0000   \n",
       "1                          4.00                                4.0000   \n",
       "2                          1.00                                0.2500   \n",
       "3                          0.00                                0.0000   \n",
       "4                          0.25                                0.0625   \n",
       "\n",
       "   Age_Product_Holdings_squared_ratio  Balance_Product_Holdings_squared_ratio  \\\n",
       "0                               36.00                              563266.440   \n",
       "1                               53.00                              875572.110   \n",
       "2                                8.75                              175401.765   \n",
       "3                               10.75                              348480.540   \n",
       "4                               39.00                              893146.230   \n",
       "\n",
       "   Income_Product_Holdings_squared_ratio  \\\n",
       "0                                    2.0   \n",
       "1                                    1.0   \n",
       "2                                    1.0   \n",
       "3                                    1.0   \n",
       "4                                    4.0   \n",
       "\n",
       "   Income_squared_Product_Holdings_ratio  \\\n",
       "0                                    4.0   \n",
       "1                                    1.0   \n",
       "2                                    8.0   \n",
       "3                                    8.0   \n",
       "4                                   16.0   \n",
       "\n",
       "   Income_squared_Product_Holdings_squared_ratio  \\\n",
       "0                                            4.0   \n",
       "1                                            1.0   \n",
       "2                                            4.0   \n",
       "3                                            4.0   \n",
       "4                                           16.0   \n",
       "\n",
       "   Vintage_Product_Holdings_squared_ratio  \\\n",
       "0                                     4.0   \n",
       "1                                     2.0   \n",
       "2                                     0.5   \n",
       "3                                     0.0   \n",
       "4                                     1.0   \n",
       "\n",
       "   Vintage_squared_Product_Holdings_ratio  \\\n",
       "0                                    16.0   \n",
       "1                                     4.0   \n",
       "2                                     2.0   \n",
       "3                                     0.0   \n",
       "4                                     1.0   \n",
       "\n",
       "   Vintage_squared_Product_Holdings_squared_ratio  \n",
       "0                                            16.0  \n",
       "1                                             4.0  \n",
       "2                                             1.0  \n",
       "3                                             0.0  \n",
       "4                                             1.0  \n",
       "\n",
       "[5 rows x 48 columns]"
      ]
     },
     "execution_count": 37,
     "metadata": {},
     "output_type": "execute_result"
    }
   ],
   "source": [
    "train.head()"
   ]
  },
  {
   "cell_type": "code",
   "execution_count": 38,
   "metadata": {
    "ExecuteTime": {
     "end_time": "2022-03-13T10:16:49.244744Z",
     "start_time": "2022-03-13T10:16:49.239394Z"
    }
   },
   "outputs": [
    {
     "data": {
      "text/plain": [
       "42"
      ]
     },
     "execution_count": 38,
     "metadata": {},
     "output_type": "execute_result"
    }
   ],
   "source": [
    "feature_list = ['Age', 'Balance', 'Vintage', 'Transaction_Status', 'Credit_Card', 'Gender_num', 'Income_num', \n",
    "                'Product_Holdings_1', 'Product_Holdings_2', 'Product_Holdings_3_plus', 'Credit_Category_Good', \n",
    "                'Credit_Category_Poor', 'Credit_Category_Average', 'Income_Age_ratio', 'Vintage_Age_ratio', \n",
    "                'Balance_Income_ratio', 'Balance_Age_ratio', 'Vintage_Balance_ratio', 'Vintage_Income_ratio', \n",
    "                'Income_squared', 'Vintage_squared', 'Product_Holdings_num', 'Age_Product_Holdings_ratio', \n",
    "                'Income_Product_Holdings_ratio', 'Balance_Product_Holdings_ratio', 'Vintage_Product_Holdings_ratio', \n",
    "                'Product_Holdings_squared', 'Income_squared_Age_ratio', 'Vintage_squared_Age_ratio', \n",
    "                'Balance_Income_squared_ratio', \n",
    "                'Vintage_squared_Balance_ratio', 'Vintage_Income_squared_ratio', 'Vintage_squared_Income_ratio', \n",
    "                'Vintage_squared_Income_squared_ratio', 'Age_Product_Holdings_squared_ratio', \n",
    "                'Balance_Product_Holdings_squared_ratio', \n",
    "                'Income_Product_Holdings_squared_ratio', 'Income_squared_Product_Holdings_ratio',\n",
    "                'Income_squared_Product_Holdings_squared_ratio', 'Vintage_Product_Holdings_squared_ratio', \n",
    "                'Vintage_squared_Product_Holdings_ratio', 'Vintage_squared_Product_Holdings_squared_ratio']\n",
    "len(feature_list)"
   ]
  },
  {
   "cell_type": "code",
   "execution_count": 39,
   "metadata": {
    "ExecuteTime": {
     "end_time": "2022-03-13T10:16:51.027795Z",
     "start_time": "2022-03-13T10:16:51.023044Z"
    }
   },
   "outputs": [
    {
     "data": {
      "text/plain": [
       "['ID', 'Gender', 'Income', 'Product_Holdings', 'Credit_Category', 'Is_Churn']"
      ]
     },
     "execution_count": 39,
     "metadata": {},
     "output_type": "execute_result"
    }
   ],
   "source": [
    "[i for i in train.columns if i not in feature_list]"
   ]
  },
  {
   "cell_type": "code",
   "execution_count": 40,
   "metadata": {
    "ExecuteTime": {
     "end_time": "2022-03-13T10:16:51.806176Z",
     "start_time": "2022-03-13T10:16:51.766577Z"
    }
   },
   "outputs": [
    {
     "data": {
      "text/html": [
       "<div>\n",
       "<style scoped>\n",
       "    .dataframe tbody tr th:only-of-type {\n",
       "        vertical-align: middle;\n",
       "    }\n",
       "\n",
       "    .dataframe tbody tr th {\n",
       "        vertical-align: top;\n",
       "    }\n",
       "\n",
       "    .dataframe thead th {\n",
       "        text-align: right;\n",
       "    }\n",
       "</style>\n",
       "<table border=\"1\" class=\"dataframe\">\n",
       "  <thead>\n",
       "    <tr style=\"text-align: right;\">\n",
       "      <th></th>\n",
       "      <th>Age</th>\n",
       "      <th>Balance</th>\n",
       "      <th>Vintage</th>\n",
       "      <th>Transaction_Status</th>\n",
       "      <th>Credit_Card</th>\n",
       "      <th>Gender_num</th>\n",
       "      <th>Income_num</th>\n",
       "      <th>Product_Holdings_1</th>\n",
       "      <th>Product_Holdings_2</th>\n",
       "      <th>Product_Holdings_3_plus</th>\n",
       "      <th>Credit_Category_Good</th>\n",
       "      <th>Credit_Category_Poor</th>\n",
       "      <th>Credit_Category_Average</th>\n",
       "      <th>Income_Age_ratio</th>\n",
       "      <th>Vintage_Age_ratio</th>\n",
       "      <th>Balance_Income_ratio</th>\n",
       "      <th>Balance_Age_ratio</th>\n",
       "      <th>Vintage_Balance_ratio</th>\n",
       "      <th>Vintage_Income_ratio</th>\n",
       "      <th>Income_squared</th>\n",
       "      <th>Vintage_squared</th>\n",
       "      <th>Product_Holdings_num</th>\n",
       "      <th>Age_Product_Holdings_ratio</th>\n",
       "      <th>Income_Product_Holdings_ratio</th>\n",
       "      <th>Balance_Product_Holdings_ratio</th>\n",
       "      <th>Vintage_Product_Holdings_ratio</th>\n",
       "      <th>Product_Holdings_squared</th>\n",
       "      <th>Income_squared_Age_ratio</th>\n",
       "      <th>Vintage_squared_Age_ratio</th>\n",
       "      <th>Balance_Income_squared_ratio</th>\n",
       "      <th>Vintage_squared_Balance_ratio</th>\n",
       "      <th>Vintage_Income_squared_ratio</th>\n",
       "      <th>Vintage_squared_Income_ratio</th>\n",
       "      <th>Vintage_squared_Income_squared_ratio</th>\n",
       "      <th>Age_Product_Holdings_squared_ratio</th>\n",
       "      <th>Balance_Product_Holdings_squared_ratio</th>\n",
       "      <th>Income_Product_Holdings_squared_ratio</th>\n",
       "      <th>Income_squared_Product_Holdings_ratio</th>\n",
       "      <th>Income_squared_Product_Holdings_squared_ratio</th>\n",
       "      <th>Vintage_Product_Holdings_squared_ratio</th>\n",
       "      <th>Vintage_squared_Product_Holdings_ratio</th>\n",
       "      <th>Vintage_squared_Product_Holdings_squared_ratio</th>\n",
       "    </tr>\n",
       "  </thead>\n",
       "  <tbody>\n",
       "    <tr>\n",
       "      <th>0</th>\n",
       "      <td>36</td>\n",
       "      <td>563266.44</td>\n",
       "      <td>4</td>\n",
       "      <td>0</td>\n",
       "      <td>0</td>\n",
       "      <td>0</td>\n",
       "      <td>2</td>\n",
       "      <td>1</td>\n",
       "      <td>0</td>\n",
       "      <td>0</td>\n",
       "      <td>0</td>\n",
       "      <td>0</td>\n",
       "      <td>1</td>\n",
       "      <td>0.055556</td>\n",
       "      <td>0.111111</td>\n",
       "      <td>281633.2200</td>\n",
       "      <td>15646.290000</td>\n",
       "      <td>0.000007</td>\n",
       "      <td>2.00</td>\n",
       "      <td>4</td>\n",
       "      <td>16</td>\n",
       "      <td>1</td>\n",
       "      <td>36.0</td>\n",
       "      <td>2.0</td>\n",
       "      <td>563266.44</td>\n",
       "      <td>4.0</td>\n",
       "      <td>1</td>\n",
       "      <td>0.111111</td>\n",
       "      <td>0.444444</td>\n",
       "      <td>140816.610000</td>\n",
       "      <td>0.000028</td>\n",
       "      <td>1.0000</td>\n",
       "      <td>8.00</td>\n",
       "      <td>4.0000</td>\n",
       "      <td>36.00</td>\n",
       "      <td>563266.440</td>\n",
       "      <td>2.0</td>\n",
       "      <td>4.0</td>\n",
       "      <td>4.0</td>\n",
       "      <td>4.0</td>\n",
       "      <td>16.0</td>\n",
       "      <td>16.0</td>\n",
       "    </tr>\n",
       "    <tr>\n",
       "      <th>1</th>\n",
       "      <td>53</td>\n",
       "      <td>875572.11</td>\n",
       "      <td>2</td>\n",
       "      <td>1</td>\n",
       "      <td>1</td>\n",
       "      <td>0</td>\n",
       "      <td>1</td>\n",
       "      <td>1</td>\n",
       "      <td>0</td>\n",
       "      <td>0</td>\n",
       "      <td>0</td>\n",
       "      <td>1</td>\n",
       "      <td>0</td>\n",
       "      <td>0.018868</td>\n",
       "      <td>0.037736</td>\n",
       "      <td>875572.1100</td>\n",
       "      <td>16520.228491</td>\n",
       "      <td>0.000002</td>\n",
       "      <td>2.00</td>\n",
       "      <td>1</td>\n",
       "      <td>4</td>\n",
       "      <td>1</td>\n",
       "      <td>53.0</td>\n",
       "      <td>1.0</td>\n",
       "      <td>875572.11</td>\n",
       "      <td>2.0</td>\n",
       "      <td>1</td>\n",
       "      <td>0.018868</td>\n",
       "      <td>0.075472</td>\n",
       "      <td>875572.110000</td>\n",
       "      <td>0.000005</td>\n",
       "      <td>2.0000</td>\n",
       "      <td>4.00</td>\n",
       "      <td>4.0000</td>\n",
       "      <td>53.00</td>\n",
       "      <td>875572.110</td>\n",
       "      <td>1.0</td>\n",
       "      <td>1.0</td>\n",
       "      <td>1.0</td>\n",
       "      <td>2.0</td>\n",
       "      <td>4.0</td>\n",
       "      <td>4.0</td>\n",
       "    </tr>\n",
       "    <tr>\n",
       "      <th>2</th>\n",
       "      <td>35</td>\n",
       "      <td>701607.06</td>\n",
       "      <td>2</td>\n",
       "      <td>1</td>\n",
       "      <td>0</td>\n",
       "      <td>0</td>\n",
       "      <td>4</td>\n",
       "      <td>0</td>\n",
       "      <td>1</td>\n",
       "      <td>0</td>\n",
       "      <td>0</td>\n",
       "      <td>1</td>\n",
       "      <td>0</td>\n",
       "      <td>0.114286</td>\n",
       "      <td>0.057143</td>\n",
       "      <td>175401.7650</td>\n",
       "      <td>20045.916000</td>\n",
       "      <td>0.000003</td>\n",
       "      <td>0.50</td>\n",
       "      <td>16</td>\n",
       "      <td>4</td>\n",
       "      <td>2</td>\n",
       "      <td>17.5</td>\n",
       "      <td>2.0</td>\n",
       "      <td>350803.53</td>\n",
       "      <td>1.0</td>\n",
       "      <td>4</td>\n",
       "      <td>0.457143</td>\n",
       "      <td>0.114286</td>\n",
       "      <td>43850.441250</td>\n",
       "      <td>0.000006</td>\n",
       "      <td>0.1250</td>\n",
       "      <td>1.00</td>\n",
       "      <td>0.2500</td>\n",
       "      <td>8.75</td>\n",
       "      <td>175401.765</td>\n",
       "      <td>1.0</td>\n",
       "      <td>8.0</td>\n",
       "      <td>4.0</td>\n",
       "      <td>0.5</td>\n",
       "      <td>2.0</td>\n",
       "      <td>1.0</td>\n",
       "    </tr>\n",
       "    <tr>\n",
       "      <th>3</th>\n",
       "      <td>43</td>\n",
       "      <td>1393922.16</td>\n",
       "      <td>0</td>\n",
       "      <td>1</td>\n",
       "      <td>1</td>\n",
       "      <td>0</td>\n",
       "      <td>4</td>\n",
       "      <td>0</td>\n",
       "      <td>1</td>\n",
       "      <td>0</td>\n",
       "      <td>0</td>\n",
       "      <td>1</td>\n",
       "      <td>0</td>\n",
       "      <td>0.093023</td>\n",
       "      <td>0.000000</td>\n",
       "      <td>348480.5400</td>\n",
       "      <td>32416.794419</td>\n",
       "      <td>0.000000</td>\n",
       "      <td>0.00</td>\n",
       "      <td>16</td>\n",
       "      <td>0</td>\n",
       "      <td>2</td>\n",
       "      <td>21.5</td>\n",
       "      <td>2.0</td>\n",
       "      <td>696961.08</td>\n",
       "      <td>0.0</td>\n",
       "      <td>4</td>\n",
       "      <td>0.372093</td>\n",
       "      <td>0.000000</td>\n",
       "      <td>87120.135000</td>\n",
       "      <td>0.000000</td>\n",
       "      <td>0.0000</td>\n",
       "      <td>0.00</td>\n",
       "      <td>0.0000</td>\n",
       "      <td>10.75</td>\n",
       "      <td>348480.540</td>\n",
       "      <td>1.0</td>\n",
       "      <td>8.0</td>\n",
       "      <td>4.0</td>\n",
       "      <td>0.0</td>\n",
       "      <td>0.0</td>\n",
       "      <td>0.0</td>\n",
       "    </tr>\n",
       "    <tr>\n",
       "      <th>4</th>\n",
       "      <td>39</td>\n",
       "      <td>893146.23</td>\n",
       "      <td>1</td>\n",
       "      <td>1</td>\n",
       "      <td>1</td>\n",
       "      <td>0</td>\n",
       "      <td>4</td>\n",
       "      <td>1</td>\n",
       "      <td>0</td>\n",
       "      <td>0</td>\n",
       "      <td>1</td>\n",
       "      <td>0</td>\n",
       "      <td>0</td>\n",
       "      <td>0.102564</td>\n",
       "      <td>0.025641</td>\n",
       "      <td>223286.5575</td>\n",
       "      <td>22901.185385</td>\n",
       "      <td>0.000001</td>\n",
       "      <td>0.25</td>\n",
       "      <td>16</td>\n",
       "      <td>1</td>\n",
       "      <td>1</td>\n",
       "      <td>39.0</td>\n",
       "      <td>4.0</td>\n",
       "      <td>893146.23</td>\n",
       "      <td>1.0</td>\n",
       "      <td>1</td>\n",
       "      <td>0.410256</td>\n",
       "      <td>0.025641</td>\n",
       "      <td>55821.639375</td>\n",
       "      <td>0.000001</td>\n",
       "      <td>0.0625</td>\n",
       "      <td>0.25</td>\n",
       "      <td>0.0625</td>\n",
       "      <td>39.00</td>\n",
       "      <td>893146.230</td>\n",
       "      <td>4.0</td>\n",
       "      <td>16.0</td>\n",
       "      <td>16.0</td>\n",
       "      <td>1.0</td>\n",
       "      <td>1.0</td>\n",
       "      <td>1.0</td>\n",
       "    </tr>\n",
       "  </tbody>\n",
       "</table>\n",
       "</div>"
      ],
      "text/plain": [
       "   Age     Balance  Vintage  Transaction_Status  Credit_Card  Gender_num  \\\n",
       "0   36   563266.44        4                   0            0           0   \n",
       "1   53   875572.11        2                   1            1           0   \n",
       "2   35   701607.06        2                   1            0           0   \n",
       "3   43  1393922.16        0                   1            1           0   \n",
       "4   39   893146.23        1                   1            1           0   \n",
       "\n",
       "   Income_num  Product_Holdings_1  Product_Holdings_2  \\\n",
       "0           2                   1                   0   \n",
       "1           1                   1                   0   \n",
       "2           4                   0                   1   \n",
       "3           4                   0                   1   \n",
       "4           4                   1                   0   \n",
       "\n",
       "   Product_Holdings_3_plus  Credit_Category_Good  Credit_Category_Poor  \\\n",
       "0                        0                     0                     0   \n",
       "1                        0                     0                     1   \n",
       "2                        0                     0                     1   \n",
       "3                        0                     0                     1   \n",
       "4                        0                     1                     0   \n",
       "\n",
       "   Credit_Category_Average  Income_Age_ratio  Vintage_Age_ratio  \\\n",
       "0                        1          0.055556           0.111111   \n",
       "1                        0          0.018868           0.037736   \n",
       "2                        0          0.114286           0.057143   \n",
       "3                        0          0.093023           0.000000   \n",
       "4                        0          0.102564           0.025641   \n",
       "\n",
       "   Balance_Income_ratio  Balance_Age_ratio  Vintage_Balance_ratio  \\\n",
       "0           281633.2200       15646.290000               0.000007   \n",
       "1           875572.1100       16520.228491               0.000002   \n",
       "2           175401.7650       20045.916000               0.000003   \n",
       "3           348480.5400       32416.794419               0.000000   \n",
       "4           223286.5575       22901.185385               0.000001   \n",
       "\n",
       "   Vintage_Income_ratio  Income_squared  Vintage_squared  \\\n",
       "0                  2.00               4               16   \n",
       "1                  2.00               1                4   \n",
       "2                  0.50              16                4   \n",
       "3                  0.00              16                0   \n",
       "4                  0.25              16                1   \n",
       "\n",
       "   Product_Holdings_num  Age_Product_Holdings_ratio  \\\n",
       "0                     1                        36.0   \n",
       "1                     1                        53.0   \n",
       "2                     2                        17.5   \n",
       "3                     2                        21.5   \n",
       "4                     1                        39.0   \n",
       "\n",
       "   Income_Product_Holdings_ratio  Balance_Product_Holdings_ratio  \\\n",
       "0                            2.0                       563266.44   \n",
       "1                            1.0                       875572.11   \n",
       "2                            2.0                       350803.53   \n",
       "3                            2.0                       696961.08   \n",
       "4                            4.0                       893146.23   \n",
       "\n",
       "   Vintage_Product_Holdings_ratio  Product_Holdings_squared  \\\n",
       "0                             4.0                         1   \n",
       "1                             2.0                         1   \n",
       "2                             1.0                         4   \n",
       "3                             0.0                         4   \n",
       "4                             1.0                         1   \n",
       "\n",
       "   Income_squared_Age_ratio  Vintage_squared_Age_ratio  \\\n",
       "0                  0.111111                   0.444444   \n",
       "1                  0.018868                   0.075472   \n",
       "2                  0.457143                   0.114286   \n",
       "3                  0.372093                   0.000000   \n",
       "4                  0.410256                   0.025641   \n",
       "\n",
       "   Balance_Income_squared_ratio  Vintage_squared_Balance_ratio  \\\n",
       "0                 140816.610000                       0.000028   \n",
       "1                 875572.110000                       0.000005   \n",
       "2                  43850.441250                       0.000006   \n",
       "3                  87120.135000                       0.000000   \n",
       "4                  55821.639375                       0.000001   \n",
       "\n",
       "   Vintage_Income_squared_ratio  Vintage_squared_Income_ratio  \\\n",
       "0                        1.0000                          8.00   \n",
       "1                        2.0000                          4.00   \n",
       "2                        0.1250                          1.00   \n",
       "3                        0.0000                          0.00   \n",
       "4                        0.0625                          0.25   \n",
       "\n",
       "   Vintage_squared_Income_squared_ratio  Age_Product_Holdings_squared_ratio  \\\n",
       "0                                4.0000                               36.00   \n",
       "1                                4.0000                               53.00   \n",
       "2                                0.2500                                8.75   \n",
       "3                                0.0000                               10.75   \n",
       "4                                0.0625                               39.00   \n",
       "\n",
       "   Balance_Product_Holdings_squared_ratio  \\\n",
       "0                              563266.440   \n",
       "1                              875572.110   \n",
       "2                              175401.765   \n",
       "3                              348480.540   \n",
       "4                              893146.230   \n",
       "\n",
       "   Income_Product_Holdings_squared_ratio  \\\n",
       "0                                    2.0   \n",
       "1                                    1.0   \n",
       "2                                    1.0   \n",
       "3                                    1.0   \n",
       "4                                    4.0   \n",
       "\n",
       "   Income_squared_Product_Holdings_ratio  \\\n",
       "0                                    4.0   \n",
       "1                                    1.0   \n",
       "2                                    8.0   \n",
       "3                                    8.0   \n",
       "4                                   16.0   \n",
       "\n",
       "   Income_squared_Product_Holdings_squared_ratio  \\\n",
       "0                                            4.0   \n",
       "1                                            1.0   \n",
       "2                                            4.0   \n",
       "3                                            4.0   \n",
       "4                                           16.0   \n",
       "\n",
       "   Vintage_Product_Holdings_squared_ratio  \\\n",
       "0                                     4.0   \n",
       "1                                     2.0   \n",
       "2                                     0.5   \n",
       "3                                     0.0   \n",
       "4                                     1.0   \n",
       "\n",
       "   Vintage_squared_Product_Holdings_ratio  \\\n",
       "0                                    16.0   \n",
       "1                                     4.0   \n",
       "2                                     2.0   \n",
       "3                                     0.0   \n",
       "4                                     1.0   \n",
       "\n",
       "   Vintage_squared_Product_Holdings_squared_ratio  \n",
       "0                                            16.0  \n",
       "1                                             4.0  \n",
       "2                                             1.0  \n",
       "3                                             0.0  \n",
       "4                                             1.0  "
      ]
     },
     "metadata": {},
     "output_type": "display_data"
    }
   ],
   "source": [
    "with pd.option_context(\"display.max_columns\", None):\n",
    "    display(train[feature_list].head())"
   ]
  },
  {
   "cell_type": "code",
   "execution_count": 41,
   "metadata": {
    "ExecuteTime": {
     "end_time": "2022-03-13T10:16:52.608115Z",
     "start_time": "2022-03-13T10:16:52.440546Z"
    }
   },
   "outputs": [
    {
     "data": {
      "text/html": [
       "<div>\n",
       "<style scoped>\n",
       "    .dataframe tbody tr th:only-of-type {\n",
       "        vertical-align: middle;\n",
       "    }\n",
       "\n",
       "    .dataframe tbody tr th {\n",
       "        vertical-align: top;\n",
       "    }\n",
       "\n",
       "    .dataframe thead th {\n",
       "        text-align: right;\n",
       "    }\n",
       "</style>\n",
       "<table border=\"1\" class=\"dataframe\">\n",
       "  <thead>\n",
       "    <tr style=\"text-align: right;\">\n",
       "      <th></th>\n",
       "      <th>Age</th>\n",
       "      <th>Balance</th>\n",
       "      <th>Vintage</th>\n",
       "      <th>Transaction_Status</th>\n",
       "      <th>Credit_Card</th>\n",
       "      <th>Gender_num</th>\n",
       "      <th>Income_num</th>\n",
       "      <th>Product_Holdings_1</th>\n",
       "      <th>Product_Holdings_2</th>\n",
       "      <th>Product_Holdings_3_plus</th>\n",
       "      <th>Credit_Category_Good</th>\n",
       "      <th>Credit_Category_Poor</th>\n",
       "      <th>Credit_Category_Average</th>\n",
       "      <th>Income_Age_ratio</th>\n",
       "      <th>Vintage_Age_ratio</th>\n",
       "      <th>Balance_Income_ratio</th>\n",
       "      <th>Balance_Age_ratio</th>\n",
       "      <th>Vintage_Balance_ratio</th>\n",
       "      <th>Vintage_Income_ratio</th>\n",
       "      <th>Income_squared</th>\n",
       "      <th>Vintage_squared</th>\n",
       "      <th>Product_Holdings_num</th>\n",
       "      <th>Age_Product_Holdings_ratio</th>\n",
       "      <th>Income_Product_Holdings_ratio</th>\n",
       "      <th>Balance_Product_Holdings_ratio</th>\n",
       "      <th>Vintage_Product_Holdings_ratio</th>\n",
       "      <th>Product_Holdings_squared</th>\n",
       "      <th>Income_squared_Age_ratio</th>\n",
       "      <th>Vintage_squared_Age_ratio</th>\n",
       "      <th>Balance_Income_squared_ratio</th>\n",
       "      <th>Vintage_squared_Balance_ratio</th>\n",
       "      <th>Vintage_Income_squared_ratio</th>\n",
       "      <th>Vintage_squared_Income_ratio</th>\n",
       "      <th>Vintage_squared_Income_squared_ratio</th>\n",
       "      <th>Age_Product_Holdings_squared_ratio</th>\n",
       "      <th>Balance_Product_Holdings_squared_ratio</th>\n",
       "      <th>Income_Product_Holdings_squared_ratio</th>\n",
       "      <th>Income_squared_Product_Holdings_ratio</th>\n",
       "      <th>Income_squared_Product_Holdings_squared_ratio</th>\n",
       "      <th>Vintage_Product_Holdings_squared_ratio</th>\n",
       "      <th>Vintage_squared_Product_Holdings_ratio</th>\n",
       "      <th>Vintage_squared_Product_Holdings_squared_ratio</th>\n",
       "    </tr>\n",
       "  </thead>\n",
       "  <tbody>\n",
       "    <tr>\n",
       "      <th>count</th>\n",
       "      <td>6650.000000</td>\n",
       "      <td>6.650000e+03</td>\n",
       "      <td>6650.000000</td>\n",
       "      <td>6650.000000</td>\n",
       "      <td>6650.000000</td>\n",
       "      <td>6650.000000</td>\n",
       "      <td>6650.000000</td>\n",
       "      <td>6650.000000</td>\n",
       "      <td>6650.000000</td>\n",
       "      <td>6650.000000</td>\n",
       "      <td>6650.000000</td>\n",
       "      <td>6650.000000</td>\n",
       "      <td>6650.000000</td>\n",
       "      <td>6650.000000</td>\n",
       "      <td>6650.000000</td>\n",
       "      <td>6.650000e+03</td>\n",
       "      <td>6650.000000</td>\n",
       "      <td>6650.000000</td>\n",
       "      <td>6650.000000</td>\n",
       "      <td>6650.000000</td>\n",
       "      <td>6650.000000</td>\n",
       "      <td>6650.000000</td>\n",
       "      <td>6650.000000</td>\n",
       "      <td>6650.000000</td>\n",
       "      <td>6.650000e+03</td>\n",
       "      <td>6650.000000</td>\n",
       "      <td>6650.000000</td>\n",
       "      <td>6650.000000</td>\n",
       "      <td>6650.000000</td>\n",
       "      <td>6.650000e+03</td>\n",
       "      <td>6650.000000</td>\n",
       "      <td>6650.000000</td>\n",
       "      <td>6650.000000</td>\n",
       "      <td>6650.000000</td>\n",
       "      <td>6650.000000</td>\n",
       "      <td>6.650000e+03</td>\n",
       "      <td>6650.000000</td>\n",
       "      <td>6650.000000</td>\n",
       "      <td>6650.000000</td>\n",
       "      <td>6650.000000</td>\n",
       "      <td>6650.000000</td>\n",
       "      <td>6650.000000</td>\n",
       "    </tr>\n",
       "    <tr>\n",
       "      <th>mean</th>\n",
       "      <td>41.130226</td>\n",
       "      <td>8.045954e+05</td>\n",
       "      <td>2.250226</td>\n",
       "      <td>0.515789</td>\n",
       "      <td>0.664361</td>\n",
       "      <td>0.543158</td>\n",
       "      <td>2.451429</td>\n",
       "      <td>0.481203</td>\n",
       "      <td>0.478496</td>\n",
       "      <td>0.040301</td>\n",
       "      <td>0.230226</td>\n",
       "      <td>0.462556</td>\n",
       "      <td>0.307218</td>\n",
       "      <td>0.062792</td>\n",
       "      <td>0.057460</td>\n",
       "      <td>4.140800e+05</td>\n",
       "      <td>20654.171864</td>\n",
       "      <td>0.000013</td>\n",
       "      <td>1.163133</td>\n",
       "      <td>7.134737</td>\n",
       "      <td>7.191278</td>\n",
       "      <td>1.559098</td>\n",
       "      <td>30.253935</td>\n",
       "      <td>1.797193</td>\n",
       "      <td>6.241833e+05</td>\n",
       "      <td>1.645238</td>\n",
       "      <td>2.757895</td>\n",
       "      <td>0.182550</td>\n",
       "      <td>0.183152</td>\n",
       "      <td>2.763227e+05</td>\n",
       "      <td>0.000039</td>\n",
       "      <td>0.775305</td>\n",
       "      <td>3.707168</td>\n",
       "      <td>2.464413</td>\n",
       "      <td>24.997828</td>\n",
       "      <td>5.362932e+05</td>\n",
       "      <td>1.481119</td>\n",
       "      <td>5.227469</td>\n",
       "      <td>4.306399</td>\n",
       "      <td>1.353137</td>\n",
       "      <td>5.261679</td>\n",
       "      <td>4.329695</td>\n",
       "    </tr>\n",
       "    <tr>\n",
       "      <th>std</th>\n",
       "      <td>9.685747</td>\n",
       "      <td>5.157549e+05</td>\n",
       "      <td>1.458795</td>\n",
       "      <td>0.499788</td>\n",
       "      <td>0.472249</td>\n",
       "      <td>0.498171</td>\n",
       "      <td>1.060851</td>\n",
       "      <td>0.499684</td>\n",
       "      <td>0.499575</td>\n",
       "      <td>0.196678</td>\n",
       "      <td>0.421009</td>\n",
       "      <td>0.498633</td>\n",
       "      <td>0.461375</td>\n",
       "      <td>0.031311</td>\n",
       "      <td>0.039937</td>\n",
       "      <td>3.712593e+05</td>\n",
       "      <td>14440.092734</td>\n",
       "      <td>0.000088</td>\n",
       "      <td>1.054373</td>\n",
       "      <td>5.340212</td>\n",
       "      <td>6.922825</td>\n",
       "      <td>0.571977</td>\n",
       "      <td>13.226998</td>\n",
       "      <td>1.037622</td>\n",
       "      <td>5.021789e+05</td>\n",
       "      <td>1.274021</td>\n",
       "      <td>1.948356</td>\n",
       "      <td>0.146350</td>\n",
       "      <td>0.183713</td>\n",
       "      <td>3.870393e+05</td>\n",
       "      <td>0.000254</td>\n",
       "      <td>1.090981</td>\n",
       "      <td>4.523479</td>\n",
       "      <td>4.336032</td>\n",
       "      <td>17.326538</td>\n",
       "      <td>5.371234e+05</td>\n",
       "      <td>1.200833</td>\n",
       "      <td>4.532788</td>\n",
       "      <td>4.675272</td>\n",
       "      <td>1.349094</td>\n",
       "      <td>5.709224</td>\n",
       "      <td>5.674041</td>\n",
       "    </tr>\n",
       "    <tr>\n",
       "      <th>min</th>\n",
       "      <td>21.000000</td>\n",
       "      <td>6.300000e+01</td>\n",
       "      <td>0.000000</td>\n",
       "      <td>0.000000</td>\n",
       "      <td>0.000000</td>\n",
       "      <td>0.000000</td>\n",
       "      <td>1.000000</td>\n",
       "      <td>0.000000</td>\n",
       "      <td>0.000000</td>\n",
       "      <td>0.000000</td>\n",
       "      <td>0.000000</td>\n",
       "      <td>0.000000</td>\n",
       "      <td>0.000000</td>\n",
       "      <td>0.014085</td>\n",
       "      <td>0.000000</td>\n",
       "      <td>2.100000e+01</td>\n",
       "      <td>1.067797</td>\n",
       "      <td>0.000000</td>\n",
       "      <td>0.000000</td>\n",
       "      <td>1.000000</td>\n",
       "      <td>0.000000</td>\n",
       "      <td>1.000000</td>\n",
       "      <td>7.666667</td>\n",
       "      <td>0.333333</td>\n",
       "      <td>3.150000e+01</td>\n",
       "      <td>0.000000</td>\n",
       "      <td>1.000000</td>\n",
       "      <td>0.014085</td>\n",
       "      <td>0.000000</td>\n",
       "      <td>7.000000e+00</td>\n",
       "      <td>0.000000</td>\n",
       "      <td>0.000000</td>\n",
       "      <td>0.000000</td>\n",
       "      <td>0.000000</td>\n",
       "      <td>2.555556</td>\n",
       "      <td>1.575000e+01</td>\n",
       "      <td>0.111111</td>\n",
       "      <td>0.333333</td>\n",
       "      <td>0.111111</td>\n",
       "      <td>0.000000</td>\n",
       "      <td>0.000000</td>\n",
       "      <td>0.000000</td>\n",
       "    </tr>\n",
       "    <tr>\n",
       "      <th>25%</th>\n",
       "      <td>34.000000</td>\n",
       "      <td>3.922642e+05</td>\n",
       "      <td>1.000000</td>\n",
       "      <td>0.000000</td>\n",
       "      <td>0.000000</td>\n",
       "      <td>0.000000</td>\n",
       "      <td>2.000000</td>\n",
       "      <td>0.000000</td>\n",
       "      <td>0.000000</td>\n",
       "      <td>0.000000</td>\n",
       "      <td>0.000000</td>\n",
       "      <td>0.000000</td>\n",
       "      <td>0.000000</td>\n",
       "      <td>0.036364</td>\n",
       "      <td>0.025641</td>\n",
       "      <td>1.599190e+05</td>\n",
       "      <td>9423.193091</td>\n",
       "      <td>0.000001</td>\n",
       "      <td>0.500000</td>\n",
       "      <td>4.000000</td>\n",
       "      <td>1.000000</td>\n",
       "      <td>1.000000</td>\n",
       "      <td>19.000000</td>\n",
       "      <td>1.000000</td>\n",
       "      <td>2.321147e+05</td>\n",
       "      <td>0.541667</td>\n",
       "      <td>1.000000</td>\n",
       "      <td>0.067797</td>\n",
       "      <td>0.025641</td>\n",
       "      <td>5.361235e+04</td>\n",
       "      <td>0.000001</td>\n",
       "      <td>0.125000</td>\n",
       "      <td>0.500000</td>\n",
       "      <td>0.250000</td>\n",
       "      <td>9.500000</td>\n",
       "      <td>1.262009e+05</td>\n",
       "      <td>0.500000</td>\n",
       "      <td>2.000000</td>\n",
       "      <td>1.000000</td>\n",
       "      <td>0.250000</td>\n",
       "      <td>0.625000</td>\n",
       "      <td>0.298611</td>\n",
       "    </tr>\n",
       "    <tr>\n",
       "      <th>50%</th>\n",
       "      <td>40.000000</td>\n",
       "      <td>7.649386e+05</td>\n",
       "      <td>2.000000</td>\n",
       "      <td>1.000000</td>\n",
       "      <td>1.000000</td>\n",
       "      <td>1.000000</td>\n",
       "      <td>2.000000</td>\n",
       "      <td>0.000000</td>\n",
       "      <td>0.000000</td>\n",
       "      <td>0.000000</td>\n",
       "      <td>0.000000</td>\n",
       "      <td>0.000000</td>\n",
       "      <td>0.000000</td>\n",
       "      <td>0.058824</td>\n",
       "      <td>0.055556</td>\n",
       "      <td>3.155705e+05</td>\n",
       "      <td>18875.154083</td>\n",
       "      <td>0.000003</td>\n",
       "      <td>1.000000</td>\n",
       "      <td>4.000000</td>\n",
       "      <td>4.000000</td>\n",
       "      <td>2.000000</td>\n",
       "      <td>27.500000</td>\n",
       "      <td>1.500000</td>\n",
       "      <td>4.998275e+05</td>\n",
       "      <td>1.500000</td>\n",
       "      <td>4.000000</td>\n",
       "      <td>0.142857</td>\n",
       "      <td>0.121212</td>\n",
       "      <td>1.195008e+05</td>\n",
       "      <td>0.000007</td>\n",
       "      <td>0.333333</td>\n",
       "      <td>2.000000</td>\n",
       "      <td>1.000000</td>\n",
       "      <td>15.000000</td>\n",
       "      <td>2.920907e+05</td>\n",
       "      <td>1.000000</td>\n",
       "      <td>4.000000</td>\n",
       "      <td>2.250000</td>\n",
       "      <td>1.000000</td>\n",
       "      <td>4.000000</td>\n",
       "      <td>2.250000</td>\n",
       "    </tr>\n",
       "    <tr>\n",
       "      <th>75%</th>\n",
       "      <td>47.000000</td>\n",
       "      <td>1.147124e+06</td>\n",
       "      <td>3.000000</td>\n",
       "      <td>1.000000</td>\n",
       "      <td>1.000000</td>\n",
       "      <td>1.000000</td>\n",
       "      <td>3.000000</td>\n",
       "      <td>1.000000</td>\n",
       "      <td>1.000000</td>\n",
       "      <td>0.000000</td>\n",
       "      <td>0.000000</td>\n",
       "      <td>1.000000</td>\n",
       "      <td>1.000000</td>\n",
       "      <td>0.083333</td>\n",
       "      <td>0.085714</td>\n",
       "      <td>5.401750e+05</td>\n",
       "      <td>28965.191217</td>\n",
       "      <td>0.000006</td>\n",
       "      <td>1.500000</td>\n",
       "      <td>9.000000</td>\n",
       "      <td>9.000000</td>\n",
       "      <td>2.000000</td>\n",
       "      <td>40.000000</td>\n",
       "      <td>2.000000</td>\n",
       "      <td>9.016452e+05</td>\n",
       "      <td>2.000000</td>\n",
       "      <td>4.000000</td>\n",
       "      <td>0.272727</td>\n",
       "      <td>0.296296</td>\n",
       "      <td>2.933996e+05</td>\n",
       "      <td>0.000019</td>\n",
       "      <td>1.000000</td>\n",
       "      <td>5.333333</td>\n",
       "      <td>2.250000</td>\n",
       "      <td>40.000000</td>\n",
       "      <td>8.805092e+05</td>\n",
       "      <td>2.000000</td>\n",
       "      <td>8.000000</td>\n",
       "      <td>4.000000</td>\n",
       "      <td>2.000000</td>\n",
       "      <td>8.000000</td>\n",
       "      <td>4.000000</td>\n",
       "    </tr>\n",
       "    <tr>\n",
       "      <th>max</th>\n",
       "      <td>72.000000</td>\n",
       "      <td>2.436616e+06</td>\n",
       "      <td>5.000000</td>\n",
       "      <td>1.000000</td>\n",
       "      <td>1.000000</td>\n",
       "      <td>1.000000</td>\n",
       "      <td>4.000000</td>\n",
       "      <td>1.000000</td>\n",
       "      <td>1.000000</td>\n",
       "      <td>1.000000</td>\n",
       "      <td>1.000000</td>\n",
       "      <td>1.000000</td>\n",
       "      <td>1.000000</td>\n",
       "      <td>0.190476</td>\n",
       "      <td>0.178571</td>\n",
       "      <td>2.421910e+06</td>\n",
       "      <td>103977.445909</td>\n",
       "      <td>0.004219</td>\n",
       "      <td>5.000000</td>\n",
       "      <td>16.000000</td>\n",
       "      <td>25.000000</td>\n",
       "      <td>3.000000</td>\n",
       "      <td>72.000000</td>\n",
       "      <td>4.000000</td>\n",
       "      <td>2.436436e+06</td>\n",
       "      <td>5.000000</td>\n",
       "      <td>9.000000</td>\n",
       "      <td>0.761905</td>\n",
       "      <td>0.892857</td>\n",
       "      <td>2.421910e+06</td>\n",
       "      <td>0.012658</td>\n",
       "      <td>5.000000</td>\n",
       "      <td>25.000000</td>\n",
       "      <td>25.000000</td>\n",
       "      <td>72.000000</td>\n",
       "      <td>2.436436e+06</td>\n",
       "      <td>4.000000</td>\n",
       "      <td>16.000000</td>\n",
       "      <td>16.000000</td>\n",
       "      <td>5.000000</td>\n",
       "      <td>25.000000</td>\n",
       "      <td>25.000000</td>\n",
       "    </tr>\n",
       "  </tbody>\n",
       "</table>\n",
       "</div>"
      ],
      "text/plain": [
       "               Age       Balance      Vintage  Transaction_Status  \\\n",
       "count  6650.000000  6.650000e+03  6650.000000         6650.000000   \n",
       "mean     41.130226  8.045954e+05     2.250226            0.515789   \n",
       "std       9.685747  5.157549e+05     1.458795            0.499788   \n",
       "min      21.000000  6.300000e+01     0.000000            0.000000   \n",
       "25%      34.000000  3.922642e+05     1.000000            0.000000   \n",
       "50%      40.000000  7.649386e+05     2.000000            1.000000   \n",
       "75%      47.000000  1.147124e+06     3.000000            1.000000   \n",
       "max      72.000000  2.436616e+06     5.000000            1.000000   \n",
       "\n",
       "       Credit_Card   Gender_num   Income_num  Product_Holdings_1  \\\n",
       "count  6650.000000  6650.000000  6650.000000         6650.000000   \n",
       "mean      0.664361     0.543158     2.451429            0.481203   \n",
       "std       0.472249     0.498171     1.060851            0.499684   \n",
       "min       0.000000     0.000000     1.000000            0.000000   \n",
       "25%       0.000000     0.000000     2.000000            0.000000   \n",
       "50%       1.000000     1.000000     2.000000            0.000000   \n",
       "75%       1.000000     1.000000     3.000000            1.000000   \n",
       "max       1.000000     1.000000     4.000000            1.000000   \n",
       "\n",
       "       Product_Holdings_2  Product_Holdings_3_plus  Credit_Category_Good  \\\n",
       "count         6650.000000              6650.000000           6650.000000   \n",
       "mean             0.478496                 0.040301              0.230226   \n",
       "std              0.499575                 0.196678              0.421009   \n",
       "min              0.000000                 0.000000              0.000000   \n",
       "25%              0.000000                 0.000000              0.000000   \n",
       "50%              0.000000                 0.000000              0.000000   \n",
       "75%              1.000000                 0.000000              0.000000   \n",
       "max              1.000000                 1.000000              1.000000   \n",
       "\n",
       "       Credit_Category_Poor  Credit_Category_Average  Income_Age_ratio  \\\n",
       "count           6650.000000              6650.000000       6650.000000   \n",
       "mean               0.462556                 0.307218          0.062792   \n",
       "std                0.498633                 0.461375          0.031311   \n",
       "min                0.000000                 0.000000          0.014085   \n",
       "25%                0.000000                 0.000000          0.036364   \n",
       "50%                0.000000                 0.000000          0.058824   \n",
       "75%                1.000000                 1.000000          0.083333   \n",
       "max                1.000000                 1.000000          0.190476   \n",
       "\n",
       "       Vintage_Age_ratio  Balance_Income_ratio  Balance_Age_ratio  \\\n",
       "count        6650.000000          6.650000e+03        6650.000000   \n",
       "mean            0.057460          4.140800e+05       20654.171864   \n",
       "std             0.039937          3.712593e+05       14440.092734   \n",
       "min             0.000000          2.100000e+01           1.067797   \n",
       "25%             0.025641          1.599190e+05        9423.193091   \n",
       "50%             0.055556          3.155705e+05       18875.154083   \n",
       "75%             0.085714          5.401750e+05       28965.191217   \n",
       "max             0.178571          2.421910e+06      103977.445909   \n",
       "\n",
       "       Vintage_Balance_ratio  Vintage_Income_ratio  Income_squared  \\\n",
       "count            6650.000000           6650.000000     6650.000000   \n",
       "mean                0.000013              1.163133        7.134737   \n",
       "std                 0.000088              1.054373        5.340212   \n",
       "min                 0.000000              0.000000        1.000000   \n",
       "25%                 0.000001              0.500000        4.000000   \n",
       "50%                 0.000003              1.000000        4.000000   \n",
       "75%                 0.000006              1.500000        9.000000   \n",
       "max                 0.004219              5.000000       16.000000   \n",
       "\n",
       "       Vintage_squared  Product_Holdings_num  Age_Product_Holdings_ratio  \\\n",
       "count      6650.000000           6650.000000                 6650.000000   \n",
       "mean          7.191278              1.559098                   30.253935   \n",
       "std           6.922825              0.571977                   13.226998   \n",
       "min           0.000000              1.000000                    7.666667   \n",
       "25%           1.000000              1.000000                   19.000000   \n",
       "50%           4.000000              2.000000                   27.500000   \n",
       "75%           9.000000              2.000000                   40.000000   \n",
       "max          25.000000              3.000000                   72.000000   \n",
       "\n",
       "       Income_Product_Holdings_ratio  Balance_Product_Holdings_ratio  \\\n",
       "count                    6650.000000                    6.650000e+03   \n",
       "mean                        1.797193                    6.241833e+05   \n",
       "std                         1.037622                    5.021789e+05   \n",
       "min                         0.333333                    3.150000e+01   \n",
       "25%                         1.000000                    2.321147e+05   \n",
       "50%                         1.500000                    4.998275e+05   \n",
       "75%                         2.000000                    9.016452e+05   \n",
       "max                         4.000000                    2.436436e+06   \n",
       "\n",
       "       Vintage_Product_Holdings_ratio  Product_Holdings_squared  \\\n",
       "count                     6650.000000               6650.000000   \n",
       "mean                         1.645238                  2.757895   \n",
       "std                          1.274021                  1.948356   \n",
       "min                          0.000000                  1.000000   \n",
       "25%                          0.541667                  1.000000   \n",
       "50%                          1.500000                  4.000000   \n",
       "75%                          2.000000                  4.000000   \n",
       "max                          5.000000                  9.000000   \n",
       "\n",
       "       Income_squared_Age_ratio  Vintage_squared_Age_ratio  \\\n",
       "count               6650.000000                6650.000000   \n",
       "mean                   0.182550                   0.183152   \n",
       "std                    0.146350                   0.183713   \n",
       "min                    0.014085                   0.000000   \n",
       "25%                    0.067797                   0.025641   \n",
       "50%                    0.142857                   0.121212   \n",
       "75%                    0.272727                   0.296296   \n",
       "max                    0.761905                   0.892857   \n",
       "\n",
       "       Balance_Income_squared_ratio  Vintage_squared_Balance_ratio  \\\n",
       "count                  6.650000e+03                    6650.000000   \n",
       "mean                   2.763227e+05                       0.000039   \n",
       "std                    3.870393e+05                       0.000254   \n",
       "min                    7.000000e+00                       0.000000   \n",
       "25%                    5.361235e+04                       0.000001   \n",
       "50%                    1.195008e+05                       0.000007   \n",
       "75%                    2.933996e+05                       0.000019   \n",
       "max                    2.421910e+06                       0.012658   \n",
       "\n",
       "       Vintage_Income_squared_ratio  Vintage_squared_Income_ratio  \\\n",
       "count                   6650.000000                   6650.000000   \n",
       "mean                       0.775305                      3.707168   \n",
       "std                        1.090981                      4.523479   \n",
       "min                        0.000000                      0.000000   \n",
       "25%                        0.125000                      0.500000   \n",
       "50%                        0.333333                      2.000000   \n",
       "75%                        1.000000                      5.333333   \n",
       "max                        5.000000                     25.000000   \n",
       "\n",
       "       Vintage_squared_Income_squared_ratio  \\\n",
       "count                           6650.000000   \n",
       "mean                               2.464413   \n",
       "std                                4.336032   \n",
       "min                                0.000000   \n",
       "25%                                0.250000   \n",
       "50%                                1.000000   \n",
       "75%                                2.250000   \n",
       "max                               25.000000   \n",
       "\n",
       "       Age_Product_Holdings_squared_ratio  \\\n",
       "count                         6650.000000   \n",
       "mean                            24.997828   \n",
       "std                             17.326538   \n",
       "min                              2.555556   \n",
       "25%                              9.500000   \n",
       "50%                             15.000000   \n",
       "75%                             40.000000   \n",
       "max                             72.000000   \n",
       "\n",
       "       Balance_Product_Holdings_squared_ratio  \\\n",
       "count                            6.650000e+03   \n",
       "mean                             5.362932e+05   \n",
       "std                              5.371234e+05   \n",
       "min                              1.575000e+01   \n",
       "25%                              1.262009e+05   \n",
       "50%                              2.920907e+05   \n",
       "75%                              8.805092e+05   \n",
       "max                              2.436436e+06   \n",
       "\n",
       "       Income_Product_Holdings_squared_ratio  \\\n",
       "count                            6650.000000   \n",
       "mean                                1.481119   \n",
       "std                                 1.200833   \n",
       "min                                 0.111111   \n",
       "25%                                 0.500000   \n",
       "50%                                 1.000000   \n",
       "75%                                 2.000000   \n",
       "max                                 4.000000   \n",
       "\n",
       "       Income_squared_Product_Holdings_ratio  \\\n",
       "count                            6650.000000   \n",
       "mean                                5.227469   \n",
       "std                                 4.532788   \n",
       "min                                 0.333333   \n",
       "25%                                 2.000000   \n",
       "50%                                 4.000000   \n",
       "75%                                 8.000000   \n",
       "max                                16.000000   \n",
       "\n",
       "       Income_squared_Product_Holdings_squared_ratio  \\\n",
       "count                                    6650.000000   \n",
       "mean                                        4.306399   \n",
       "std                                         4.675272   \n",
       "min                                         0.111111   \n",
       "25%                                         1.000000   \n",
       "50%                                         2.250000   \n",
       "75%                                         4.000000   \n",
       "max                                        16.000000   \n",
       "\n",
       "       Vintage_Product_Holdings_squared_ratio  \\\n",
       "count                             6650.000000   \n",
       "mean                                 1.353137   \n",
       "std                                  1.349094   \n",
       "min                                  0.000000   \n",
       "25%                                  0.250000   \n",
       "50%                                  1.000000   \n",
       "75%                                  2.000000   \n",
       "max                                  5.000000   \n",
       "\n",
       "       Vintage_squared_Product_Holdings_ratio  \\\n",
       "count                             6650.000000   \n",
       "mean                                 5.261679   \n",
       "std                                  5.709224   \n",
       "min                                  0.000000   \n",
       "25%                                  0.625000   \n",
       "50%                                  4.000000   \n",
       "75%                                  8.000000   \n",
       "max                                 25.000000   \n",
       "\n",
       "       Vintage_squared_Product_Holdings_squared_ratio  \n",
       "count                                     6650.000000  \n",
       "mean                                         4.329695  \n",
       "std                                          5.674041  \n",
       "min                                          0.000000  \n",
       "25%                                          0.298611  \n",
       "50%                                          2.250000  \n",
       "75%                                          4.000000  \n",
       "max                                         25.000000  "
      ]
     },
     "metadata": {},
     "output_type": "display_data"
    }
   ],
   "source": [
    "with pd.option_context(\"display.max_columns\", None):\n",
    "    display(train[feature_list].describe())"
   ]
  },
  {
   "cell_type": "markdown",
   "metadata": {},
   "source": [
    "### Stratified Train Test Split"
   ]
  },
  {
   "cell_type": "code",
   "execution_count": 42,
   "metadata": {
    "ExecuteTime": {
     "end_time": "2022-03-13T10:16:54.452747Z",
     "start_time": "2022-03-13T10:16:54.442051Z"
    }
   },
   "outputs": [],
   "source": [
    "X_train, X_test, y_train, y_test = train_test_split(train[feature_list], train['Is_Churn'], test_size=0.2, \n",
    "                                                    stratify=train['Is_Churn'], random_state = 555, shuffle=True) "
   ]
  },
  {
   "cell_type": "markdown",
   "metadata": {},
   "source": [
    "### Further feature selection"
   ]
  },
  {
   "cell_type": "code",
   "execution_count": 43,
   "metadata": {
    "ExecuteTime": {
     "end_time": "2022-03-13T10:16:55.582896Z",
     "start_time": "2022-03-13T10:16:55.579795Z"
    }
   },
   "outputs": [],
   "source": [
    "# Removed the feature \"Product_Holdings_3_plus\" based on gain importance of boosting algorithms, it has 0 total gain\n",
    "feature_list=[i for i in feature_list if i not in ['Product_Holdings_3_plus']]"
   ]
  },
  {
   "cell_type": "code",
   "execution_count": 44,
   "metadata": {
    "ExecuteTime": {
     "end_time": "2022-03-13T10:16:56.100986Z",
     "start_time": "2022-03-13T10:16:56.060421Z"
    }
   },
   "outputs": [
    {
     "name": "stdout",
     "output_type": "stream",
     "text": [
      "columns:  41\n",
      "(5320, 42)\n",
      "to_drop:  22\n",
      "features:  19\n"
     ]
    },
    {
     "data": {
      "text/plain": [
       "['Product_Holdings_2',\n",
       " 'Vintage_Age_ratio',\n",
       " 'Balance_Age_ratio',\n",
       " 'Income_squared',\n",
       " 'Vintage_squared',\n",
       " 'Product_Holdings_num',\n",
       " 'Product_Holdings_squared',\n",
       " 'Income_squared_Age_ratio',\n",
       " 'Vintage_squared_Age_ratio',\n",
       " 'Balance_Income_squared_ratio',\n",
       " 'Vintage_squared_Balance_ratio',\n",
       " 'Vintage_Income_squared_ratio',\n",
       " 'Vintage_squared_Income_ratio',\n",
       " 'Vintage_squared_Income_squared_ratio',\n",
       " 'Age_Product_Holdings_squared_ratio',\n",
       " 'Balance_Product_Holdings_squared_ratio',\n",
       " 'Income_Product_Holdings_squared_ratio',\n",
       " 'Income_squared_Product_Holdings_ratio',\n",
       " 'Income_squared_Product_Holdings_squared_ratio',\n",
       " 'Vintage_Product_Holdings_squared_ratio',\n",
       " 'Vintage_squared_Product_Holdings_ratio',\n",
       " 'Vintage_squared_Product_Holdings_squared_ratio']"
      ]
     },
     "execution_count": 44,
     "metadata": {},
     "output_type": "execute_result"
    }
   ],
   "source": [
    "# Correlation Check\n",
    "\n",
    "print('columns: ', len(feature_list))\n",
    "print(X_train.shape)\n",
    "\n",
    "# Create correlation matrix\n",
    "corr_matrix = X_train[feature_list].corr().abs()\n",
    "# Select upper triangle of correlation matrix\n",
    "upper = corr_matrix.where(np.triu(np.ones(corr_matrix.shape), k=1).astype(np.bool))\n",
    "# Find features with correlation greater than 0.8\n",
    "to_drop = [column for column in upper.columns if any(upper[column] >= 0.90)]\n",
    "print('to_drop: ', len(to_drop))\n",
    "\n",
    "features = [i for i in feature_list if i not in to_drop]\n",
    "print('features: ', len(features))\n",
    "to_drop"
   ]
  },
  {
   "cell_type": "code",
   "execution_count": 45,
   "metadata": {
    "ExecuteTime": {
     "end_time": "2022-03-13T10:16:56.810007Z",
     "start_time": "2022-03-13T10:16:56.806709Z"
    }
   },
   "outputs": [],
   "source": [
    "# After selecting features from correlation, this is the final feature list, we'll be using for training \n",
    "features1=['Age',\n",
    " 'Balance',\n",
    " 'Vintage',\n",
    " 'Transaction_Status',\n",
    " 'Credit_Card',\n",
    " 'Gender_num',\n",
    " 'Income_num',\n",
    " 'Product_Holdings_1',\n",
    " 'Credit_Category_Good',\n",
    " 'Credit_Category_Poor',\n",
    " 'Credit_Category_Average',\n",
    " 'Income_Age_ratio',\n",
    " 'Balance_Income_ratio',\n",
    " 'Vintage_Balance_ratio',\n",
    " 'Vintage_Income_ratio',\n",
    " 'Age_Product_Holdings_ratio',\n",
    " 'Income_Product_Holdings_ratio',\n",
    " 'Balance_Product_Holdings_ratio',\n",
    " 'Vintage_Product_Holdings_ratio']"
   ]
  },
  {
   "cell_type": "code",
   "execution_count": 46,
   "metadata": {
    "ExecuteTime": {
     "end_time": "2022-03-13T10:16:57.512891Z",
     "start_time": "2022-03-13T10:16:57.509241Z"
    }
   },
   "outputs": [
    {
     "data": {
      "text/plain": [
       "19"
      ]
     },
     "execution_count": 46,
     "metadata": {},
     "output_type": "execute_result"
    }
   ],
   "source": [
    "len(features1)"
   ]
  },
  {
   "cell_type": "code",
   "execution_count": 47,
   "metadata": {
    "ExecuteTime": {
     "end_time": "2022-03-13T10:16:58.236335Z",
     "start_time": "2022-03-13T10:16:58.227801Z"
    }
   },
   "outputs": [],
   "source": [
    "# check if there's any feature with all same values, found none\n",
    "remove=[]\n",
    "for i in features1:\n",
    "    if X_train[i].std()==0:\n",
    "        print(i, \" : \", X_train[i].std())\n",
    "        remove.append(i)"
   ]
  },
  {
   "cell_type": "markdown",
   "metadata": {},
   "source": [
    "## ML Algo Selection"
   ]
  },
  {
   "cell_type": "markdown",
   "metadata": {},
   "source": [
    "### Compared various classification algorithms with f1_maro as metric"
   ]
  },
  {
   "cell_type": "code",
   "execution_count": 48,
   "metadata": {
    "ExecuteTime": {
     "end_time": "2022-03-13T10:17:09.579429Z",
     "start_time": "2022-03-13T10:17:00.978228Z"
    },
    "scrolled": true
   },
   "outputs": [
    {
     "name": "stderr",
     "output_type": "stream",
     "text": [
      "/root/anaconda3/lib/python3.6/site-packages/sklearn/linear_model/_logistic.py:765: ConvergenceWarning: lbfgs failed to converge (status=1):\n",
      "STOP: TOTAL NO. of ITERATIONS REACHED LIMIT.\n",
      "\n",
      "Increase the number of iterations (max_iter) or scale the data as shown in:\n",
      "    https://scikit-learn.org/stable/modules/preprocessing.html\n",
      "Please also refer to the documentation for alternative solver options:\n",
      "    https://scikit-learn.org/stable/modules/linear_model.html#logistic-regression\n",
      "  extra_warning_msg=_LOGISTIC_SOLVER_CONVERGENCE_MSG)\n",
      "/root/anaconda3/lib/python3.6/site-packages/sklearn/linear_model/_logistic.py:765: ConvergenceWarning: lbfgs failed to converge (status=1):\n",
      "STOP: TOTAL NO. of ITERATIONS REACHED LIMIT.\n",
      "\n",
      "Increase the number of iterations (max_iter) or scale the data as shown in:\n",
      "    https://scikit-learn.org/stable/modules/preprocessing.html\n",
      "Please also refer to the documentation for alternative solver options:\n",
      "    https://scikit-learn.org/stable/modules/linear_model.html#logistic-regression\n",
      "  extra_warning_msg=_LOGISTIC_SOLVER_CONVERGENCE_MSG)\n"
     ]
    },
    {
     "name": "stdout",
     "output_type": "stream",
     "text": [
      "LR: 0.455313 (0.007718)\n",
      "KNN: 0.494364 (0.007825)\n",
      "NB: 0.516480 (0.003571)\n",
      "LDA: 0.497931 (0.007310)\n",
      "SVM: 0.434626 (0.003171)\n",
      "RF: 0.518611 (0.011117)\n",
      "XGB: 0.484765 (0.013947)\n",
      "LGB: 0.520772 (0.010510)\n"
     ]
    },
    {
     "data": {
      "image/png": "[encoded data removed]",
      "text/plain": [
       "<Figure size 432x288 with 1 Axes>"
      ]
     },
     "metadata": {
      "needs_background": "light"
     },
     "output_type": "display_data"
    }
   ],
   "source": [
    "# On Train Data\n",
    "\n",
    "models = []\n",
    "models.append(('LR', LogisticRegression()))\n",
    "models.append(('KNN', KNeighborsClassifier()))\n",
    "models.append(('NB', GaussianNB()))\n",
    "models.append(('LDA', LinearDiscriminantAnalysis()))\n",
    "models.append(('SVM', SVC()))\n",
    "models.append(('RF', RandomForestClassifier()))\n",
    "models.append(('XGB', XGBClassifier()))\n",
    "models.append(('LGB', LGBMClassifier()))\n",
    "\n",
    "# evaluate each model in turn\n",
    "results = []\n",
    "names = []\n",
    "seed = 0\n",
    "for name, model in models:\n",
    "    kfold = KFold(n_splits=3, random_state=seed, shuffle=True)\n",
    "    cv_results = cross_val_score(model, X_train, y_train, cv=kfold, scoring='f1_macro')\n",
    "    results.append(cv_results)\n",
    "    \n",
    "    names.append(name)\n",
    "    msg = \"%s: %f (%f)\" % (name, cv_results.mean(), cv_results.std())\n",
    "    print(msg)\n",
    "    \n",
    "    \n",
    "\n",
    "# Compare Algorithms\n",
    "fig = pyplot.figure()\n",
    "fig.suptitle('Algorithm Comparison')\n",
    "ax = fig.add_subplot(111)\n",
    "pyplot.boxplot(results)\n",
    "ax.set_xticklabels(names)\n",
    "pyplot.show()"
   ]
  },
  {
   "cell_type": "code",
   "execution_count": 49,
   "metadata": {
    "ExecuteTime": {
     "end_time": "2022-03-13T10:17:12.568775Z",
     "start_time": "2022-03-13T10:17:10.281012Z"
    }
   },
   "outputs": [
    {
     "name": "stdout",
     "output_type": "stream",
     "text": [
      "LR: 0.453745 (0.003905)\n",
      "KNN: 0.485781 (0.019025)\n",
      "NB: 0.491254 (0.023643)\n",
      "LDA: 0.506071 (0.016274)\n",
      "SVM: 0.434670 (0.007128)\n",
      "RF: 0.500847 (0.022790)\n",
      "XGB: 0.497898 (0.011930)\n",
      "LGB: 0.517486 (0.035088)\n"
     ]
    },
    {
     "data": {
      "image/png": "[encoded data removed]",
      "text/plain": [
       "<Figure size 432x288 with 1 Axes>"
      ]
     },
     "metadata": {
      "needs_background": "light"
     },
     "output_type": "display_data"
    }
   ],
   "source": [
    "# On Test Data\n",
    "\n",
    "models = []\n",
    "models.append(('LR', LogisticRegression()))\n",
    "models.append(('KNN', KNeighborsClassifier()))\n",
    "models.append(('NB', GaussianNB()))\n",
    "models.append(('LDA', LinearDiscriminantAnalysis()))\n",
    "models.append(('SVM', SVC()))\n",
    "models.append(('RF', RandomForestClassifier()))\n",
    "models.append(('XGB', XGBClassifier()))\n",
    "models.append(('LGB', LGBMClassifier()))\n",
    "\n",
    "# evaluate each model in turn\n",
    "results = []\n",
    "names = []\n",
    "seed = 0\n",
    "for name, model in models:\n",
    "    kfold = KFold(n_splits=3, random_state=seed, shuffle=True)\n",
    "    cv_results = cross_val_score(model, X_test, y_test, cv=kfold, scoring='f1_macro')\n",
    "    results.append(cv_results)\n",
    "    \n",
    "    names.append(name)\n",
    "    msg = \"%s: %f (%f)\" % (name, cv_results.mean(), cv_results.std())\n",
    "    print(msg)\n",
    "    \n",
    "    \n",
    "\n",
    "# Compare Algorithms\n",
    "fig = pyplot.figure()\n",
    "fig.suptitle('Algorithm Comparison')\n",
    "ax = fig.add_subplot(111)\n",
    "pyplot.boxplot(results)\n",
    "ax.set_xticklabels(names)\n",
    "pyplot.show()"
   ]
  },
  {
   "cell_type": "markdown",
   "metadata": {},
   "source": [
    "### Inference"
   ]
  },
  {
   "cell_type": "markdown",
   "metadata": {},
   "source": [
    "<b>Trained with LGBM, XGBoost, Random Forest and Linear Discriminant Analysis. \n",
    "After trying multiple training rounds, found that weighted ensembling of XGboost and LGBM is doing consistently good\n",
    "So, I'll be showing training of XGboost and LGBM and, will do the final weighted ensembling</b>"
   ]
  },
  {
   "cell_type": "markdown",
   "metadata": {},
   "source": [
    "## Training"
   ]
  },
  {
   "cell_type": "markdown",
   "metadata": {
    "ExecuteTime": {
     "end_time": "2022-03-13T10:00:58.327626Z",
     "start_time": "2022-03-13T10:00:58.322713Z"
    }
   },
   "source": [
    "<b>Initially had trained on X_train data i.e. splitted data and tested on X_test data, though after good hyper-parameter optimization, trained models on complete training data, so that it can capture most of the data info/patterms</b>"
   ]
  },
  {
   "cell_type": "markdown",
   "metadata": {},
   "source": [
    "### XGBoost"
   ]
  },
  {
   "cell_type": "code",
   "execution_count": 50,
   "metadata": {
    "ExecuteTime": {
     "end_time": "2022-03-13T10:18:25.351998Z",
     "start_time": "2022-03-13T10:18:24.485707Z"
    }
   },
   "outputs": [
    {
     "data": {
      "text/plain": [
       "XGBClassifier(colsample_bytree=0.7000000000000002, gamma=0.1,\n",
       "              learning_rate=0.09899999999999992, max_depth=7,\n",
       "              min_child_weight=5, n_estimators=149, reg_alpha=30, reg_lambda=30,\n",
       "              seed=777, subsample=0.8000000000000003, verbosity=0)"
      ]
     },
     "execution_count": 50,
     "metadata": {},
     "output_type": "execute_result"
    }
   ],
   "source": [
    "# XGB parameters\n",
    "params={'colsample_bytree': 0.7000000000000002, 'gamma': 0.1, 'learning_rate': 0.09899999999999992, 'max_depth': 7, 'min_child_weight': 5, 'n_estimators': 149, 'subsample': 0.8000000000000003}\n",
    "\n",
    "# create the model\n",
    "xgb = XGBClassifier(min_child_weight=params['min_child_weight'],\n",
    "                       subsample=params['subsample'],\n",
    "                       max_depth=params['max_depth'],\n",
    "                       learning_rate=params['learning_rate'],\n",
    "                       n_estimators=params['n_estimators'],\n",
    "                       colsample_bytree=params['colsample_bytree'],\n",
    "                       gamma=params['gamma'],\n",
    "                       reg_lambda=30, \n",
    "                       reg_alpha=30,\n",
    "                       verbosity=0,\n",
    "                       seed=777\n",
    "                       )\n",
    "\n",
    "# fit the model\n",
    "xgb.fit(train[features1], train['Is_Churn'])"
   ]
  },
  {
   "cell_type": "code",
   "execution_count": 51,
   "metadata": {
    "ExecuteTime": {
     "end_time": "2022-03-13T10:18:26.202947Z",
     "start_time": "2022-03-13T10:18:26.023865Z"
    }
   },
   "outputs": [
    {
     "name": "stdout",
     "output_type": "stream",
     "text": [
      "_____Train_____\n"
     ]
    },
    {
     "data": {
      "text/html": [
       "<div>\n",
       "<style scoped>\n",
       "    .dataframe tbody tr th:only-of-type {\n",
       "        vertical-align: middle;\n",
       "    }\n",
       "\n",
       "    .dataframe tbody tr th {\n",
       "        vertical-align: top;\n",
       "    }\n",
       "\n",
       "    .dataframe thead th {\n",
       "        text-align: right;\n",
       "    }\n",
       "</style>\n",
       "<table border=\"1\" class=\"dataframe\">\n",
       "  <thead>\n",
       "    <tr style=\"text-align: right;\">\n",
       "      <th></th>\n",
       "      <th>F1_Score</th>\n",
       "      <th>Accuracy</th>\n",
       "      <th>Class_Count</th>\n",
       "      <th>Class_Ratio</th>\n",
       "    </tr>\n",
       "  </thead>\n",
       "  <tbody>\n",
       "    <tr>\n",
       "      <th>@_0.1</th>\n",
       "      <td>20.181918</td>\n",
       "      <td>24.045113</td>\n",
       "      <td>6650.0</td>\n",
       "      <td>1.0</td>\n",
       "    </tr>\n",
       "    <tr>\n",
       "      <th>@_0.2</th>\n",
       "      <td>54.213017</td>\n",
       "      <td>56.300752</td>\n",
       "      <td>6650.0</td>\n",
       "      <td>1.0</td>\n",
       "    </tr>\n",
       "    <tr>\n",
       "      <th>@_0.3</th>\n",
       "      <td>61.512650</td>\n",
       "      <td>73.037594</td>\n",
       "      <td>6650.0</td>\n",
       "      <td>1.0</td>\n",
       "    </tr>\n",
       "    <tr>\n",
       "      <th>@_0.4</th>\n",
       "      <td>55.645926</td>\n",
       "      <td>77.007519</td>\n",
       "      <td>6650.0</td>\n",
       "      <td>1.0</td>\n",
       "    </tr>\n",
       "    <tr>\n",
       "      <th>@_0.5</th>\n",
       "      <td>46.724542</td>\n",
       "      <td>77.338346</td>\n",
       "      <td>6650.0</td>\n",
       "      <td>1.0</td>\n",
       "    </tr>\n",
       "    <tr>\n",
       "      <th>@_0.6</th>\n",
       "      <td>43.535518</td>\n",
       "      <td>76.902256</td>\n",
       "      <td>6650.0</td>\n",
       "      <td>1.0</td>\n",
       "    </tr>\n",
       "    <tr>\n",
       "      <th>@_0.7</th>\n",
       "      <td>43.466803</td>\n",
       "      <td>76.887218</td>\n",
       "      <td>6650.0</td>\n",
       "      <td>1.0</td>\n",
       "    </tr>\n",
       "    <tr>\n",
       "      <th>@_0.8</th>\n",
       "      <td>43.466803</td>\n",
       "      <td>76.887218</td>\n",
       "      <td>6650.0</td>\n",
       "      <td>1.0</td>\n",
       "    </tr>\n",
       "    <tr>\n",
       "      <th>@_0.9</th>\n",
       "      <td>43.466803</td>\n",
       "      <td>76.887218</td>\n",
       "      <td>6650.0</td>\n",
       "      <td>1.0</td>\n",
       "    </tr>\n",
       "  </tbody>\n",
       "</table>\n",
       "</div>"
      ],
      "text/plain": [
       "        F1_Score   Accuracy  Class_Count  Class_Ratio\n",
       "@_0.1  20.181918  24.045113       6650.0          1.0\n",
       "@_0.2  54.213017  56.300752       6650.0          1.0\n",
       "@_0.3  61.512650  73.037594       6650.0          1.0\n",
       "@_0.4  55.645926  77.007519       6650.0          1.0\n",
       "@_0.5  46.724542  77.338346       6650.0          1.0\n",
       "@_0.6  43.535518  76.902256       6650.0          1.0\n",
       "@_0.7  43.466803  76.887218       6650.0          1.0\n",
       "@_0.8  43.466803  76.887218       6650.0          1.0\n",
       "@_0.9  43.466803  76.887218       6650.0          1.0"
      ]
     },
     "metadata": {},
     "output_type": "display_data"
    }
   ],
   "source": [
    "# evaluate the model\n",
    "\n",
    "train['xgb_preds'] = xgb.predict_proba(train[features1])[:, 1]\n",
    "\n",
    "print(\"_____Train_____\")\n",
    "score_df(train, train['Is_Churn'], 'xgb_preds', \n",
    "         [np.round(i,2) for i in list(np.arange(0.1, 1, 0.1, dtype=float))])"
   ]
  },
  {
   "cell_type": "code",
   "execution_count": 52,
   "metadata": {
    "ExecuteTime": {
     "end_time": "2022-03-13T10:18:27.181178Z",
     "start_time": "2022-03-13T10:18:26.864287Z"
    }
   },
   "outputs": [
    {
     "name": "stdout",
     "output_type": "stream",
     "text": [
      "_____Train_____\n"
     ]
    },
    {
     "data": {
      "text/html": [
       "<div>\n",
       "<style scoped>\n",
       "    .dataframe tbody tr th:only-of-type {\n",
       "        vertical-align: middle;\n",
       "    }\n",
       "\n",
       "    .dataframe tbody tr th {\n",
       "        vertical-align: top;\n",
       "    }\n",
       "\n",
       "    .dataframe thead th {\n",
       "        text-align: right;\n",
       "    }\n",
       "</style>\n",
       "<table border=\"1\" class=\"dataframe\">\n",
       "  <thead>\n",
       "    <tr style=\"text-align: right;\">\n",
       "      <th></th>\n",
       "      <th>F1_Score</th>\n",
       "      <th>Accuracy</th>\n",
       "      <th>Class_Count</th>\n",
       "      <th>Class_Ratio</th>\n",
       "    </tr>\n",
       "  </thead>\n",
       "  <tbody>\n",
       "    <tr>\n",
       "      <th>@_0.2</th>\n",
       "      <td>54.213017</td>\n",
       "      <td>56.300752</td>\n",
       "      <td>6650.0</td>\n",
       "      <td>1.0</td>\n",
       "    </tr>\n",
       "    <tr>\n",
       "      <th>@_0.21</th>\n",
       "      <td>55.614982</td>\n",
       "      <td>58.451128</td>\n",
       "      <td>6650.0</td>\n",
       "      <td>1.0</td>\n",
       "    </tr>\n",
       "    <tr>\n",
       "      <th>@_0.22</th>\n",
       "      <td>57.059315</td>\n",
       "      <td>60.781955</td>\n",
       "      <td>6650.0</td>\n",
       "      <td>1.0</td>\n",
       "    </tr>\n",
       "    <tr>\n",
       "      <th>@_0.23</th>\n",
       "      <td>58.536139</td>\n",
       "      <td>63.203008</td>\n",
       "      <td>6650.0</td>\n",
       "      <td>1.0</td>\n",
       "    </tr>\n",
       "    <tr>\n",
       "      <th>@_0.24</th>\n",
       "      <td>59.217090</td>\n",
       "      <td>64.857143</td>\n",
       "      <td>6650.0</td>\n",
       "      <td>1.0</td>\n",
       "    </tr>\n",
       "    <tr>\n",
       "      <th>@_0.25</th>\n",
       "      <td>60.113548</td>\n",
       "      <td>66.766917</td>\n",
       "      <td>6650.0</td>\n",
       "      <td>1.0</td>\n",
       "    </tr>\n",
       "    <tr>\n",
       "      <th>@_0.26</th>\n",
       "      <td>60.811014</td>\n",
       "      <td>68.481203</td>\n",
       "      <td>6650.0</td>\n",
       "      <td>1.0</td>\n",
       "    </tr>\n",
       "    <tr>\n",
       "      <th>@_0.27</th>\n",
       "      <td>61.234101</td>\n",
       "      <td>69.849624</td>\n",
       "      <td>6650.0</td>\n",
       "      <td>1.0</td>\n",
       "    </tr>\n",
       "    <tr>\n",
       "      <th>@_0.28</th>\n",
       "      <td>61.615240</td>\n",
       "      <td>71.067669</td>\n",
       "      <td>6650.0</td>\n",
       "      <td>1.0</td>\n",
       "    </tr>\n",
       "    <tr>\n",
       "      <th>@_0.29</th>\n",
       "      <td>61.539297</td>\n",
       "      <td>72.120301</td>\n",
       "      <td>6650.0</td>\n",
       "      <td>1.0</td>\n",
       "    </tr>\n",
       "    <tr>\n",
       "      <th>@_0.3</th>\n",
       "      <td>61.512650</td>\n",
       "      <td>73.037594</td>\n",
       "      <td>6650.0</td>\n",
       "      <td>1.0</td>\n",
       "    </tr>\n",
       "    <tr>\n",
       "      <th>@_0.31</th>\n",
       "      <td>61.399367</td>\n",
       "      <td>73.759398</td>\n",
       "      <td>6650.0</td>\n",
       "      <td>1.0</td>\n",
       "    </tr>\n",
       "    <tr>\n",
       "      <th>@_0.32</th>\n",
       "      <td>61.258734</td>\n",
       "      <td>74.481203</td>\n",
       "      <td>6650.0</td>\n",
       "      <td>1.0</td>\n",
       "    </tr>\n",
       "    <tr>\n",
       "      <th>@_0.33</th>\n",
       "      <td>60.956464</td>\n",
       "      <td>75.203008</td>\n",
       "      <td>6650.0</td>\n",
       "      <td>1.0</td>\n",
       "    </tr>\n",
       "    <tr>\n",
       "      <th>@_0.34</th>\n",
       "      <td>60.636982</td>\n",
       "      <td>75.819549</td>\n",
       "      <td>6650.0</td>\n",
       "      <td>1.0</td>\n",
       "    </tr>\n",
       "    <tr>\n",
       "      <th>@_0.35</th>\n",
       "      <td>60.423155</td>\n",
       "      <td>76.390977</td>\n",
       "      <td>6650.0</td>\n",
       "      <td>1.0</td>\n",
       "    </tr>\n",
       "    <tr>\n",
       "      <th>@_0.36</th>\n",
       "      <td>59.367613</td>\n",
       "      <td>76.586466</td>\n",
       "      <td>6650.0</td>\n",
       "      <td>1.0</td>\n",
       "    </tr>\n",
       "    <tr>\n",
       "      <th>@_0.37</th>\n",
       "      <td>58.902128</td>\n",
       "      <td>76.992481</td>\n",
       "      <td>6650.0</td>\n",
       "      <td>1.0</td>\n",
       "    </tr>\n",
       "    <tr>\n",
       "      <th>@_0.38</th>\n",
       "      <td>58.038431</td>\n",
       "      <td>77.082707</td>\n",
       "      <td>6650.0</td>\n",
       "      <td>1.0</td>\n",
       "    </tr>\n",
       "    <tr>\n",
       "      <th>@_0.39</th>\n",
       "      <td>56.910714</td>\n",
       "      <td>77.082707</td>\n",
       "      <td>6650.0</td>\n",
       "      <td>1.0</td>\n",
       "    </tr>\n",
       "  </tbody>\n",
       "</table>\n",
       "</div>"
      ],
      "text/plain": [
       "         F1_Score   Accuracy  Class_Count  Class_Ratio\n",
       "@_0.2   54.213017  56.300752       6650.0          1.0\n",
       "@_0.21  55.614982  58.451128       6650.0          1.0\n",
       "@_0.22  57.059315  60.781955       6650.0          1.0\n",
       "@_0.23  58.536139  63.203008       6650.0          1.0\n",
       "@_0.24  59.217090  64.857143       6650.0          1.0\n",
       "@_0.25  60.113548  66.766917       6650.0          1.0\n",
       "@_0.26  60.811014  68.481203       6650.0          1.0\n",
       "@_0.27  61.234101  69.849624       6650.0          1.0\n",
       "@_0.28  61.615240  71.067669       6650.0          1.0\n",
       "@_0.29  61.539297  72.120301       6650.0          1.0\n",
       "@_0.3   61.512650  73.037594       6650.0          1.0\n",
       "@_0.31  61.399367  73.759398       6650.0          1.0\n",
       "@_0.32  61.258734  74.481203       6650.0          1.0\n",
       "@_0.33  60.956464  75.203008       6650.0          1.0\n",
       "@_0.34  60.636982  75.819549       6650.0          1.0\n",
       "@_0.35  60.423155  76.390977       6650.0          1.0\n",
       "@_0.36  59.367613  76.586466       6650.0          1.0\n",
       "@_0.37  58.902128  76.992481       6650.0          1.0\n",
       "@_0.38  58.038431  77.082707       6650.0          1.0\n",
       "@_0.39  56.910714  77.082707       6650.0          1.0"
      ]
     },
     "metadata": {},
     "output_type": "display_data"
    }
   ],
   "source": [
    "print(\"_____Train_____\")\n",
    "score_df(train, train['Is_Churn'], 'xgb_preds', \n",
    "         [np.round(i,2) for i in list(np.arange(0.2, 0.4, 0.01, dtype=float))])"
   ]
  },
  {
   "cell_type": "code",
   "execution_count": 53,
   "metadata": {
    "ExecuteTime": {
     "end_time": "2022-03-13T10:18:28.111036Z",
     "start_time": "2022-03-13T10:18:27.849570Z"
    },
    "scrolled": true
   },
   "outputs": [
    {
     "data": {
      "text/plain": [
       "<matplotlib.axes._subplots.AxesSubplot at 0x7f98ec4af470>"
      ]
     },
     "execution_count": 53,
     "metadata": {},
     "output_type": "execute_result"
    },
    {
     "data": {
      "image/png": "[encoded data removed]",
      "text/plain": [
       "<Figure size 432x288 with 1 Axes>"
      ]
     },
     "metadata": {
      "needs_background": "light"
     },
     "output_type": "display_data"
    }
   ],
   "source": [
    "#feature importance\n",
    "plot_importance(xgb)"
   ]
  },
  {
   "cell_type": "markdown",
   "metadata": {},
   "source": [
    "### xgb hyp. tuning"
   ]
  },
  {
   "cell_type": "code",
   "execution_count": 177,
   "metadata": {
    "ExecuteTime": {
     "end_time": "2022-03-12T18:05:41.792361Z",
     "start_time": "2022-03-12T18:05:41.783987Z"
    }
   },
   "outputs": [],
   "source": [
    "#### Hyper Space \n",
    "\n",
    "space = {\n",
    "        'min_child_weight': hp.choice('min_child_weight', list(range(1, 10))),\n",
    "        'subsample':  hp.choice('subsample', list(np.arange(0.2, 0.8, 0.1,dtype=float))),\n",
    "        'max_depth':  hp.choice('max_depth', list(range(3, 10))),\n",
    "        'learning_rate':  hp.choice('learning_rate', list(np.arange(0.01, 0.1, 0.001,dtype=float))),\n",
    "        'n_estimators':  hp.choice('n_estimators', list(range(50, 200))),\n",
    "        'colsample_bytree': hp.choice('colsample_bytree', list(np.arange(0.2, 0.8, 0.1,dtype=float))),\n",
    "        'gamma': hp.choice('gamma', list(np.arange(0.1, 9, 0.1,dtype=float)))\n",
    "    }"
   ]
  },
  {
   "cell_type": "code",
   "execution_count": 210,
   "metadata": {
    "ExecuteTime": {
     "end_time": "2022-03-12T18:22:14.437460Z",
     "start_time": "2022-03-12T18:22:14.425534Z"
    }
   },
   "outputs": [],
   "source": [
    "sample(space)\n",
    "\n",
    "#### Objective \n",
    "\n",
    "def objective(params, n_folds=StratifiedKFold(n_splits=10)):\n",
    "    global ITERATION\n",
    "    ITERATION += 1\n",
    "    start = timer()\n",
    "    cv_result = cross_val_score(XGBClassifier(min_child_weight=params['min_child_weight'],\n",
    "                                               subsample=params['subsample'],\n",
    "                                               max_depth=params['max_depth'],\n",
    "                                               learning_rate=params['learning_rate'],\n",
    "                                               n_estimators=params['n_estimators'],\n",
    "                                               colsample_bytree=params['colsample_bytree'],\n",
    "                                               gamma=params['gamma'],\n",
    "                                               reg_lambda=20, \n",
    "                                               reg_alpha=20,\n",
    "                                               verbosity=0,\n",
    "                                               seed=777\n",
    "                                               ),\n",
    "        X=np.array(X_train[features1]),\n",
    "        y=np.array(y_train),\n",
    "        scoring=\"f1_macro\",\n",
    "        cv=n_folds,\n",
    "        verbose=0,\n",
    "        n_jobs=-1)\n",
    "    \n",
    "    run_time = timer() - start\n",
    "    best_score = np.mean(cv_result)\n",
    "    mean_score_list.append(best_score)\n",
    "    print(cv_result)\n",
    "    loss = 1 - best_score\n",
    "    n_estimators = int(np.argmax(cv_result) + 1)\n",
    "    print({\n",
    "        'best_score': best_score,\n",
    "        'loss': loss,\n",
    "        'params': params,\n",
    "        'iteration': ITERATION,\n",
    "        'best_cv': n_estimators,\n",
    "        'train_time': run_time,\n",
    "        'status': STATUS_OK\n",
    "    })\n",
    "    return {\n",
    "        'best_score': best_score,\n",
    "        'loss': loss,\n",
    "        'params': params,\n",
    "        'iteration': ITERATION,\n",
    "        'best_cv': n_estimators,\n",
    "        'train_time': run_time,\n",
    "        'status': STATUS_OK\n",
    "    }"
   ]
  },
  {
   "cell_type": "code",
   "execution_count": 211,
   "metadata": {
    "ExecuteTime": {
     "end_time": "2022-03-12T18:22:55.725719Z",
     "start_time": "2022-03-12T18:22:15.605656Z"
    },
    "collapsed": true
   },
   "outputs": [
    {
     "name": "stdout",
     "output_type": "stream",
     "text": [
      "[0.434644 0.434644 0.434644 0.434644 0.434644 0.434644 0.434644 0.434644\n",
      " 0.434644 0.434644]\n",
      "{'best_score': 0.434643995749203, 'loss': 0.565356004250797, 'params': {'colsample_bytree': 0.30000000000000004, 'gamma': 7.6, 'learning_rate': 0.05999999999999996, 'max_depth': 4, 'min_child_weight': 7, 'n_estimators': 102, 'subsample': 0.30000000000000004}, 'iteration': 1, 'best_cv': 1, 'train_time': 0.3625821992754936, 'status': 'ok'}\n",
      "[0.45591255 0.48972558 0.47918472 0.46711741 0.47422171 0.47332335          \n",
      " 0.48202875 0.48012889 0.47918472 0.46545874]\n",
      "{'best_score': 0.4746286435605853, 'loss': 0.5253713564394147, 'params': {'colsample_bytree': 0.7000000000000002, 'gamma': 0.1, 'learning_rate': 0.09899999999999992, 'max_depth': 7, 'min_child_weight': 5, 'n_estimators': 149, 'subsample': 0.8000000000000003}, 'iteration': 2, 'best_cv': 2, 'train_time': 1.3996663466095924, 'status': 'ok'}\n",
      "[0.434644 0.434644 0.434644 0.434644 0.434644 0.434644 0.434644 0.434644     \n",
      " 0.434644 0.434644]\n",
      "{'best_score': 0.434643995749203, 'loss': 0.565356004250797, 'params': {'colsample_bytree': 0.8000000000000003, 'gamma': 8.6, 'learning_rate': 0.05799999999999996, 'max_depth': 6, 'min_child_weight': 8, 'n_estimators': 87, 'subsample': 0.7000000000000002}, 'iteration': 3, 'best_cv': 1, 'train_time': 0.8284295424818993, 'status': 'ok'}\n",
      "[0.434644 0.434644 0.434644 0.434644 0.434644 0.434644 0.434644 0.434644     \n",
      " 0.434644 0.434644]\n",
      "{'best_score': 0.434643995749203, 'loss': 0.565356004250797, 'params': {'colsample_bytree': 0.8000000000000003, 'gamma': 6.5, 'learning_rate': 0.08499999999999994, 'max_depth': 9, 'min_child_weight': 8, 'n_estimators': 98, 'subsample': 0.4000000000000001}, 'iteration': 4, 'best_cv': 1, 'train_time': 0.7714164182543755, 'status': 'ok'}\n",
      "[0.434644 0.434644 0.434644 0.434644 0.434644 0.434644 0.434644 0.434644     \n",
      " 0.434644 0.434644]\n",
      "{'best_score': 0.434643995749203, 'loss': 0.565356004250797, 'params': {'colsample_bytree': 0.4000000000000001, 'gamma': 7.6, 'learning_rate': 0.05999999999999996, 'max_depth': 6, 'min_child_weight': 8, 'n_estimators': 172, 'subsample': 0.5000000000000001}, 'iteration': 5, 'best_cv': 1, 'train_time': 0.8528636172413826, 'status': 'ok'}\n",
      "[0.434644 0.434644 0.434644 0.434644 0.434644 0.434644 0.434644 0.434644     \n",
      " 0.434644 0.434644]\n",
      "{'best_score': 0.434643995749203, 'loss': 0.565356004250797, 'params': {'colsample_bytree': 0.4000000000000001, 'gamma': 3.5000000000000004, 'learning_rate': 0.03999999999999997, 'max_depth': 6, 'min_child_weight': 9, 'n_estimators': 87, 'subsample': 0.2}, 'iteration': 6, 'best_cv': 1, 'train_time': 0.2737450897693634, 'status': 'ok'}\n",
      "[0.434644 0.434644 0.434644 0.434644 0.434644 0.434644 0.434644 0.434644     \n",
      " 0.434644 0.434644]\n",
      "{'best_score': 0.434643995749203, 'loss': 0.565356004250797, 'params': {'colsample_bytree': 0.30000000000000004, 'gamma': 4.7, 'learning_rate': 0.053999999999999965, 'max_depth': 5, 'min_child_weight': 7, 'n_estimators': 195, 'subsample': 0.4000000000000001}, 'iteration': 7, 'best_cv': 1, 'train_time': 0.7176622897386551, 'status': 'ok'}\n",
      "[0.434644 0.434644 0.434644 0.434644 0.434644 0.434644 0.434644 0.434644     \n",
      " 0.434644 0.434644]\n",
      "{'best_score': 0.434643995749203, 'loss': 0.565356004250797, 'params': {'colsample_bytree': 0.6000000000000001, 'gamma': 6.8, 'learning_rate': 0.027999999999999983, 'max_depth': 3, 'min_child_weight': 8, 'n_estimators': 156, 'subsample': 0.2}, 'iteration': 8, 'best_cv': 1, 'train_time': 0.5678425803780556, 'status': 'ok'}\n",
      "[0.434644 0.434644 0.434644 0.434644 0.434644 0.434644 0.434644 0.434644     \n",
      " 0.434644 0.434644]\n",
      "{'best_score': 0.434643995749203, 'loss': 0.565356004250797, 'params': {'colsample_bytree': 0.8000000000000003, 'gamma': 7.6, 'learning_rate': 0.015999999999999993, 'max_depth': 8, 'min_child_weight': 3, 'n_estimators': 175, 'subsample': 0.8000000000000003}, 'iteration': 9, 'best_cv': 1, 'train_time': 1.8349185213446617, 'status': 'ok'}\n",
      "[0.4431709  0.45984364 0.45156976 0.44865896 0.4431709  0.45084103           \n",
      " 0.4431709  0.45084103 0.44250479 0.4431709 ]\n",
      "{'best_score': 0.4476942804814047, 'loss': 0.5523057195185953, 'params': {'colsample_bytree': 0.4000000000000001, 'gamma': 0.9, 'learning_rate': 0.08999999999999993, 'max_depth': 5, 'min_child_weight': 2, 'n_estimators': 168, 'subsample': 0.7000000000000002}, 'iteration': 10, 'best_cv': 2, 'train_time': 0.9207965433597565, 'status': 'ok'}\n",
      "[0.434644 0.434644 0.434644 0.434644 0.434644 0.434644 0.434644 0.434644      \n",
      " 0.434644 0.434644]\n",
      "{'best_score': 0.434643995749203, 'loss': 0.565356004250797, 'params': {'colsample_bytree': 0.30000000000000004, 'gamma': 2.2, 'learning_rate': 0.03699999999999998, 'max_depth': 3, 'min_child_weight': 5, 'n_estimators': 171, 'subsample': 0.7000000000000002}, 'iteration': 11, 'best_cv': 1, 'train_time': 0.6141514927148819, 'status': 'ok'}\n",
      "[0.434644 0.434644 0.434644 0.434644 0.434644 0.434644 0.434644 0.434644      \n",
      " 0.434644 0.434644]\n",
      "{'best_score': 0.434643995749203, 'loss': 0.565356004250797, 'params': {'colsample_bytree': 0.2, 'gamma': 5.2, 'learning_rate': 0.05699999999999996, 'max_depth': 7, 'min_child_weight': 4, 'n_estimators': 119, 'subsample': 0.4000000000000001}, 'iteration': 12, 'best_cv': 1, 'train_time': 0.3574007973074913, 'status': 'ok'}\n",
      "[0.434644 0.434644 0.434644 0.434644 0.434644 0.434644 0.434644 0.434644      \n",
      " 0.434644 0.434644]\n",
      "{'best_score': 0.434643995749203, 'loss': 0.565356004250797, 'params': {'colsample_bytree': 0.4000000000000001, 'gamma': 2.3000000000000003, 'learning_rate': 0.06999999999999995, 'max_depth': 7, 'min_child_weight': 5, 'n_estimators': 77, 'subsample': 0.7000000000000002}, 'iteration': 13, 'best_cv': 1, 'train_time': 0.45140665769577026, 'status': 'ok'}\n",
      "[0.434644 0.434644 0.434644 0.434644 0.434644 0.434644 0.434644 0.434644      \n",
      " 0.434644 0.434644]\n",
      "{'best_score': 0.434643995749203, 'loss': 0.565356004250797, 'params': {'colsample_bytree': 0.4000000000000001, 'gamma': 6.7, 'learning_rate': 0.03799999999999998, 'max_depth': 4, 'min_child_weight': 4, 'n_estimators': 111, 'subsample': 0.2}, 'iteration': 14, 'best_cv': 1, 'train_time': 0.36974940448999405, 'status': 'ok'}\n",
      "[0.434644 0.434644 0.434644 0.434644 0.434644 0.434644 0.434644 0.434644      \n",
      " 0.434644 0.434644]\n",
      "{'best_score': 0.434643995749203, 'loss': 0.565356004250797, 'params': {'colsample_bytree': 0.2, 'gamma': 3.2, 'learning_rate': 0.021999999999999992, 'max_depth': 6, 'min_child_weight': 7, 'n_estimators': 128, 'subsample': 0.2}, 'iteration': 15, 'best_cv': 1, 'train_time': 0.31168948858976364, 'status': 'ok'}\n",
      "[0.434644   0.434644   0.434644   0.434644   0.434644   0.43404255            \n",
      " 0.434644   0.434644   0.434644   0.434644  ]\n",
      "{'best_score': 0.4345838514934316, 'loss': 0.5654161485065684, 'params': {'colsample_bytree': 0.7000000000000002, 'gamma': 4.2, 'learning_rate': 0.09299999999999993, 'max_depth': 9, 'min_child_weight': 5, 'n_estimators': 75, 'subsample': 0.7000000000000002}, 'iteration': 16, 'best_cv': 1, 'train_time': 0.7550227865576744, 'status': 'ok'}\n",
      "[0.434644 0.434644 0.434644 0.434644 0.434644 0.434644 0.434644 0.434644      \n",
      " 0.434644 0.434644]\n",
      "{'best_score': 0.434643995749203, 'loss': 0.565356004250797, 'params': {'colsample_bytree': 0.2, 'gamma': 8.9, 'learning_rate': 0.08599999999999992, 'max_depth': 4, 'min_child_weight': 5, 'n_estimators': 101, 'subsample': 0.4000000000000001}, 'iteration': 17, 'best_cv': 1, 'train_time': 0.3165886327624321, 'status': 'ok'}\n",
      "[0.434644 0.434644 0.434644 0.434644 0.434644 0.434644 0.434644 0.434644      \n",
      " 0.434644 0.434644]\n",
      "{'best_score': 0.434643995749203, 'loss': 0.565356004250797, 'params': {'colsample_bytree': 0.5000000000000001, 'gamma': 8.1, 'learning_rate': 0.09299999999999993, 'max_depth': 7, 'min_child_weight': 5, 'n_estimators': 86, 'subsample': 0.8000000000000003}, 'iteration': 18, 'best_cv': 1, 'train_time': 0.6208355873823166, 'status': 'ok'}\n",
      "[0.434644 0.434644 0.434644 0.434644 0.434644 0.434644 0.434644 0.434644      \n",
      " 0.434644 0.434644]\n",
      "{'best_score': 0.434643995749203, 'loss': 0.565356004250797, 'params': {'colsample_bytree': 0.8000000000000003, 'gamma': 1.7000000000000002, 'learning_rate': 0.08299999999999993, 'max_depth': 8, 'min_child_weight': 1, 'n_estimators': 97, 'subsample': 0.30000000000000004}, 'iteration': 19, 'best_cv': 1, 'train_time': 0.8393882513046265, 'status': 'ok'}\n"
     ]
    },
    {
     "name": "stdout",
     "output_type": "stream",
     "text": [
      "[0.434644   0.4431709  0.434644   0.4431709  0.434644   0.434644              \n",
      " 0.434644   0.43404255 0.434644   0.434644  ]\n",
      "{'best_score': 0.43628923216514215, 'loss': 0.5637107678348579, 'params': {'colsample_bytree': 0.6000000000000001, 'gamma': 1.1, 'learning_rate': 0.08399999999999994, 'max_depth': 4, 'min_child_weight': 1, 'n_estimators': 72, 'subsample': 0.4000000000000001}, 'iteration': 20, 'best_cv': 2, 'train_time': 0.43818825483322144, 'status': 'ok'}\n",
      "[0.4431709  0.46799553 0.45084103 0.45591255 0.45984364 0.45011303            \n",
      " 0.4431709  0.45011303 0.45084103 0.44250479]\n",
      "{'best_score': 0.45145064303347826, 'loss': 0.5485493569665217, 'params': {'colsample_bytree': 0.7000000000000002, 'gamma': 0.1, 'learning_rate': 0.03399999999999998, 'max_depth': 5, 'min_child_weight': 2, 'n_estimators': 149, 'subsample': 0.6000000000000001}, 'iteration': 21, 'best_cv': 2, 'train_time': 1.1961607336997986, 'status': 'ok'}\n",
      "[0.46377943 0.4887218  0.4952119  0.46799581 0.46630187 0.47242814            \n",
      " 0.46630187 0.47242814 0.4887218  0.44865896]\n",
      "{'best_score': 0.47305497252265283, 'loss': 0.5269450274773472, 'params': {'colsample_bytree': 0.7000000000000002, 'gamma': 0.1, 'learning_rate': 0.09899999999999992, 'max_depth': 5, 'min_child_weight': 2, 'n_estimators': 149, 'subsample': 0.6000000000000001}, 'iteration': 22, 'best_cv': 3, 'train_time': 1.169161170721054, 'status': 'ok'}\n",
      "[0.46714744 0.45984364 0.47512333 0.45435016 0.45984364 0.45905428            \n",
      " 0.4431709  0.44183843 0.45905428 0.44183843]\n",
      "{'best_score': 0.45612645096648086, 'loss': 0.5438735490335191, 'params': {'colsample_bytree': 0.7000000000000002, 'gamma': 1.6, 'learning_rate': 0.09899999999999992, 'max_depth': 5, 'min_child_weight': 6, 'n_estimators': 149, 'subsample': 0.6000000000000001}, 'iteration': 23, 'best_cv': 3, 'train_time': 1.1773453205823898, 'status': 'ok'}\n",
      "[0.434644   0.4431709  0.434644   0.4431709  0.434644   0.43404255            \n",
      " 0.434644   0.434644   0.4431709  0.434644  ]\n",
      "{'best_score': 0.4371419225009975, 'loss': 0.5628580774990025, 'params': {'colsample_bytree': 0.7000000000000002, 'gamma': 0.1, 'learning_rate': 0.013999999999999997, 'max_depth': 7, 'min_child_weight': 2, 'n_estimators': 174, 'subsample': 0.8000000000000003}, 'iteration': 24, 'best_cv': 2, 'train_time': 1.4703430980443954, 'status': 'ok'}\n",
      "[0.434644 0.434644 0.434644 0.434644 0.434644 0.434644 0.434644 0.434644      \n",
      " 0.434644 0.434644]\n",
      "{'best_score': 0.434643995749203, 'loss': 0.565356004250797, 'params': {'colsample_bytree': 0.7000000000000002, 'gamma': 7.1, 'learning_rate': 0.09699999999999992, 'max_depth': 7, 'min_child_weight': 9, 'n_estimators': 149, 'subsample': 0.6000000000000001}, 'iteration': 25, 'best_cv': 1, 'train_time': 1.3075851202011108, 'status': 'ok'}\n",
      "[0.4431709  0.46799553 0.46799553 0.45591255 0.4431709  0.43404255            \n",
      " 0.4431709  0.45156976 0.44250479 0.44183843]\n",
      "{'best_score': 0.44913718368507966, 'loss': 0.5508628163149203, 'params': {'colsample_bytree': 0.7000000000000002, 'gamma': 1.9000000000000001, 'learning_rate': 0.09899999999999992, 'max_depth': 5, 'min_child_weight': 2, 'n_estimators': 162, 'subsample': 0.8000000000000003}, 'iteration': 26, 'best_cv': 2, 'train_time': 1.3405398577451706, 'status': 'ok'}\n",
      "[0.434644 0.434644 0.434644 0.434644 0.434644 0.434644 0.434644 0.434644      \n",
      " 0.434644 0.434644]\n",
      "{'best_score': 0.434643995749203, 'loss': 0.565356004250797, 'params': {'colsample_bytree': 0.5000000000000001, 'gamma': 7.9, 'learning_rate': 0.09899999999999992, 'max_depth': 8, 'min_child_weight': 3, 'n_estimators': 133, 'subsample': 0.5000000000000001}, 'iteration': 27, 'best_cv': 1, 'train_time': 0.9240666180849075, 'status': 'ok'}\n",
      "[0.434644 0.434644 0.434644 0.434644 0.434644 0.434644 0.434644 0.434644      \n",
      " 0.434644 0.434644]\n",
      "{'best_score': 0.434643995749203, 'loss': 0.565356004250797, 'params': {'colsample_bytree': 0.7000000000000002, 'gamma': 7.3, 'learning_rate': 0.08099999999999993, 'max_depth': 5, 'min_child_weight': 2, 'n_estimators': 166, 'subsample': 0.6000000000000001}, 'iteration': 28, 'best_cv': 1, 'train_time': 1.3927220180630684, 'status': 'ok'}\n",
      "[0.434644 0.434644 0.434644 0.434644 0.434644 0.434644 0.434644 0.434644      \n",
      " 0.434644 0.434644]\n",
      "{'best_score': 0.434643995749203, 'loss': 0.565356004250797, 'params': {'colsample_bytree': 0.7000000000000002, 'gamma': 6.2, 'learning_rate': 0.09199999999999993, 'max_depth': 7, 'min_child_weight': 6, 'n_estimators': 196, 'subsample': 0.30000000000000004}, 'iteration': 29, 'best_cv': 1, 'train_time': 1.2080803364515305, 'status': 'ok'}\n",
      "[0.434644 0.434644 0.434644 0.434644 0.434644 0.434644 0.434644 0.434644      \n",
      " 0.434644 0.434644]\n",
      "{'best_score': 0.434643995749203, 'loss': 0.565356004250797, 'params': {'colsample_bytree': 0.7000000000000002, 'gamma': 3.0000000000000004, 'learning_rate': 0.011, 'max_depth': 9, 'min_child_weight': 5, 'n_estimators': 64, 'subsample': 0.8000000000000003}, 'iteration': 30, 'best_cv': 1, 'train_time': 0.4386160373687744, 'status': 'ok'}\n",
      "[0.434644 0.434644 0.434644 0.434644 0.434644 0.434644 0.434644 0.434644      \n",
      " 0.434644 0.434644]\n",
      "{'best_score': 0.434643995749203, 'loss': 0.565356004250797, 'params': {'colsample_bytree': 0.5000000000000001, 'gamma': 5.9, 'learning_rate': 0.018999999999999993, 'max_depth': 5, 'min_child_weight': 6, 'n_estimators': 92, 'subsample': 0.6000000000000001}, 'iteration': 31, 'best_cv': 1, 'train_time': 0.4821056053042412, 'status': 'ok'}\n",
      "[0.434644 0.434644 0.434644 0.434644 0.434644 0.434644 0.434644 0.434644      \n",
      " 0.434644 0.434644]\n",
      "{'best_score': 0.434643995749203, 'loss': 0.565356004250797, 'params': {'colsample_bytree': 0.6000000000000001, 'gamma': 8.7, 'learning_rate': 0.012999999999999998, 'max_depth': 3, 'min_child_weight': 2, 'n_estimators': 160, 'subsample': 0.6000000000000001}, 'iteration': 32, 'best_cv': 1, 'train_time': 0.8115158379077911, 'status': 'ok'}\n",
      "[0.434644 0.434644 0.434644 0.434644 0.434644 0.434644 0.434644 0.434644      \n",
      " 0.434644 0.434644]\n",
      "{'best_score': 0.434643995749203, 'loss': 0.565356004250797, 'params': {'colsample_bytree': 0.30000000000000004, 'gamma': 8.3, 'learning_rate': 0.030999999999999986, 'max_depth': 7, 'min_child_weight': 3, 'n_estimators': 60, 'subsample': 0.5000000000000001}, 'iteration': 33, 'best_cv': 1, 'train_time': 0.23148179054260254, 'status': 'ok'}\n",
      "[0.45826656 0.46799553 0.48202875 0.46711741 0.45084103 0.46545874            \n",
      " 0.44250479 0.48202875 0.45748041 0.44183843]\n",
      "{'best_score': 0.46155604071949136, 'loss': 0.5384439592805086, 'params': {'colsample_bytree': 0.7000000000000002, 'gamma': 0.2, 'learning_rate': 0.07799999999999994, 'max_depth': 9, 'min_child_weight': 9, 'n_estimators': 95, 'subsample': 0.8000000000000003}, 'iteration': 34, 'best_cv': 3, 'train_time': 0.898830845952034, 'status': 'ok'}\n",
      "[0.434644 0.434644 0.434644 0.434644 0.434644 0.434644 0.434644 0.434644      \n",
      " 0.434644 0.434644]\n",
      "{'best_score': 0.434643995749203, 'loss': 0.565356004250797, 'params': {'colsample_bytree': 0.8000000000000003, 'gamma': 4.1, 'learning_rate': 0.06299999999999996, 'max_depth': 6, 'min_child_weight': 7, 'n_estimators': 124, 'subsample': 0.30000000000000004}, 'iteration': 35, 'best_cv': 1, 'train_time': 0.794208288192749, 'status': 'ok'}\n",
      "[0.434644 0.434644 0.434644 0.434644 0.434644 0.434644 0.434644 0.434644      \n",
      " 0.434644 0.434644]\n",
      "{'best_score': 0.434643995749203, 'loss': 0.565356004250797, 'params': {'colsample_bytree': 0.7000000000000002, 'gamma': 0.5, 'learning_rate': 0.023999999999999987, 'max_depth': 5, 'min_child_weight': 8, 'n_estimators': 113, 'subsample': 0.5000000000000001}, 'iteration': 36, 'best_cv': 1, 'train_time': 0.7540970593690872, 'status': 'ok'}\n",
      "[0.434644 0.434644 0.434644 0.434644 0.434644 0.434644 0.434644 0.434644      \n",
      " 0.434644 0.434644]\n",
      "{'best_score': 0.434643995749203, 'loss': 0.565356004250797, 'params': {'colsample_bytree': 0.30000000000000004, 'gamma': 5.6, 'learning_rate': 0.06099999999999996, 'max_depth': 3, 'min_child_weight': 4, 'n_estimators': 188, 'subsample': 0.8000000000000003}, 'iteration': 37, 'best_cv': 1, 'train_time': 0.6644001379609108, 'status': 'ok'}\n",
      "[0.434644 0.434644 0.434644 0.434644 0.434644 0.434644 0.434644 0.434644      \n",
      " 0.434644 0.434644]\n"
     ]
    },
    {
     "name": "stdout",
     "output_type": "stream",
     "text": [
      "{'best_score': 0.434643995749203, 'loss': 0.565356004250797, 'params': {'colsample_bytree': 0.6000000000000001, 'gamma': 7.4, 'learning_rate': 0.011999999999999999, 'max_depth': 8, 'min_child_weight': 1, 'n_estimators': 159, 'subsample': 0.6000000000000001}, 'iteration': 38, 'best_cv': 1, 'train_time': 1.147796981036663, 'status': 'ok'}\n",
      "[0.434644 0.434644 0.434644 0.434644 0.434644 0.434644 0.434644 0.434644      \n",
      " 0.434644 0.434644]\n",
      "{'best_score': 0.434643995749203, 'loss': 0.565356004250797, 'params': {'colsample_bytree': 0.7000000000000002, 'gamma': 6.9, 'learning_rate': 0.054999999999999966, 'max_depth': 6, 'min_child_weight': 8, 'n_estimators': 56, 'subsample': 0.8000000000000003}, 'iteration': 39, 'best_cv': 1, 'train_time': 0.46786896884441376, 'status': 'ok'}\n",
      "[0.434644 0.434644 0.434644 0.434644 0.434644 0.434644 0.434644 0.434644      \n",
      " 0.434644 0.434644]\n",
      "{'best_score': 0.434643995749203, 'loss': 0.565356004250797, 'params': {'colsample_bytree': 0.2, 'gamma': 6.1, 'learning_rate': 0.08899999999999993, 'max_depth': 7, 'min_child_weight': 2, 'n_estimators': 71, 'subsample': 0.2}, 'iteration': 40, 'best_cv': 1, 'train_time': 0.1988745704293251, 'status': 'ok'}\n",
      "[0.434644 0.434644 0.434644 0.434644 0.434644 0.434644 0.434644 0.434644      \n",
      " 0.434644 0.434644]\n",
      "{'best_score': 0.434643995749203, 'loss': 0.565356004250797, 'params': {'colsample_bytree': 0.8000000000000003, 'gamma': 8.5, 'learning_rate': 0.05099999999999997, 'max_depth': 4, 'min_child_weight': 5, 'n_estimators': 63, 'subsample': 0.6000000000000001}, 'iteration': 41, 'best_cv': 1, 'train_time': 0.6089284643530846, 'status': 'ok'}\n",
      "[0.434644 0.434644 0.434644 0.434644 0.434644 0.434644 0.434644 0.434644      \n",
      " 0.434644 0.434644]\n",
      "{'best_score': 0.434643995749203, 'loss': 0.565356004250797, 'params': {'colsample_bytree': 0.4000000000000001, 'gamma': 0.6, 'learning_rate': 0.07699999999999994, 'max_depth': 5, 'min_child_weight': 9, 'n_estimators': 199, 'subsample': 0.30000000000000004}, 'iteration': 42, 'best_cv': 1, 'train_time': 0.7433596178889275, 'status': 'ok'}\n",
      "[0.434644 0.434644 0.434644 0.434644 0.434644 0.434644 0.434644 0.434644      \n",
      " 0.434644 0.434644]\n",
      "{'best_score': 0.434643995749203, 'loss': 0.565356004250797, 'params': {'colsample_bytree': 0.5000000000000001, 'gamma': 5.4, 'learning_rate': 0.07999999999999993, 'max_depth': 3, 'min_child_weight': 7, 'n_estimators': 52, 'subsample': 0.7000000000000002}, 'iteration': 43, 'best_cv': 1, 'train_time': 0.26340068131685257, 'status': 'ok'}\n",
      "[0.434644 0.434644 0.434644 0.434644 0.434644 0.434644 0.434644 0.434644      \n",
      " 0.434644 0.434644]\n",
      "{'best_score': 0.434643995749203, 'loss': 0.565356004250797, 'params': {'colsample_bytree': 0.30000000000000004, 'gamma': 8.0, 'learning_rate': 0.014999999999999996, 'max_depth': 9, 'min_child_weight': 3, 'n_estimators': 85, 'subsample': 0.4000000000000001}, 'iteration': 44, 'best_cv': 1, 'train_time': 0.2884276583790779, 'status': 'ok'}\n",
      "[0.434644   0.4431709  0.434644   0.45084103 0.434644   0.4431709             \n",
      " 0.434644   0.434644   0.4431709  0.434644  ]\n",
      "{'best_score': 0.43882177047490706, 'loss': 0.5611782295250929, 'params': {'colsample_bytree': 0.7000000000000002, 'gamma': 0.8, 'learning_rate': 0.03199999999999998, 'max_depth': 7, 'min_child_weight': 4, 'n_estimators': 105, 'subsample': 0.5000000000000001}, 'iteration': 45, 'best_cv': 4, 'train_time': 0.8389667049050331, 'status': 'ok'}\n",
      "[0.434644 0.434644 0.434644 0.434644 0.434644 0.434644 0.434644 0.434644      \n",
      " 0.434644 0.434644]\n",
      "{'best_score': 0.434643995749203, 'loss': 0.565356004250797, 'params': {'colsample_bytree': 0.2, 'gamma': 7.0, 'learning_rate': 0.07899999999999993, 'max_depth': 6, 'min_child_weight': 5, 'n_estimators': 127, 'subsample': 0.2}, 'iteration': 46, 'best_cv': 1, 'train_time': 0.3196948543190956, 'status': 'ok'}\n",
      "[0.434644 0.434644 0.434644 0.434644 0.434644 0.434644 0.434644 0.434644      \n",
      " 0.434644 0.434644]\n",
      "{'best_score': 0.434643995749203, 'loss': 0.565356004250797, 'params': {'colsample_bytree': 0.4000000000000001, 'gamma': 4.5, 'learning_rate': 0.09799999999999992, 'max_depth': 8, 'min_child_weight': 2, 'n_estimators': 89, 'subsample': 0.8000000000000003}, 'iteration': 47, 'best_cv': 1, 'train_time': 0.5650410205125809, 'status': 'ok'}\n",
      "[0.434644   0.45156976 0.44250479 0.45826656 0.4431709  0.44250479            \n",
      " 0.434644   0.44250479 0.44250479 0.434644  ]\n",
      "{'best_score': 0.44269583705720716, 'loss': 0.5573041629427928, 'params': {'colsample_bytree': 0.6000000000000001, 'gamma': 1.8000000000000003, 'learning_rate': 0.09099999999999993, 'max_depth': 5, 'min_child_weight': 8, 'n_estimators': 103, 'subsample': 0.7000000000000002}, 'iteration': 48, 'best_cv': 4, 'train_time': 0.7444735914468765, 'status': 'ok'}\n",
      "[0.45156976 0.46799553 0.45156976 0.45669577 0.45984364 0.45011303            \n",
      " 0.44250479 0.434644   0.45084103 0.44250479]\n",
      "{'best_score': 0.4508282084703675, 'loss': 0.5491717915296326, 'params': {'colsample_bytree': 0.8000000000000003, 'gamma': 0.1, 'learning_rate': 0.040999999999999974, 'max_depth': 4, 'min_child_weight': 5, 'n_estimators': 120, 'subsample': 0.6000000000000001}, 'iteration': 49, 'best_cv': 2, 'train_time': 0.9200983941555023, 'status': 'ok'}\n",
      "[0.434644 0.434644 0.434644 0.434644 0.434644 0.434644 0.434644 0.434644      \n",
      " 0.434644 0.434644]\n",
      "{'best_score': 0.434643995749203, 'loss': 0.565356004250797, 'params': {'colsample_bytree': 0.7000000000000002, 'gamma': 8.2, 'learning_rate': 0.024999999999999988, 'max_depth': 7, 'min_child_weight': 1, 'n_estimators': 88, 'subsample': 0.4000000000000001}, 'iteration': 50, 'best_cv': 1, 'train_time': 0.6664737686514854, 'status': 'ok'}\n",
      "100%|██████████| 50/50 [00:39<00:00,  1.25it/s, best loss: 0.5253713564394147]\n"
     ]
    },
    {
     "data": {
      "text/plain": [
       "<matplotlib.axes._subplots.AxesSubplot at 0x7fa1d7caeba8>"
      ]
     },
     "execution_count": 211,
     "metadata": {},
     "output_type": "execute_result"
    },
    {
     "data": {
      "image/png": "[encoded data removed]",
      "text/plain": [
       "<Figure size 720x360 with 1 Axes>"
      ]
     },
     "metadata": {
      "needs_background": "light"
     },
     "output_type": "display_data"
    }
   ],
   "source": [
    "#### Driver \n",
    "\n",
    "global mean_score_list\n",
    "mean_score_list=[]\n",
    "global max_score_list\n",
    "max_score_list=[]\n",
    "global ITERATION\n",
    "ITERATION = 0\n",
    "tpe_algorithm = tpe.suggest\n",
    "bayes_trials = Trials()\n",
    "best = fmin(fn=objective,\n",
    "            space=space,\n",
    "            algo=tpe.suggest,\n",
    "            max_evals=50,\n",
    "            trials=bayes_trials,\n",
    "            rstate=np.random.RandomState(9),\n",
    "            verbose=-1)\n",
    "\n",
    "bayes_trials_results = sorted(bayes_trials.results, key = lambda x: x['loss'])\n",
    "bayes_trials_results[:1]\n",
    "\n",
    "pd.DataFrame(bayes_trials_results).plot.scatter(x='iteration',y='loss',figsize=(10,5))"
   ]
  },
  {
   "cell_type": "markdown",
   "metadata": {},
   "source": [
    "### LGBM"
   ]
  },
  {
   "cell_type": "code",
   "execution_count": 54,
   "metadata": {
    "ExecuteTime": {
     "end_time": "2022-03-13T10:19:09.679108Z",
     "start_time": "2022-03-13T10:19:09.602213Z"
    }
   },
   "outputs": [
    {
     "name": "stdout",
     "output_type": "stream",
     "text": [
      "[LightGBM] [Warning] feature_fraction is set=0.6100000000000003, colsample_bytree=1.0 will be ignored. Current value: feature_fraction=0.6100000000000003\n",
      "[LightGBM] [Warning] min_data_in_leaf is set=487, min_child_samples=20 will be ignored. Current value: min_data_in_leaf=487\n",
      "[LightGBM] [Warning] bagging_freq is set=4, subsample_freq=0 will be ignored. Current value: bagging_freq=4\n",
      "[LightGBM] [Warning] feature_fraction is set=0.6100000000000003, colsample_bytree=1.0 will be ignored. Current value: feature_fraction=0.6100000000000003\n",
      "[LightGBM] [Warning] min_data_in_leaf is set=487, min_child_samples=20 will be ignored. Current value: min_data_in_leaf=487\n",
      "[LightGBM] [Warning] bagging_freq is set=4, subsample_freq=0 will be ignored. Current value: bagging_freq=4\n",
      "[LightGBM] [Warning] Auto-choosing row-wise multi-threading, the overhead of testing was 0.000110 seconds.\n",
      "You can set `force_row_wise=true` to remove the overhead.\n",
      "And if memory is not enough, you can set `force_col_wise=true`.\n",
      "[LightGBM] [Warning] No further splits with positive gain, best gain: -inf\n",
      "[LightGBM] [Warning] No further splits with positive gain, best gain: -inf\n",
      "[LightGBM] [Warning] No further splits with positive gain, best gain: -inf\n",
      "[LightGBM] [Warning] No further splits with positive gain, best gain: -inf\n",
      "[LightGBM] [Warning] No further splits with positive gain, best gain: -inf\n",
      "[LightGBM] [Warning] No further splits with positive gain, best gain: -inf\n",
      "[LightGBM] [Warning] No further splits with positive gain, best gain: -inf\n",
      "[LightGBM] [Warning] No further splits with positive gain, best gain: -inf\n",
      "[LightGBM] [Warning] No further splits with positive gain, best gain: -inf\n",
      "[LightGBM] [Warning] No further splits with positive gain, best gain: -inf\n",
      "[LightGBM] [Warning] No further splits with positive gain, best gain: -inf\n",
      "[LightGBM] [Warning] No further splits with positive gain, best gain: -inf\n",
      "[LightGBM] [Warning] No further splits with positive gain, best gain: -inf\n",
      "[LightGBM] [Warning] No further splits with positive gain, best gain: -inf\n",
      "[LightGBM] [Warning] No further splits with positive gain, best gain: -inf\n",
      "[LightGBM] [Warning] No further splits with positive gain, best gain: -inf\n",
      "[LightGBM] [Warning] No further splits with positive gain, best gain: -inf\n",
      "[LightGBM] [Warning] No further splits with positive gain, best gain: -inf\n",
      "[LightGBM] [Warning] No further splits with positive gain, best gain: -inf\n",
      "[LightGBM] [Warning] No further splits with positive gain, best gain: -inf\n",
      "[LightGBM] [Warning] No further splits with positive gain, best gain: -inf\n",
      "[LightGBM] [Warning] No further splits with positive gain, best gain: -inf\n",
      "[LightGBM] [Warning] No further splits with positive gain, best gain: -inf\n",
      "[LightGBM] [Warning] No further splits with positive gain, best gain: -inf\n",
      "[LightGBM] [Warning] No further splits with positive gain, best gain: -inf\n",
      "[LightGBM] [Warning] No further splits with positive gain, best gain: -inf\n",
      "[LightGBM] [Warning] No further splits with positive gain, best gain: -inf\n",
      "[LightGBM] [Warning] No further splits with positive gain, best gain: -inf\n",
      "[LightGBM] [Warning] No further splits with positive gain, best gain: -inf\n",
      "[LightGBM] [Warning] No further splits with positive gain, best gain: -inf\n",
      "[LightGBM] [Warning] No further splits with positive gain, best gain: -inf\n",
      "[LightGBM] [Warning] No further splits with positive gain, best gain: -inf\n",
      "[LightGBM] [Warning] No further splits with positive gain, best gain: -inf\n",
      "[LightGBM] [Warning] No further splits with positive gain, best gain: -inf\n",
      "[LightGBM] [Warning] No further splits with positive gain, best gain: -inf\n",
      "[LightGBM] [Warning] No further splits with positive gain, best gain: -inf\n",
      "[LightGBM] [Warning] No further splits with positive gain, best gain: -inf\n",
      "[LightGBM] [Warning] No further splits with positive gain, best gain: -inf\n",
      "[LightGBM] [Warning] No further splits with positive gain, best gain: -inf\n",
      "[LightGBM] [Warning] No further splits with positive gain, best gain: -inf\n",
      "[LightGBM] [Warning] No further splits with positive gain, best gain: -inf\n",
      "[LightGBM] [Warning] No further splits with positive gain, best gain: -inf\n",
      "[LightGBM] [Warning] No further splits with positive gain, best gain: -inf\n",
      "[LightGBM] [Warning] No further splits with positive gain, best gain: -inf\n",
      "[LightGBM] [Warning] No further splits with positive gain, best gain: -inf\n",
      "[LightGBM] [Warning] No further splits with positive gain, best gain: -inf\n",
      "[LightGBM] [Warning] No further splits with positive gain, best gain: -inf\n",
      "[LightGBM] [Warning] No further splits with positive gain, best gain: -inf\n",
      "[LightGBM] [Warning] No further splits with positive gain, best gain: -inf\n",
      "[LightGBM] [Warning] No further splits with positive gain, best gain: -inf\n",
      "[LightGBM] [Warning] No further splits with positive gain, best gain: -inf\n",
      "[LightGBM] [Warning] No further splits with positive gain, best gain: -inf\n",
      "[LightGBM] [Warning] No further splits with positive gain, best gain: -inf\n",
      "[LightGBM] [Warning] No further splits with positive gain, best gain: -inf\n",
      "[LightGBM] [Warning] No further splits with positive gain, best gain: -inf\n",
      "[LightGBM] [Warning] No further splits with positive gain, best gain: -inf\n",
      "[LightGBM] [Warning] No further splits with positive gain, best gain: -inf\n",
      "[LightGBM] [Warning] No further splits with positive gain, best gain: -inf\n",
      "[LightGBM] [Warning] No further splits with positive gain, best gain: -inf\n",
      "[LightGBM] [Warning] No further splits with positive gain, best gain: -inf\n",
      "[LightGBM] [Warning] No further splits with positive gain, best gain: -inf\n",
      "[LightGBM] [Warning] No further splits with positive gain, best gain: -inf\n",
      "[LightGBM] [Warning] No further splits with positive gain, best gain: -inf\n",
      "[LightGBM] [Warning] No further splits with positive gain, best gain: -inf\n",
      "[LightGBM] [Warning] No further splits with positive gain, best gain: -inf\n",
      "[LightGBM] [Warning] No further splits with positive gain, best gain: -inf\n",
      "[LightGBM] [Warning] No further splits with positive gain, best gain: -inf\n",
      "[LightGBM] [Warning] No further splits with positive gain, best gain: -inf\n",
      "[LightGBM] [Warning] No further splits with positive gain, best gain: -inf\n",
      "[LightGBM] [Warning] No further splits with positive gain, best gain: -inf\n",
      "[LightGBM] [Warning] No further splits with positive gain, best gain: -inf\n",
      "[LightGBM] [Warning] No further splits with positive gain, best gain: -inf\n",
      "[LightGBM] [Warning] No further splits with positive gain, best gain: -inf\n",
      "[LightGBM] [Warning] No further splits with positive gain, best gain: -inf\n",
      "[LightGBM] [Warning] No further splits with positive gain, best gain: -inf\n",
      "[LightGBM] [Warning] No further splits with positive gain, best gain: -inf\n",
      "[LightGBM] [Warning] No further splits with positive gain, best gain: -inf\n",
      "[LightGBM] [Warning] No further splits with positive gain, best gain: -inf\n",
      "[LightGBM] [Warning] No further splits with positive gain, best gain: -inf\n",
      "[LightGBM] [Warning] No further splits with positive gain, best gain: -inf\n",
      "[LightGBM] [Warning] No further splits with positive gain, best gain: -inf\n",
      "[LightGBM] [Warning] No further splits with positive gain, best gain: -inf\n",
      "[LightGBM] [Warning] No further splits with positive gain, best gain: -inf\n",
      "[LightGBM] [Warning] No further splits with positive gain, best gain: -inf\n",
      "[LightGBM] [Warning] No further splits with positive gain, best gain: -inf\n",
      "[LightGBM] [Warning] No further splits with positive gain, best gain: -inf\n",
      "[LightGBM] [Warning] No further splits with positive gain, best gain: -inf\n",
      "[LightGBM] [Warning] No further splits with positive gain, best gain: -inf\n",
      "[LightGBM] [Warning] No further splits with positive gain, best gain: -inf\n",
      "[LightGBM] [Warning] No further splits with positive gain, best gain: -inf\n",
      "[LightGBM] [Warning] No further splits with positive gain, best gain: -inf\n",
      "[LightGBM] [Warning] No further splits with positive gain, best gain: -inf\n",
      "[LightGBM] [Warning] No further splits with positive gain, best gain: -inf\n",
      "[LightGBM] [Warning] No further splits with positive gain, best gain: -inf\n",
      "[LightGBM] [Warning] No further splits with positive gain, best gain: -inf\n",
      "[LightGBM] [Warning] No further splits with positive gain, best gain: -inf\n",
      "[LightGBM] [Warning] No further splits with positive gain, best gain: -inf\n",
      "[LightGBM] [Warning] No further splits with positive gain, best gain: -inf\n",
      "[LightGBM] [Warning] No further splits with positive gain, best gain: -inf\n",
      "[LightGBM] [Warning] No further splits with positive gain, best gain: -inf\n",
      "[LightGBM] [Warning] No further splits with positive gain, best gain: -inf\n",
      "[LightGBM] [Warning] No further splits with positive gain, best gain: -inf\n",
      "[LightGBM] [Warning] No further splits with positive gain, best gain: -inf\n",
      "[LightGBM] [Warning] No further splits with positive gain, best gain: -inf\n",
      "[LightGBM] [Warning] No further splits with positive gain, best gain: -inf\n",
      "[LightGBM] [Warning] No further splits with positive gain, best gain: -inf\n",
      "[LightGBM] [Warning] No further splits with positive gain, best gain: -inf\n",
      "[LightGBM] [Warning] No further splits with positive gain, best gain: -inf\n",
      "[LightGBM] [Warning] No further splits with positive gain, best gain: -inf\n",
      "[LightGBM] [Warning] No further splits with positive gain, best gain: -inf\n",
      "[LightGBM] [Warning] No further splits with positive gain, best gain: -inf\n",
      "[LightGBM] [Warning] No further splits with positive gain, best gain: -inf\n",
      "[LightGBM] [Warning] No further splits with positive gain, best gain: -inf\n",
      "[LightGBM] [Warning] No further splits with positive gain, best gain: -inf\n",
      "[LightGBM] [Warning] No further splits with positive gain, best gain: -inf\n",
      "[LightGBM] [Warning] No further splits with positive gain, best gain: -inf\n",
      "[LightGBM] [Warning] No further splits with positive gain, best gain: -inf\n",
      "[LightGBM] [Warning] No further splits with positive gain, best gain: -inf\n",
      "[LightGBM] [Warning] No further splits with positive gain, best gain: -inf\n",
      "[LightGBM] [Warning] No further splits with positive gain, best gain: -inf\n",
      "[LightGBM] [Warning] No further splits with positive gain, best gain: -inf\n",
      "[LightGBM] [Warning] No further splits with positive gain, best gain: -inf\n",
      "[LightGBM] [Warning] No further splits with positive gain, best gain: -inf\n",
      "[LightGBM] [Warning] No further splits with positive gain, best gain: -inf\n",
      "[LightGBM] [Warning] No further splits with positive gain, best gain: -inf\n",
      "[LightGBM] [Warning] No further splits with positive gain, best gain: -inf\n",
      "[LightGBM] [Warning] No further splits with positive gain, best gain: -inf\n",
      "[LightGBM] [Warning] No further splits with positive gain, best gain: -inf\n",
      "[LightGBM] [Warning] No further splits with positive gain, best gain: -inf\n",
      "[LightGBM] [Warning] No further splits with positive gain, best gain: -inf\n",
      "[LightGBM] [Warning] No further splits with positive gain, best gain: -inf\n",
      "[LightGBM] [Warning] No further splits with positive gain, best gain: -inf\n",
      "[LightGBM] [Warning] No further splits with positive gain, best gain: -inf\n",
      "[LightGBM] [Warning] No further splits with positive gain, best gain: -inf\n",
      "[LightGBM] [Warning] No further splits with positive gain, best gain: -inf\n",
      "[LightGBM] [Warning] No further splits with positive gain, best gain: -inf\n",
      "[LightGBM] [Warning] No further splits with positive gain, best gain: -inf\n",
      "[LightGBM] [Warning] No further splits with positive gain, best gain: -inf\n",
      "[LightGBM] [Warning] No further splits with positive gain, best gain: -inf\n",
      "[LightGBM] [Warning] No further splits with positive gain, best gain: -inf\n",
      "[LightGBM] [Warning] No further splits with positive gain, best gain: -inf\n",
      "[LightGBM] [Warning] No further splits with positive gain, best gain: -inf\n",
      "[LightGBM] [Warning] No further splits with positive gain, best gain: -inf\n",
      "[LightGBM] [Warning] No further splits with positive gain, best gain: -inf\n",
      "[LightGBM] [Warning] No further splits with positive gain, best gain: -inf\n",
      "[LightGBM] [Warning] No further splits with positive gain, best gain: -inf\n",
      "[LightGBM] [Warning] No further splits with positive gain, best gain: -inf\n",
      "[LightGBM] [Warning] No further splits with positive gain, best gain: -inf\n",
      "[LightGBM] [Warning] No further splits with positive gain, best gain: -inf\n",
      "[LightGBM] [Warning] No further splits with positive gain, best gain: -inf\n",
      "[LightGBM] [Warning] No further splits with positive gain, best gain: -inf\n",
      "[LightGBM] [Warning] No further splits with positive gain, best gain: -inf\n",
      "[LightGBM] [Warning] No further splits with positive gain, best gain: -inf\n",
      "[LightGBM] [Warning] No further splits with positive gain, best gain: -inf\n",
      "[LightGBM] [Warning] No further splits with positive gain, best gain: -inf\n",
      "[LightGBM] [Warning] No further splits with positive gain, best gain: -inf\n",
      "[LightGBM] [Warning] No further splits with positive gain, best gain: -inf\n",
      "[LightGBM] [Warning] No further splits with positive gain, best gain: -inf\n",
      "[LightGBM] [Warning] No further splits with positive gain, best gain: -inf\n",
      "[LightGBM] [Warning] No further splits with positive gain, best gain: -inf\n",
      "[LightGBM] [Warning] No further splits with positive gain, best gain: -inf\n",
      "[LightGBM] [Warning] No further splits with positive gain, best gain: -inf\n",
      "[LightGBM] [Warning] No further splits with positive gain, best gain: -inf\n",
      "[LightGBM] [Warning] No further splits with positive gain, best gain: -inf\n",
      "[LightGBM] [Warning] No further splits with positive gain, best gain: -inf\n",
      "[LightGBM] [Warning] No further splits with positive gain, best gain: -inf\n",
      "[LightGBM] [Warning] No further splits with positive gain, best gain: -inf\n",
      "[LightGBM] [Warning] No further splits with positive gain, best gain: -inf\n",
      "[LightGBM] [Warning] No further splits with positive gain, best gain: -inf\n",
      "[LightGBM] [Warning] No further splits with positive gain, best gain: -inf\n",
      "[LightGBM] [Warning] No further splits with positive gain, best gain: -inf\n",
      "[LightGBM] [Warning] No further splits with positive gain, best gain: -inf\n",
      "[LightGBM] [Warning] No further splits with positive gain, best gain: -inf\n",
      "[LightGBM] [Warning] No further splits with positive gain, best gain: -inf\n",
      "[LightGBM] [Warning] No further splits with positive gain, best gain: -inf\n",
      "[LightGBM] [Warning] No further splits with positive gain, best gain: -inf\n",
      "[LightGBM] [Warning] No further splits with positive gain, best gain: -inf\n",
      "[LightGBM] [Warning] No further splits with positive gain, best gain: -inf\n",
      "[LightGBM] [Warning] No further splits with positive gain, best gain: -inf\n",
      "[LightGBM] [Warning] No further splits with positive gain, best gain: -inf\n",
      "[LightGBM] [Warning] No further splits with positive gain, best gain: -inf\n",
      "[LightGBM] [Warning] No further splits with positive gain, best gain: -inf\n",
      "[LightGBM] [Warning] No further splits with positive gain, best gain: -inf\n",
      "[LightGBM] [Warning] No further splits with positive gain, best gain: -inf\n",
      "[LightGBM] [Warning] No further splits with positive gain, best gain: -inf\n",
      "[LightGBM] [Warning] No further splits with positive gain, best gain: -inf\n"
     ]
    },
    {
     "name": "stderr",
     "output_type": "stream",
     "text": [
      "/root/anaconda3/lib/python3.6/site-packages/lightgbm/engine.py:148: UserWarning: Found `num_iterations` in params. Will use it instead of argument\n",
      "  _log_warning(\"Found `{}` in params. Will use it instead of argument\".format(alias))\n"
     ]
    },
    {
     "data": {
      "text/plain": [
       "LGBMClassifier(bagging_freq=4, feature_fraction=0.6100000000000003,\n",
       "               learning_rate=0.05199999999999997, max_bin=9, max_depth=6,\n",
       "               min_data_in_leaf=487, neg_bagging_fraction=0.23800000000000004,\n",
       "               num_iterations=186, num_leaves=10,\n",
       "               pos_bagging_fraction=0.5840000000000003, random_state=555,\n",
       "               verbose=0)"
      ]
     },
     "execution_count": 54,
     "metadata": {},
     "output_type": "execute_result"
    }
   ],
   "source": [
    "# LGBM parameters\n",
    "params={'bagging_freq': 4, 'feature_fraction': 0.6100000000000003, 'learning_rate': 0.05199999999999997, \n",
    "        'max_bin': 9, 'max_depth': 6, 'min_data_in_leaf': 487, 'neg_bagging_fraction': 0.23800000000000004, \n",
    "        'num_iterations': 186, 'num_leaves': 10, 'pos_bagging_fraction': 0.5840000000000003}\n",
    "\n",
    "# create the model\n",
    "lgb = LGBMClassifier(num_leaves=params['num_leaves'],\n",
    "                       feature_fraction=params['feature_fraction'],\n",
    "                       pos_bagging_fraction=params['pos_bagging_fraction'],\n",
    "                       neg_bagging_fraction=params['neg_bagging_fraction'],\n",
    "                       max_depth=params['max_depth'],\n",
    "                       learning_rate=params['learning_rate'],\n",
    "                       num_iterations=params['num_iterations'],\n",
    "                       max_bin=params['max_bin'],\n",
    "                       bagging_freq=params['bagging_freq'],\n",
    "                       min_data_in_leaf=params['min_data_in_leaf'], \n",
    "                       verbose=0,\n",
    "                       random_state=555\n",
    "                       )\n",
    "\n",
    "# fit the model\n",
    "lgb.fit(train[features1], train['Is_Churn'])"
   ]
  },
  {
   "cell_type": "code",
   "execution_count": 55,
   "metadata": {
    "ExecuteTime": {
     "end_time": "2022-03-13T10:19:13.604156Z",
     "start_time": "2022-03-13T10:19:13.443717Z"
    }
   },
   "outputs": [
    {
     "name": "stdout",
     "output_type": "stream",
     "text": [
      "_____Train_____\n"
     ]
    },
    {
     "data": {
      "text/html": [
       "<div>\n",
       "<style scoped>\n",
       "    .dataframe tbody tr th:only-of-type {\n",
       "        vertical-align: middle;\n",
       "    }\n",
       "\n",
       "    .dataframe tbody tr th {\n",
       "        vertical-align: top;\n",
       "    }\n",
       "\n",
       "    .dataframe thead th {\n",
       "        text-align: right;\n",
       "    }\n",
       "</style>\n",
       "<table border=\"1\" class=\"dataframe\">\n",
       "  <thead>\n",
       "    <tr style=\"text-align: right;\">\n",
       "      <th></th>\n",
       "      <th>F1_Score</th>\n",
       "      <th>Accuracy</th>\n",
       "      <th>Class_Count</th>\n",
       "      <th>Class_Ratio</th>\n",
       "    </tr>\n",
       "  </thead>\n",
       "  <tbody>\n",
       "    <tr>\n",
       "      <th>@_0.1</th>\n",
       "      <td>18.773666</td>\n",
       "      <td>23.112782</td>\n",
       "      <td>6650.0</td>\n",
       "      <td>1.0</td>\n",
       "    </tr>\n",
       "    <tr>\n",
       "      <th>@_0.2</th>\n",
       "      <td>21.251724</td>\n",
       "      <td>24.781955</td>\n",
       "      <td>6650.0</td>\n",
       "      <td>1.0</td>\n",
       "    </tr>\n",
       "    <tr>\n",
       "      <th>@_0.3</th>\n",
       "      <td>40.870811</td>\n",
       "      <td>40.872180</td>\n",
       "      <td>6650.0</td>\n",
       "      <td>1.0</td>\n",
       "    </tr>\n",
       "    <tr>\n",
       "      <th>@_0.4</th>\n",
       "      <td>54.751073</td>\n",
       "      <td>57.909774</td>\n",
       "      <td>6650.0</td>\n",
       "      <td>1.0</td>\n",
       "    </tr>\n",
       "    <tr>\n",
       "      <th>@_0.5</th>\n",
       "      <td>59.971653</td>\n",
       "      <td>69.609023</td>\n",
       "      <td>6650.0</td>\n",
       "      <td>1.0</td>\n",
       "    </tr>\n",
       "    <tr>\n",
       "      <th>@_0.6</th>\n",
       "      <td>55.838002</td>\n",
       "      <td>76.330827</td>\n",
       "      <td>6650.0</td>\n",
       "      <td>1.0</td>\n",
       "    </tr>\n",
       "    <tr>\n",
       "      <th>@_0.7</th>\n",
       "      <td>45.329862</td>\n",
       "      <td>76.932331</td>\n",
       "      <td>6650.0</td>\n",
       "      <td>1.0</td>\n",
       "    </tr>\n",
       "    <tr>\n",
       "      <th>@_0.8</th>\n",
       "      <td>43.466803</td>\n",
       "      <td>76.887218</td>\n",
       "      <td>6650.0</td>\n",
       "      <td>1.0</td>\n",
       "    </tr>\n",
       "    <tr>\n",
       "      <th>@_0.9</th>\n",
       "      <td>43.466803</td>\n",
       "      <td>76.887218</td>\n",
       "      <td>6650.0</td>\n",
       "      <td>1.0</td>\n",
       "    </tr>\n",
       "  </tbody>\n",
       "</table>\n",
       "</div>"
      ],
      "text/plain": [
       "        F1_Score   Accuracy  Class_Count  Class_Ratio\n",
       "@_0.1  18.773666  23.112782       6650.0          1.0\n",
       "@_0.2  21.251724  24.781955       6650.0          1.0\n",
       "@_0.3  40.870811  40.872180       6650.0          1.0\n",
       "@_0.4  54.751073  57.909774       6650.0          1.0\n",
       "@_0.5  59.971653  69.609023       6650.0          1.0\n",
       "@_0.6  55.838002  76.330827       6650.0          1.0\n",
       "@_0.7  45.329862  76.932331       6650.0          1.0\n",
       "@_0.8  43.466803  76.887218       6650.0          1.0\n",
       "@_0.9  43.466803  76.887218       6650.0          1.0"
      ]
     },
     "metadata": {},
     "output_type": "display_data"
    }
   ],
   "source": [
    "# evaluate the model\n",
    "\n",
    "train['lgb_preds'] = lgb.predict_proba(train[features1])[:, 1]\n",
    "\n",
    "print(\"_____Train_____\")\n",
    "score_df(train, train['Is_Churn'], 'lgb_preds', \n",
    "         [np.round(i,2) for i in list(np.arange(0.1, 1, 0.1, dtype=float))])"
   ]
  },
  {
   "cell_type": "code",
   "execution_count": 56,
   "metadata": {
    "ExecuteTime": {
     "end_time": "2022-03-13T10:19:15.163733Z",
     "start_time": "2022-03-13T10:19:14.830771Z"
    }
   },
   "outputs": [
    {
     "name": "stdout",
     "output_type": "stream",
     "text": [
      "_____Train_____\n"
     ]
    },
    {
     "data": {
      "text/html": [
       "<div>\n",
       "<style scoped>\n",
       "    .dataframe tbody tr th:only-of-type {\n",
       "        vertical-align: middle;\n",
       "    }\n",
       "\n",
       "    .dataframe tbody tr th {\n",
       "        vertical-align: top;\n",
       "    }\n",
       "\n",
       "    .dataframe thead th {\n",
       "        text-align: right;\n",
       "    }\n",
       "</style>\n",
       "<table border=\"1\" class=\"dataframe\">\n",
       "  <thead>\n",
       "    <tr style=\"text-align: right;\">\n",
       "      <th></th>\n",
       "      <th>F1_Score</th>\n",
       "      <th>Accuracy</th>\n",
       "      <th>Class_Count</th>\n",
       "      <th>Class_Ratio</th>\n",
       "    </tr>\n",
       "  </thead>\n",
       "  <tbody>\n",
       "    <tr>\n",
       "      <th>@_0.4</th>\n",
       "      <td>54.751073</td>\n",
       "      <td>57.909774</td>\n",
       "      <td>6650.0</td>\n",
       "      <td>1.0</td>\n",
       "    </tr>\n",
       "    <tr>\n",
       "      <th>@_0.41</th>\n",
       "      <td>55.494101</td>\n",
       "      <td>59.157895</td>\n",
       "      <td>6650.0</td>\n",
       "      <td>1.0</td>\n",
       "    </tr>\n",
       "    <tr>\n",
       "      <th>@_0.42</th>\n",
       "      <td>55.998604</td>\n",
       "      <td>60.135338</td>\n",
       "      <td>6650.0</td>\n",
       "      <td>1.0</td>\n",
       "    </tr>\n",
       "    <tr>\n",
       "      <th>@_0.43</th>\n",
       "      <td>56.572631</td>\n",
       "      <td>61.278195</td>\n",
       "      <td>6650.0</td>\n",
       "      <td>1.0</td>\n",
       "    </tr>\n",
       "    <tr>\n",
       "      <th>@_0.44</th>\n",
       "      <td>57.194656</td>\n",
       "      <td>62.481203</td>\n",
       "      <td>6650.0</td>\n",
       "      <td>1.0</td>\n",
       "    </tr>\n",
       "    <tr>\n",
       "      <th>@_0.45</th>\n",
       "      <td>57.761824</td>\n",
       "      <td>63.774436</td>\n",
       "      <td>6650.0</td>\n",
       "      <td>1.0</td>\n",
       "    </tr>\n",
       "    <tr>\n",
       "      <th>@_0.46</th>\n",
       "      <td>58.348251</td>\n",
       "      <td>65.022556</td>\n",
       "      <td>6650.0</td>\n",
       "      <td>1.0</td>\n",
       "    </tr>\n",
       "    <tr>\n",
       "      <th>@_0.47</th>\n",
       "      <td>58.891070</td>\n",
       "      <td>66.330827</td>\n",
       "      <td>6650.0</td>\n",
       "      <td>1.0</td>\n",
       "    </tr>\n",
       "    <tr>\n",
       "      <th>@_0.48</th>\n",
       "      <td>59.068109</td>\n",
       "      <td>67.293233</td>\n",
       "      <td>6650.0</td>\n",
       "      <td>1.0</td>\n",
       "    </tr>\n",
       "    <tr>\n",
       "      <th>@_0.49</th>\n",
       "      <td>59.662028</td>\n",
       "      <td>68.541353</td>\n",
       "      <td>6650.0</td>\n",
       "      <td>1.0</td>\n",
       "    </tr>\n",
       "    <tr>\n",
       "      <th>@_0.5</th>\n",
       "      <td>59.971653</td>\n",
       "      <td>69.609023</td>\n",
       "      <td>6650.0</td>\n",
       "      <td>1.0</td>\n",
       "    </tr>\n",
       "    <tr>\n",
       "      <th>@_0.51</th>\n",
       "      <td>60.230519</td>\n",
       "      <td>70.736842</td>\n",
       "      <td>6650.0</td>\n",
       "      <td>1.0</td>\n",
       "    </tr>\n",
       "    <tr>\n",
       "      <th>@_0.52</th>\n",
       "      <td>60.234052</td>\n",
       "      <td>71.624060</td>\n",
       "      <td>6650.0</td>\n",
       "      <td>1.0</td>\n",
       "    </tr>\n",
       "    <tr>\n",
       "      <th>@_0.53</th>\n",
       "      <td>59.723369</td>\n",
       "      <td>72.225564</td>\n",
       "      <td>6650.0</td>\n",
       "      <td>1.0</td>\n",
       "    </tr>\n",
       "    <tr>\n",
       "      <th>@_0.54</th>\n",
       "      <td>59.457418</td>\n",
       "      <td>73.067669</td>\n",
       "      <td>6650.0</td>\n",
       "      <td>1.0</td>\n",
       "    </tr>\n",
       "    <tr>\n",
       "      <th>@_0.55</th>\n",
       "      <td>59.440129</td>\n",
       "      <td>73.924812</td>\n",
       "      <td>6650.0</td>\n",
       "      <td>1.0</td>\n",
       "    </tr>\n",
       "    <tr>\n",
       "      <th>@_0.56</th>\n",
       "      <td>58.894492</td>\n",
       "      <td>74.451128</td>\n",
       "      <td>6650.0</td>\n",
       "      <td>1.0</td>\n",
       "    </tr>\n",
       "    <tr>\n",
       "      <th>@_0.57</th>\n",
       "      <td>58.672811</td>\n",
       "      <td>75.157895</td>\n",
       "      <td>6650.0</td>\n",
       "      <td>1.0</td>\n",
       "    </tr>\n",
       "    <tr>\n",
       "      <th>@_0.58</th>\n",
       "      <td>57.847290</td>\n",
       "      <td>75.669173</td>\n",
       "      <td>6650.0</td>\n",
       "      <td>1.0</td>\n",
       "    </tr>\n",
       "    <tr>\n",
       "      <th>@_0.59</th>\n",
       "      <td>56.709406</td>\n",
       "      <td>75.894737</td>\n",
       "      <td>6650.0</td>\n",
       "      <td>1.0</td>\n",
       "    </tr>\n",
       "  </tbody>\n",
       "</table>\n",
       "</div>"
      ],
      "text/plain": [
       "         F1_Score   Accuracy  Class_Count  Class_Ratio\n",
       "@_0.4   54.751073  57.909774       6650.0          1.0\n",
       "@_0.41  55.494101  59.157895       6650.0          1.0\n",
       "@_0.42  55.998604  60.135338       6650.0          1.0\n",
       "@_0.43  56.572631  61.278195       6650.0          1.0\n",
       "@_0.44  57.194656  62.481203       6650.0          1.0\n",
       "@_0.45  57.761824  63.774436       6650.0          1.0\n",
       "@_0.46  58.348251  65.022556       6650.0          1.0\n",
       "@_0.47  58.891070  66.330827       6650.0          1.0\n",
       "@_0.48  59.068109  67.293233       6650.0          1.0\n",
       "@_0.49  59.662028  68.541353       6650.0          1.0\n",
       "@_0.5   59.971653  69.609023       6650.0          1.0\n",
       "@_0.51  60.230519  70.736842       6650.0          1.0\n",
       "@_0.52  60.234052  71.624060       6650.0          1.0\n",
       "@_0.53  59.723369  72.225564       6650.0          1.0\n",
       "@_0.54  59.457418  73.067669       6650.0          1.0\n",
       "@_0.55  59.440129  73.924812       6650.0          1.0\n",
       "@_0.56  58.894492  74.451128       6650.0          1.0\n",
       "@_0.57  58.672811  75.157895       6650.0          1.0\n",
       "@_0.58  57.847290  75.669173       6650.0          1.0\n",
       "@_0.59  56.709406  75.894737       6650.0          1.0"
      ]
     },
     "metadata": {},
     "output_type": "display_data"
    }
   ],
   "source": [
    "print(\"_____Train_____\")\n",
    "score_df(train, train['Is_Churn'], 'lgb_preds', \n",
    "         [np.round(i,2) for i in list(np.arange(0.4, 0.6, 0.01, dtype=float))])"
   ]
  },
  {
   "cell_type": "code",
   "execution_count": 57,
   "metadata": {
    "ExecuteTime": {
     "end_time": "2022-03-13T10:19:20.376698Z",
     "start_time": "2022-03-13T10:19:20.362179Z"
    }
   },
   "outputs": [
    {
     "data": {
      "text/html": [
       "<div>\n",
       "<style scoped>\n",
       "    .dataframe tbody tr th:only-of-type {\n",
       "        vertical-align: middle;\n",
       "    }\n",
       "\n",
       "    .dataframe tbody tr th {\n",
       "        vertical-align: top;\n",
       "    }\n",
       "\n",
       "    .dataframe thead th {\n",
       "        text-align: right;\n",
       "    }\n",
       "</style>\n",
       "<table border=\"1\" class=\"dataframe\">\n",
       "  <thead>\n",
       "    <tr style=\"text-align: right;\">\n",
       "      <th></th>\n",
       "      <th>feature_name</th>\n",
       "      <th>varimp</th>\n",
       "    </tr>\n",
       "  </thead>\n",
       "  <tbody>\n",
       "    <tr>\n",
       "      <th>0</th>\n",
       "      <td>Age</td>\n",
       "      <td>1077.12</td>\n",
       "    </tr>\n",
       "    <tr>\n",
       "      <th>3</th>\n",
       "      <td>Transaction_Status</td>\n",
       "      <td>325.72</td>\n",
       "    </tr>\n",
       "    <tr>\n",
       "      <th>15</th>\n",
       "      <td>Age_Product_Holdings_ratio</td>\n",
       "      <td>236.687</td>\n",
       "    </tr>\n",
       "    <tr>\n",
       "      <th>17</th>\n",
       "      <td>Balance_Product_Holdings_ratio</td>\n",
       "      <td>155.31</td>\n",
       "    </tr>\n",
       "    <tr>\n",
       "      <th>5</th>\n",
       "      <td>Gender_num</td>\n",
       "      <td>155.052</td>\n",
       "    </tr>\n",
       "    <tr>\n",
       "      <th>1</th>\n",
       "      <td>Balance</td>\n",
       "      <td>132.059</td>\n",
       "    </tr>\n",
       "    <tr>\n",
       "      <th>11</th>\n",
       "      <td>Income_Age_ratio</td>\n",
       "      <td>122.216</td>\n",
       "    </tr>\n",
       "    <tr>\n",
       "      <th>9</th>\n",
       "      <td>Credit_Category_Poor</td>\n",
       "      <td>79.2418</td>\n",
       "    </tr>\n",
       "    <tr>\n",
       "      <th>14</th>\n",
       "      <td>Vintage_Income_ratio</td>\n",
       "      <td>58.9217</td>\n",
       "    </tr>\n",
       "    <tr>\n",
       "      <th>2</th>\n",
       "      <td>Vintage</td>\n",
       "      <td>49.2743</td>\n",
       "    </tr>\n",
       "    <tr>\n",
       "      <th>6</th>\n",
       "      <td>Income_num</td>\n",
       "      <td>44.8215</td>\n",
       "    </tr>\n",
       "    <tr>\n",
       "      <th>8</th>\n",
       "      <td>Credit_Category_Good</td>\n",
       "      <td>43.9612</td>\n",
       "    </tr>\n",
       "    <tr>\n",
       "      <th>13</th>\n",
       "      <td>Vintage_Balance_ratio</td>\n",
       "      <td>40.0372</td>\n",
       "    </tr>\n",
       "    <tr>\n",
       "      <th>16</th>\n",
       "      <td>Income_Product_Holdings_ratio</td>\n",
       "      <td>38.1275</td>\n",
       "    </tr>\n",
       "    <tr>\n",
       "      <th>12</th>\n",
       "      <td>Balance_Income_ratio</td>\n",
       "      <td>37.0165</td>\n",
       "    </tr>\n",
       "    <tr>\n",
       "      <th>7</th>\n",
       "      <td>Product_Holdings_1</td>\n",
       "      <td>29.6515</td>\n",
       "    </tr>\n",
       "    <tr>\n",
       "      <th>18</th>\n",
       "      <td>Vintage_Product_Holdings_ratio</td>\n",
       "      <td>25.3911</td>\n",
       "    </tr>\n",
       "    <tr>\n",
       "      <th>4</th>\n",
       "      <td>Credit_Card</td>\n",
       "      <td>17.6911</td>\n",
       "    </tr>\n",
       "    <tr>\n",
       "      <th>10</th>\n",
       "      <td>Credit_Category_Average</td>\n",
       "      <td>4.12117</td>\n",
       "    </tr>\n",
       "  </tbody>\n",
       "</table>\n",
       "</div>"
      ],
      "text/plain": [
       "                      feature_name   varimp\n",
       "0                              Age  1077.12\n",
       "3               Transaction_Status   325.72\n",
       "15      Age_Product_Holdings_ratio  236.687\n",
       "17  Balance_Product_Holdings_ratio   155.31\n",
       "5                       Gender_num  155.052\n",
       "1                          Balance  132.059\n",
       "11                Income_Age_ratio  122.216\n",
       "9             Credit_Category_Poor  79.2418\n",
       "14            Vintage_Income_ratio  58.9217\n",
       "2                          Vintage  49.2743\n",
       "6                       Income_num  44.8215\n",
       "8             Credit_Category_Good  43.9612\n",
       "13           Vintage_Balance_ratio  40.0372\n",
       "16   Income_Product_Holdings_ratio  38.1275\n",
       "12            Balance_Income_ratio  37.0165\n",
       "7               Product_Holdings_1  29.6515\n",
       "18  Vintage_Product_Holdings_ratio  25.3911\n",
       "4                      Credit_Card  17.6911\n",
       "10         Credit_Category_Average  4.12117"
      ]
     },
     "metadata": {},
     "output_type": "display_data"
    },
    {
     "data": {
      "text/plain": [
       "19"
      ]
     },
     "execution_count": 57,
     "metadata": {},
     "output_type": "execute_result"
    }
   ],
   "source": [
    "#feature importance\n",
    "\n",
    "with pd.option_context('display.max_rows', None, 'display.max_columns', None):  # more options can be specified also\n",
    "    df_imp_f = get_lgbm_varimp_gain(lgb, features1, 400)\n",
    "            \n",
    "    display(df_imp_f)\n",
    "gain_non_zero_list1 = list(df_imp_f['feature_name'][df_imp_f['varimp']>0])\n",
    "len(gain_non_zero_list1)"
   ]
  },
  {
   "cell_type": "markdown",
   "metadata": {},
   "source": [
    "### lgb hyp. tuning"
   ]
  },
  {
   "cell_type": "code",
   "execution_count": 116,
   "metadata": {
    "ExecuteTime": {
     "end_time": "2022-03-12T17:36:07.201949Z",
     "start_time": "2022-03-12T17:36:07.184969Z"
    }
   },
   "outputs": [],
   "source": [
    "#### Hyper Space \n",
    "\n",
    "space = {\n",
    "        'num_leaves': hp.choice('num_leaves', list(range(10, 40))),\n",
    "        'feature_fraction':  hp.choice('feature_fraction', list(np.arange(0.2, 0.8, 0.01,dtype=float))),\n",
    "        'max_depth':  hp.choice('max_depth', list(range(3, 10))),\n",
    "        'learning_rate':  hp.choice('learning_rate', list(np.arange(0.01, 0.1, 0.001,dtype=float))),\n",
    "        'num_iterations':  hp.choice('num_iterations', list(range(100, 300))),\n",
    "        'max_bin': hp.choice('max_bin', list(range(3, 10))),\n",
    "        'min_data_in_leaf': hp.choice('min_data_in_leaf', list(range(100, 500))),\n",
    "        'pos_bagging_fraction': hp.choice('pos_bagging_fraction', list(np.arange(0.2, 0.8, 0.001,dtype=float))),\n",
    "        'neg_bagging_fraction': hp.choice('neg_bagging_fraction', list(np.arange(0.2, 0.8, 0.001,dtype=float))),\n",
    "        'bagging_freq': hp.choice('bagging_freq', list(range(1, 5)))\n",
    "    }"
   ]
  },
  {
   "cell_type": "code",
   "execution_count": 117,
   "metadata": {
    "ExecuteTime": {
     "end_time": "2022-03-12T17:36:08.312543Z",
     "start_time": "2022-03-12T17:36:08.286739Z"
    }
   },
   "outputs": [],
   "source": [
    "sample(space)\n",
    "\n",
    "#### Objective \n",
    "\n",
    "def objective(params, n_folds=StratifiedKFold(n_splits=20)):\n",
    "    global ITERATION\n",
    "    ITERATION += 1\n",
    "    start = timer()\n",
    "    cv_result = cross_val_score(LGBMClassifier(num_leaves=params['num_leaves'],\n",
    "                                               feature_fraction=params['feature_fraction'],\n",
    "                                               pos_bagging_fraction=params['pos_bagging_fraction'],\n",
    "                                               neg_bagging_fraction=params['neg_bagging_fraction'],\n",
    "                                               max_depth=params['max_depth'],\n",
    "                                               learning_rate=params['learning_rate'],\n",
    "                                               num_iterations=params['num_iterations'],\n",
    "                                               max_bin=params['max_bin'],\n",
    "                                               bagging_freq=params['bagging_freq'],\n",
    "                                               min_data_in_leaf=params['min_data_in_leaf'], \n",
    "                                               verbose=0,\n",
    "                                               random_state=555\n",
    "                                               ),\n",
    "        X=np.array(train[features1]),\n",
    "        y=np.array(train['Is_Churn']),\n",
    "        scoring=\"f1_macro\",\n",
    "        cv=n_folds,\n",
    "        verbose=-1,\n",
    "        n_jobs=-1)\n",
    "    \n",
    "    run_time = timer() - start\n",
    "    best_score = np.mean(cv_result)\n",
    "    mean_score_list.append(best_score)\n",
    "    print(cv_result)\n",
    "    loss = 1 - best_score\n",
    "    n_estimators = int(np.argmax(cv_result) + 1)\n",
    "    print({\n",
    "        'best_score': best_score,\n",
    "        'loss': loss,\n",
    "        'params': params,\n",
    "        'iteration': ITERATION,\n",
    "        'best_cv': n_estimators,\n",
    "        'train_time': run_time,\n",
    "        'status': STATUS_OK\n",
    "    })\n",
    "    return {\n",
    "        'best_score': best_score,\n",
    "        'loss': loss,\n",
    "        'params': params,\n",
    "        'iteration': ITERATION,\n",
    "        'best_cv': n_estimators,\n",
    "        'train_time': run_time,\n",
    "        'status': STATUS_OK\n",
    "    }"
   ]
  },
  {
   "cell_type": "code",
   "execution_count": 119,
   "metadata": {
    "ExecuteTime": {
     "end_time": "2022-03-12T17:37:32.034167Z",
     "start_time": "2022-03-12T17:36:11.652194Z"
    },
    "collapsed": true
   },
   "outputs": [
    {
     "name": "stdout",
     "output_type": "stream",
     "text": [
      "\r",
      "  0%|          | 0/100 [00:00<?, ?it/s, best loss: ?]"
     ]
    },
    {
     "name": "stderr",
     "output_type": "stream",
     "text": [
      "[Parallel(n_jobs=-1)]: Using backend LokyBackend with 8 concurrent workers.\n",
      "\n"
     ]
    },
    {
     "name": "stdout",
     "output_type": "stream",
     "text": [
      "[0.43463497 0.46015358 0.44819466 0.43463497 0.43463497 0.43463497\n",
      " 0.44819466 0.43463497 0.44707049 0.43463497 0.4334471  0.4334471\n",
      " 0.43441227 0.44684626 0.43441227 0.43441227 0.4479741  0.43441227\n",
      " 0.43537415 0.46250109]\n",
      "{'best_score': 0.4404331056201296, 'loss': 0.5595668943798704, 'params': {'bagging_freq': 3, 'feature_fraction': 0.5500000000000003, 'learning_rate': 0.023999999999999987, 'max_bin': 4, 'max_depth': 6, 'min_data_in_leaf': 278, 'neg_bagging_fraction': 0.5370000000000004, 'num_iterations': 174, 'num_leaves': 30, 'pos_bagging_fraction': 0.5450000000000004}, 'iteration': 1, 'best_cv': 20, 'train_time': 1.9396798759698868, 'status': 'ok'}\n",
      "  1%|          | 1/100 [00:02<03:37,  2.20s/it, best loss: 0.5595668943798704]"
     ]
    },
    {
     "name": "stderr",
     "output_type": "stream",
     "text": [
      "[Parallel(n_jobs=-1)]: Done  20 out of  20 | elapsed:    1.9s finished\n",
      "\n",
      "[Parallel(n_jobs=-1)]: Using backend LokyBackend with 8 concurrent workers.\n",
      "\n"
     ]
    },
    {
     "name": "stdout",
     "output_type": "stream",
     "text": [
      "[0.44819466 0.45760942 0.4614323  0.44819466 0.43270869 0.43270869            \n",
      " 0.46015358 0.43367347 0.45887939 0.43270869 0.43441227 0.4334471\n",
      " 0.45993151 0.4334471  0.4334471  0.43441227 0.47414384 0.44684626\n",
      " 0.43537415 0.46250109]\n",
      "{'best_score': 0.4457113116186653, 'loss': 0.5542886883813347, 'params': {'bagging_freq': 1, 'feature_fraction': 0.5100000000000002, 'learning_rate': 0.09899999999999992, 'max_bin': 6, 'max_depth': 7, 'min_data_in_leaf': 344, 'neg_bagging_fraction': 0.7720000000000005, 'num_iterations': 287, 'num_leaves': 13, 'pos_bagging_fraction': 0.47000000000000025}, 'iteration': 2, 'best_cv': 17, 'train_time': 0.8867955803871155, 'status': 'ok'}\n",
      "  2%|▏         | 2/100 [00:03<03:03,  1.88s/it, best loss: 0.5542886883813347]"
     ]
    },
    {
     "name": "stderr",
     "output_type": "stream",
     "text": [
      "[Parallel(n_jobs=-1)]: Done  20 out of  20 | elapsed:    0.9s finished\n",
      "\n",
      "[Parallel(n_jobs=-1)]: Using backend LokyBackend with 8 concurrent workers.\n",
      "\n"
     ]
    },
    {
     "name": "stdout",
     "output_type": "stream",
     "text": [
      "[0.43463497 0.43463497 0.43463497 0.43463497 0.43463497 0.43463497            \n",
      " 0.43463497 0.43463497 0.43463497 0.43463497 0.43441227 0.43441227\n",
      " 0.43441227 0.43441227 0.43441227 0.43441227 0.43441227 0.43537415\n",
      " 0.43537415 0.43537415]\n",
      "{'best_score': 0.4346679027308653, 'loss': 0.5653320972691347, 'params': {'bagging_freq': 1, 'feature_fraction': 0.35000000000000014, 'learning_rate': 0.042999999999999976, 'max_bin': 6, 'max_depth': 8, 'min_data_in_leaf': 360, 'neg_bagging_fraction': 0.6320000000000003, 'num_iterations': 183, 'num_leaves': 33, 'pos_bagging_fraction': 0.23700000000000004}, 'iteration': 3, 'best_cv': 18, 'train_time': 0.541250079870224, 'status': 'ok'}\n",
      "  3%|▎         | 3/100 [00:04<02:27,  1.52s/it, best loss: 0.5542886883813347]"
     ]
    },
    {
     "name": "stderr",
     "output_type": "stream",
     "text": [
      "[Parallel(n_jobs=-1)]: Done  20 out of  20 | elapsed:    0.5s finished\n",
      "\n",
      "[Parallel(n_jobs=-1)]: Using backend LokyBackend with 8 concurrent workers.\n",
      "\n"
     ]
    },
    {
     "name": "stdout",
     "output_type": "stream",
     "text": [
      "[0.57639576 0.54534349 0.546345   0.50275601 0.53337884 0.49215147            \n",
      " 0.54749697 0.53336616 0.54109541 0.49553098 0.48193762 0.50975275\n",
      " 0.50191892 0.49375887 0.51104566 0.59586123 0.52707428 0.55535714\n",
      " 0.55042822 0.53313622]\n",
      "{'best_score': 0.5287065486603615, 'loss': 0.4712934513396385, 'params': {'bagging_freq': 3, 'feature_fraction': 0.6600000000000004, 'learning_rate': 0.07399999999999994, 'max_bin': 6, 'max_depth': 9, 'min_data_in_leaf': 203, 'neg_bagging_fraction': 0.5040000000000002, 'num_iterations': 142, 'num_leaves': 33, 'pos_bagging_fraction': 0.6790000000000005}, 'iteration': 4, 'best_cv': 16, 'train_time': 0.5399967953562737, 'status': 'ok'}\n",
      "  4%|▍         | 4/100 [00:04<02:04,  1.29s/it, best loss: 0.4712934513396385]"
     ]
    },
    {
     "name": "stderr",
     "output_type": "stream",
     "text": [
      "[Parallel(n_jobs=-1)]: Done  20 out of  20 | elapsed:    0.5s finished\n",
      "\n",
      "[Parallel(n_jobs=-1)]: Using backend LokyBackend with 8 concurrent workers.\n",
      "\n"
     ]
    },
    {
     "name": "stdout",
     "output_type": "stream",
     "text": [
      "[0.63666983 0.58888889 0.56674473 0.58416583 0.5520872  0.58734217            \n",
      " 0.55656013 0.6222786  0.56733871 0.61141728 0.50708598 0.53999446\n",
      " 0.52560133 0.57551114 0.61410596 0.65737874 0.60610494 0.59558696\n",
      " 0.60767631 0.57146739]\n",
      "{'best_score': 0.5837003291632613, 'loss': 0.4162996708367387, 'params': {'bagging_freq': 3, 'feature_fraction': 0.7800000000000005, 'learning_rate': 0.08499999999999994, 'max_bin': 5, 'max_depth': 6, 'min_data_in_leaf': 203, 'neg_bagging_fraction': 0.25500000000000006, 'num_iterations': 222, 'num_leaves': 10, 'pos_bagging_fraction': 0.6830000000000005}, 'iteration': 5, 'best_cv': 16, 'train_time': 0.6277123838663101, 'status': 'ok'}\n",
      "  5%|▌         | 5/100 [00:05<01:50,  1.16s/it, best loss: 0.4162996708367387]"
     ]
    },
    {
     "name": "stderr",
     "output_type": "stream",
     "text": [
      "[Parallel(n_jobs=-1)]: Done  20 out of  20 | elapsed:    0.6s finished\n",
      "\n",
      "[Parallel(n_jobs=-1)]: Using backend LokyBackend with 8 concurrent workers.\n",
      "\n"
     ]
    },
    {
     "name": "stdout",
     "output_type": "stream",
     "text": [
      "[0.47293447 0.4459471  0.48698955 0.44707049 0.44707049 0.44819466            \n",
      " 0.47293447 0.43463497 0.45887939 0.44707049 0.4334471  0.44571918\n",
      " 0.43150685 0.45865362 0.43247863 0.44684626 0.47414384 0.44571918\n",
      " 0.4479741  0.47414384]\n",
      "{'best_score': 0.4526179348681582, 'loss': 0.5473820651318417, 'params': {'bagging_freq': 2, 'feature_fraction': 0.8000000000000005, 'learning_rate': 0.05599999999999996, 'max_bin': 8, 'max_depth': 7, 'min_data_in_leaf': 130, 'neg_bagging_fraction': 0.7460000000000004, 'num_iterations': 130, 'num_leaves': 29, 'pos_bagging_fraction': 0.48000000000000026}, 'iteration': 6, 'best_cv': 3, 'train_time': 0.6394894793629646, 'status': 'ok'}\n",
      "  6%|▌         | 6/100 [00:06<01:38,  1.04s/it, best loss: 0.4162996708367387]"
     ]
    },
    {
     "name": "stderr",
     "output_type": "stream",
     "text": [
      "[Parallel(n_jobs=-1)]: Done  20 out of  20 | elapsed:    0.6s finished\n",
      "\n",
      "[Parallel(n_jobs=-1)]: Using backend LokyBackend with 8 concurrent workers.\n",
      "\n"
     ]
    },
    {
     "name": "stdout",
     "output_type": "stream",
     "text": [
      "[0.43463497 0.43463497 0.43463497 0.43463497 0.43463497 0.43463497            \n",
      " 0.43463497 0.43463497 0.44819466 0.43463497 0.43441227 0.43441227\n",
      " 0.4334471  0.43441227 0.43441227 0.43441227 0.43441227 0.43537415\n",
      " 0.43537415 0.43537415]\n",
      "{'best_score': 0.43529762878912964, 'loss': 0.5647023712108703, 'params': {'bagging_freq': 2, 'feature_fraction': 0.7700000000000005, 'learning_rate': 0.05599999999999996, 'max_bin': 7, 'max_depth': 5, 'min_data_in_leaf': 410, 'neg_bagging_fraction': 0.34500000000000014, 'num_iterations': 102, 'num_leaves': 33, 'pos_bagging_fraction': 0.3030000000000001}, 'iteration': 7, 'best_cv': 9, 'train_time': 0.3013875335454941, 'status': 'ok'}\n",
      "  7%|▋         | 7/100 [00:06<01:22,  1.12it/s, best loss: 0.4162996708367387]"
     ]
    },
    {
     "name": "stderr",
     "output_type": "stream",
     "text": [
      "[Parallel(n_jobs=-1)]: Done  20 out of  20 | elapsed:    0.3s finished\n",
      "\n",
      "[Parallel(n_jobs=-1)]: Using backend LokyBackend with 8 concurrent workers.\n",
      "\n"
     ]
    },
    {
     "name": "stdout",
     "output_type": "stream",
     "text": [
      "[0.43463497 0.43463497 0.43463497 0.43463497 0.43463497 0.43463497            \n",
      " 0.43463497 0.43463497 0.43463497 0.43463497 0.43441227 0.43441227\n",
      " 0.43441227 0.43441227 0.43441227 0.43441227 0.43441227 0.43537415\n",
      " 0.43537415 0.43537415]\n",
      "{'best_score': 0.4346679027308653, 'loss': 0.5653320972691347, 'params': {'bagging_freq': 2, 'feature_fraction': 0.6500000000000004, 'learning_rate': 0.03899999999999998, 'max_bin': 7, 'max_depth': 6, 'min_data_in_leaf': 330, 'neg_bagging_fraction': 0.6020000000000003, 'num_iterations': 204, 'num_leaves': 18, 'pos_bagging_fraction': 0.2710000000000001}, 'iteration': 8, 'best_cv': 18, 'train_time': 0.6648107096552849, 'status': 'ok'}\n",
      "  8%|▊         | 8/100 [00:07<01:19,  1.16it/s, best loss: 0.4162996708367387]"
     ]
    },
    {
     "name": "stderr",
     "output_type": "stream",
     "text": [
      "[Parallel(n_jobs=-1)]: Done  20 out of  20 | elapsed:    0.7s finished\n",
      "\n",
      "[Parallel(n_jobs=-1)]: Using backend LokyBackend with 8 concurrent workers.\n",
      "\n"
     ]
    },
    {
     "name": "stdout",
     "output_type": "stream",
     "text": [
      "[0.44819466 0.46015358 0.4614323  0.44819466 0.43367347 0.43367347            \n",
      " 0.44819466 0.43463497 0.45887939 0.44707049 0.43441227 0.44571918\n",
      " 0.4334471  0.44684626 0.4334471  0.43441227 0.4479741  0.4479741\n",
      " 0.43441227 0.46250109]\n",
      "{'best_score': 0.44476236956376186, 'loss': 0.5552376304362381, 'params': {'bagging_freq': 2, 'feature_fraction': 0.47000000000000025, 'learning_rate': 0.09299999999999993, 'max_bin': 7, 'max_depth': 5, 'min_data_in_leaf': 386, 'neg_bagging_fraction': 0.7870000000000006, 'num_iterations': 105, 'num_leaves': 12, 'pos_bagging_fraction': 0.5810000000000004}, 'iteration': 9, 'best_cv': 20, 'train_time': 0.4220349118113518, 'status': 'ok'}\n",
      "  9%|▉         | 9/100 [00:08<01:12,  1.25it/s, best loss: 0.4162996708367387]"
     ]
    },
    {
     "name": "stderr",
     "output_type": "stream",
     "text": [
      "[Parallel(n_jobs=-1)]: Done  20 out of  20 | elapsed:    0.4s finished\n",
      "\n",
      "[Parallel(n_jobs=-1)]: Using backend LokyBackend with 8 concurrent workers.\n",
      "\n"
     ]
    },
    {
     "name": "stdout",
     "output_type": "stream",
     "text": [
      "[0.53064142 0.49553098 0.50275601 0.4938355  0.48451027 0.47030753            \n",
      " 0.55186653 0.49895833 0.52075443 0.52731127 0.49358793 0.46711459\n",
      " 0.52707384 0.51539666 0.46291035 0.52707428 0.51530934 0.5501355\n",
      " 0.53520127 0.52246706]\n",
      "{'best_score': 0.509637155877788, 'loss': 0.490362844122212, 'params': {'bagging_freq': 3, 'feature_fraction': 0.22000000000000003, 'learning_rate': 0.017999999999999995, 'max_bin': 6, 'max_depth': 5, 'min_data_in_leaf': 180, 'neg_bagging_fraction': 0.4020000000000002, 'num_iterations': 213, 'num_leaves': 32, 'pos_bagging_fraction': 0.7410000000000005}, 'iteration': 10, 'best_cv': 7, 'train_time': 0.6556020602583885, 'status': 'ok'}\n",
      " 10%|█         | 10/100 [00:09<01:14,  1.21it/s, best loss: 0.4162996708367387]"
     ]
    },
    {
     "name": "stderr",
     "output_type": "stream",
     "text": [
      "[Parallel(n_jobs=-1)]: Done  20 out of  20 | elapsed:    0.7s finished\n",
      "\n",
      "[Parallel(n_jobs=-1)]: Using backend LokyBackend with 8 concurrent workers.\n",
      "\n"
     ]
    },
    {
     "name": "stdout",
     "output_type": "stream",
     "text": [
      "[0.54967105 0.52932862 0.54534349 0.48881579 0.50453802 0.48388648             \n",
      " 0.56647076 0.47775594 0.52534418 0.55782993 0.48361491 0.45843972\n",
      " 0.52253905 0.53147358 0.53726526 0.5714186  0.52907801 0.50919449\n",
      " 0.56439716 0.49835165]\n",
      "{'best_score': 0.5217378353656972, 'loss': 0.4782621646343028, 'params': {'bagging_freq': 2, 'feature_fraction': 0.5500000000000003, 'learning_rate': 0.04999999999999997, 'max_bin': 4, 'max_depth': 9, 'min_data_in_leaf': 169, 'neg_bagging_fraction': 0.34800000000000014, 'num_iterations': 293, 'num_leaves': 31, 'pos_bagging_fraction': 0.48300000000000026}, 'iteration': 11, 'best_cv': 16, 'train_time': 0.8905487954616547, 'status': 'ok'}\n",
      " 11%|█         | 11/100 [00:10<01:18,  1.13it/s, best loss: 0.4162996708367387]"
     ]
    },
    {
     "name": "stderr",
     "output_type": "stream",
     "text": [
      "[Parallel(n_jobs=-1)]: Done  20 out of  20 | elapsed:    0.9s finished\n",
      "\n",
      "[Parallel(n_jobs=-1)]: Using backend LokyBackend with 8 concurrent workers.\n",
      "\n"
     ]
    },
    {
     "name": "stdout",
     "output_type": "stream",
     "text": [
      "[0.43463497 0.43463497 0.43463497 0.43463497 0.43463497 0.43463497             \n",
      " 0.43463497 0.43463497 0.43463497 0.43463497 0.43441227 0.43441227\n",
      " 0.43441227 0.43441227 0.43441227 0.43441227 0.43441227 0.43537415\n",
      " 0.43537415 0.43537415]\n",
      "{'best_score': 0.4346679027308653, 'loss': 0.5653320972691347, 'params': {'bagging_freq': 1, 'feature_fraction': 0.6100000000000003, 'learning_rate': 0.03399999999999998, 'max_bin': 6, 'max_depth': 4, 'min_data_in_leaf': 428, 'neg_bagging_fraction': 0.7630000000000006, 'num_iterations': 275, 'num_leaves': 22, 'pos_bagging_fraction': 0.4110000000000002}, 'iteration': 12, 'best_cv': 18, 'train_time': 0.781363233923912, 'status': 'ok'}\n",
      " 12%|█▏        | 12/100 [00:11<01:21,  1.08it/s, best loss: 0.4162996708367387]"
     ]
    },
    {
     "name": "stderr",
     "output_type": "stream",
     "text": [
      "[Parallel(n_jobs=-1)]: Done  20 out of  20 | elapsed:    0.8s finished\n",
      "\n",
      "[Parallel(n_jobs=-1)]: Using backend LokyBackend with 8 concurrent workers.\n",
      "\n"
     ]
    },
    {
     "name": "stdout",
     "output_type": "stream",
     "text": [
      "[0.43463497 0.43463497 0.43463497 0.43463497 0.43463497 0.43463497             \n",
      " 0.43463497 0.43463497 0.43463497 0.43463497 0.43441227 0.43441227\n",
      " 0.43441227 0.43441227 0.43441227 0.43441227 0.43441227 0.43537415\n",
      " 0.43537415 0.43537415]\n",
      "{'best_score': 0.4346679027308653, 'loss': 0.5653320972691347, 'params': {'bagging_freq': 4, 'feature_fraction': 0.2900000000000001, 'learning_rate': 0.011999999999999999, 'max_bin': 3, 'max_depth': 8, 'min_data_in_leaf': 422, 'neg_bagging_fraction': 0.7720000000000005, 'num_iterations': 200, 'num_leaves': 37, 'pos_bagging_fraction': 0.20500000000000002}, 'iteration': 13, 'best_cv': 18, 'train_time': 0.5757966414093971, 'status': 'ok'}\n",
      " 13%|█▎        | 13/100 [00:12<01:14,  1.16it/s, best loss: 0.4162996708367387]"
     ]
    },
    {
     "name": "stderr",
     "output_type": "stream",
     "text": [
      "[Parallel(n_jobs=-1)]: Done  20 out of  20 | elapsed:    0.6s finished\n",
      "\n",
      "[Parallel(n_jobs=-1)]: Using backend LokyBackend with 8 concurrent workers.\n",
      "\n"
     ]
    },
    {
     "name": "stdout",
     "output_type": "stream",
     "text": [
      "[0.54169766 0.53337884 0.53336616 0.50453802 0.48934413 0.50453802             \n",
      " 0.54967105 0.50069129 0.53132917 0.53132917 0.50609193 0.47950728\n",
      " 0.53052219 0.49897271 0.51479049 0.55933744 0.53314077 0.50919449\n",
      " 0.51157569 0.51859594]\n",
      "{'best_score': 0.5190806221335169, 'loss': 0.4809193778664831, 'params': {'bagging_freq': 4, 'feature_fraction': 0.5400000000000003, 'learning_rate': 0.07599999999999994, 'max_bin': 7, 'max_depth': 6, 'min_data_in_leaf': 213, 'neg_bagging_fraction': 0.4270000000000002, 'num_iterations': 161, 'num_leaves': 35, 'pos_bagging_fraction': 0.5360000000000003}, 'iteration': 14, 'best_cv': 16, 'train_time': 0.5343675538897514, 'status': 'ok'}\n",
      " 14%|█▍        | 14/100 [00:12<01:11,  1.21it/s, best loss: 0.4162996708367387]"
     ]
    },
    {
     "name": "stderr",
     "output_type": "stream",
     "text": [
      "[Parallel(n_jobs=-1)]: Done  20 out of  20 | elapsed:    0.5s finished\n",
      "\n",
      "[Parallel(n_jobs=-1)]: Using backend LokyBackend with 8 concurrent workers.\n",
      "\n"
     ]
    },
    {
     "name": "stdout",
     "output_type": "stream",
     "text": [
      "[0.43463497 0.43463497 0.43463497 0.43463497 0.43463497 0.43463497             \n",
      " 0.43463497 0.43463497 0.43463497 0.43463497 0.43441227 0.43441227\n",
      " 0.43441227 0.43441227 0.43441227 0.43441227 0.43441227 0.43537415\n",
      " 0.43537415 0.43537415]\n",
      "{'best_score': 0.4346679027308653, 'loss': 0.5653320972691347, 'params': {'bagging_freq': 1, 'feature_fraction': 0.4400000000000002, 'learning_rate': 0.09099999999999993, 'max_bin': 9, 'max_depth': 3, 'min_data_in_leaf': 387, 'neg_bagging_fraction': 0.7240000000000004, 'num_iterations': 218, 'num_leaves': 19, 'pos_bagging_fraction': 0.2780000000000001}, 'iteration': 15, 'best_cv': 18, 'train_time': 0.6054722443223, 'status': 'ok'}\n",
      " 15%|█▌        | 15/100 [00:13<01:10,  1.20it/s, best loss: 0.4162996708367387]"
     ]
    },
    {
     "name": "stderr",
     "output_type": "stream",
     "text": [
      "[Parallel(n_jobs=-1)]: Done  20 out of  20 | elapsed:    0.6s finished\n",
      "\n",
      "[Parallel(n_jobs=-1)]: Using backend LokyBackend with 8 concurrent workers.\n",
      "\n"
     ]
    },
    {
     "name": "stdout",
     "output_type": "stream",
     "text": [
      "[0.44819466 0.44707049 0.44819466 0.44819466 0.43463497 0.43463497             \n",
      " 0.4614323  0.43463497 0.47293447 0.44707049 0.44571918 0.44571918\n",
      " 0.4479741  0.44684626 0.4334471  0.43441227 0.46121389 0.4479741\n",
      " 0.43537415 0.44910286]\n",
      "{'best_score': 0.44623898717385047, 'loss': 0.5537610128261495, 'params': {'bagging_freq': 4, 'feature_fraction': 0.24000000000000005, 'learning_rate': 0.014999999999999996, 'max_bin': 7, 'max_depth': 8, 'min_data_in_leaf': 397, 'neg_bagging_fraction': 0.5650000000000004, 'num_iterations': 226, 'num_leaves': 30, 'pos_bagging_fraction': 0.7370000000000005}, 'iteration': 16, 'best_cv': 9, 'train_time': 0.6294824555516243, 'status': 'ok'}\n",
      " 16%|█▌        | 16/100 [00:14<01:08,  1.23it/s, best loss: 0.4162996708367387]"
     ]
    },
    {
     "name": "stderr",
     "output_type": "stream",
     "text": [
      "[Parallel(n_jobs=-1)]: Done  20 out of  20 | elapsed:    0.6s finished\n",
      "\n",
      "[Parallel(n_jobs=-1)]: Using backend LokyBackend with 8 concurrent workers.\n",
      "\n"
     ]
    },
    {
     "name": "stdout",
     "output_type": "stream",
     "text": [
      "[0.43463497 0.43463497 0.43463497 0.43463497 0.43463497 0.43463497             \n",
      " 0.43463497 0.43463497 0.43463497 0.43463497 0.43441227 0.43441227\n",
      " 0.43441227 0.43441227 0.43441227 0.43441227 0.43441227 0.43537415\n",
      " 0.43537415 0.43537415]\n",
      "{'best_score': 0.4346679027308653, 'loss': 0.5653320972691347, 'params': {'bagging_freq': 2, 'feature_fraction': 0.7500000000000004, 'learning_rate': 0.041999999999999975, 'max_bin': 3, 'max_depth': 7, 'min_data_in_leaf': 195, 'neg_bagging_fraction': 0.6970000000000005, 'num_iterations': 136, 'num_leaves': 29, 'pos_bagging_fraction': 0.35500000000000015}, 'iteration': 17, 'best_cv': 18, 'train_time': 0.5737743601202965, 'status': 'ok'}\n",
      " 17%|█▋        | 17/100 [00:15<01:07,  1.24it/s, best loss: 0.4162996708367387]"
     ]
    },
    {
     "name": "stderr",
     "output_type": "stream",
     "text": [
      "[Parallel(n_jobs=-1)]: Done  20 out of  20 | elapsed:    0.6s finished\n",
      "\n",
      "[Parallel(n_jobs=-1)]: Using backend LokyBackend with 8 concurrent workers.\n",
      "\n"
     ]
    },
    {
     "name": "stdout",
     "output_type": "stream",
     "text": [
      "[0.43463497 0.43463497 0.43463497 0.43463497 0.43463497 0.43463497             \n",
      " 0.43463497 0.43463497 0.43463497 0.43463497 0.43441227 0.43441227\n",
      " 0.43441227 0.43441227 0.43441227 0.43441227 0.43441227 0.43537415\n",
      " 0.43537415 0.43537415]\n",
      "{'best_score': 0.4346679027308653, 'loss': 0.5653320972691347, 'params': {'bagging_freq': 3, 'feature_fraction': 0.3000000000000001, 'learning_rate': 0.015999999999999993, 'max_bin': 6, 'max_depth': 3, 'min_data_in_leaf': 311, 'neg_bagging_fraction': 0.49200000000000027, 'num_iterations': 136, 'num_leaves': 32, 'pos_bagging_fraction': 0.23100000000000004}, 'iteration': 18, 'best_cv': 18, 'train_time': 0.38089364767074585, 'status': 'ok'}\n",
      " 18%|█▊        | 18/100 [00:15<01:01,  1.33it/s, best loss: 0.4162996708367387]"
     ]
    },
    {
     "name": "stderr",
     "output_type": "stream",
     "text": [
      "[Parallel(n_jobs=-1)]: Done  20 out of  20 | elapsed:    0.4s finished\n",
      "\n",
      "[Parallel(n_jobs=-1)]: Using backend LokyBackend with 8 concurrent workers.\n",
      "\n"
     ]
    },
    {
     "name": "stdout",
     "output_type": "stream",
     "text": [
      "[0.43463497 0.44707049 0.43463497 0.44819466 0.43463497 0.43463497             \n",
      " 0.4614323  0.43463497 0.46015358 0.43367347 0.43441227 0.43441227\n",
      " 0.43441227 0.4479741  0.4334471  0.4334471  0.4479741  0.43441227\n",
      " 0.43537415 0.44910286]\n",
      "{'best_score': 0.44043339202517656, 'loss': 0.5595666079748234, 'params': {'bagging_freq': 1, 'feature_fraction': 0.6800000000000004, 'learning_rate': 0.08299999999999993, 'max_bin': 8, 'max_depth': 8, 'min_data_in_leaf': 403, 'neg_bagging_fraction': 0.6000000000000003, 'num_iterations': 192, 'num_leaves': 25, 'pos_bagging_fraction': 0.37900000000000017}, 'iteration': 19, 'best_cv': 7, 'train_time': 0.5486032590270042, 'status': 'ok'}\n",
      " 19%|█▉        | 19/100 [00:16<00:59,  1.37it/s, best loss: 0.4162996708367387]"
     ]
    },
    {
     "name": "stderr",
     "output_type": "stream",
     "text": [
      "[Parallel(n_jobs=-1)]: Done  20 out of  20 | elapsed:    0.5s finished\n",
      "\n",
      "[Parallel(n_jobs=-1)]: Using backend LokyBackend with 8 concurrent workers.\n",
      "\n"
     ]
    },
    {
     "name": "stdout",
     "output_type": "stream",
     "text": [
      "[0.43463497 0.44707049 0.43463497 0.43463497 0.43463497 0.43463497             \n",
      " 0.44819466 0.43463497 0.44707049 0.43463497 0.43441227 0.43441227\n",
      " 0.43441227 0.43441227 0.43441227 0.43441227 0.4479741  0.43441227\n",
      " 0.43537415 0.44910286]\n",
      "{'best_score': 0.43790587170435813, 'loss': 0.5620941282956419, 'params': {'bagging_freq': 1, 'feature_fraction': 0.3000000000000001, 'learning_rate': 0.08399999999999994, 'max_bin': 4, 'max_depth': 3, 'min_data_in_leaf': 378, 'neg_bagging_fraction': 0.3960000000000002, 'num_iterations': 118, 'num_leaves': 33, 'pos_bagging_fraction': 0.3830000000000002}, 'iteration': 20, 'best_cv': 20, 'train_time': 0.3738722428679466, 'status': 'ok'}\n",
      " 20%|██        | 20/100 [00:17<00:55,  1.44it/s, best loss: 0.4162996708367387]"
     ]
    },
    {
     "name": "stderr",
     "output_type": "stream",
     "text": [
      "[Parallel(n_jobs=-1)]: Done  20 out of  20 | elapsed:    0.4s finished\n",
      "\n",
      "[Parallel(n_jobs=-1)]: Using backend LokyBackend with 8 concurrent workers.\n",
      "\n"
     ]
    },
    {
     "name": "stdout",
     "output_type": "stream",
     "text": [
      "[0.55858961 0.49097731 0.51366035 0.45634338 0.46015358 0.44257993             \n",
      " 0.48542432 0.46870398 0.49723841 0.46870398 0.47751947 0.43896355\n",
      " 0.47950728 0.45232156 0.46847291 0.52052296 0.51343429 0.47903758\n",
      " 0.48364888 0.48056487]\n",
      "{'best_score': 0.48181840958922084, 'loss': 0.5181815904107792, 'params': {'bagging_freq': 3, 'feature_fraction': 0.6600000000000004, 'learning_rate': 0.07399999999999994, 'max_bin': 5, 'max_depth': 9, 'min_data_in_leaf': 446, 'neg_bagging_fraction': 0.5290000000000004, 'num_iterations': 246, 'num_leaves': 27, 'pos_bagging_fraction': 0.5870000000000004}, 'iteration': 21, 'best_cv': 1, 'train_time': 0.7160103842616081, 'status': 'ok'}\n",
      " 21%|██        | 21/100 [00:17<00:58,  1.34it/s, best loss: 0.4162996708367387]"
     ]
    },
    {
     "name": "stderr",
     "output_type": "stream",
     "text": [
      "[Parallel(n_jobs=-1)]: Done  20 out of  20 | elapsed:    0.7s finished\n",
      "\n",
      "[Parallel(n_jobs=-1)]: Using backend LokyBackend with 8 concurrent workers.\n",
      "\n"
     ]
    },
    {
     "name": "stdout",
     "output_type": "stream",
     "text": [
      "[0.52662941 0.48934413 0.50243787 0.45887939 0.45887939 0.46453457             \n",
      " 0.48232695 0.45760942 0.50419868 0.50419868 0.4760101  0.44981061\n",
      " 0.51157569 0.4826695  0.48364888 0.50397418 0.47903758 0.50045921\n",
      " 0.48210181 0.46987952]\n",
      "{'best_score': 0.48441027878962706, 'loss': 0.5155897212103729, 'params': {'bagging_freq': 3, 'feature_fraction': 0.7800000000000005, 'learning_rate': 0.08499999999999994, 'max_bin': 5, 'max_depth': 9, 'min_data_in_leaf': 230, 'neg_bagging_fraction': 0.6570000000000005, 'num_iterations': 238, 'num_leaves': 10, 'pos_bagging_fraction': 0.6300000000000003}, 'iteration': 22, 'best_cv': 1, 'train_time': 0.8094639405608177, 'status': 'ok'}\n",
      " 22%|██▏       | 22/100 [00:19<01:05,  1.19it/s, best loss: 0.4162996708367387]"
     ]
    },
    {
     "name": "stderr",
     "output_type": "stream",
     "text": [
      "[Parallel(n_jobs=-1)]: Done  20 out of  20 | elapsed:    0.8s finished\n",
      "\n",
      "[Parallel(n_jobs=-1)]: Using backend LokyBackend with 8 concurrent workers.\n",
      "\n"
     ]
    },
    {
     "name": "stdout",
     "output_type": "stream",
     "text": [
      "[0.44819466 0.46870398 0.48542432 0.44819466 0.43367347 0.4459471              \n",
      " 0.44707049 0.43463497 0.47151687 0.4459471  0.44571918 0.43247863\n",
      " 0.45737993 0.43247863 0.44571918 0.44571918 0.46121389 0.46121389\n",
      " 0.43537415 0.47558152]\n",
      "{'best_score': 0.45110929104132325, 'loss': 0.5488907089586768, 'params': {'bagging_freq': 3, 'feature_fraction': 0.38000000000000017, 'learning_rate': 0.08599999999999992, 'max_bin': 5, 'max_depth': 6, 'min_data_in_leaf': 193, 'neg_bagging_fraction': 0.4190000000000002, 'num_iterations': 115, 'num_leaves': 15, 'pos_bagging_fraction': 0.36400000000000016}, 'iteration': 23, 'best_cv': 3, 'train_time': 0.3886462524533272, 'status': 'ok'}\n",
      " 23%|██▎       | 23/100 [00:19<00:59,  1.29it/s, best loss: 0.4162996708367387]"
     ]
    },
    {
     "name": "stderr",
     "output_type": "stream",
     "text": [
      "[Parallel(n_jobs=-1)]: Done  20 out of  20 | elapsed:    0.4s finished\n",
      "\n",
      "[Parallel(n_jobs=-1)]: Using backend LokyBackend with 8 concurrent workers.\n",
      "\n"
     ]
    },
    {
     "name": "stdout",
     "output_type": "stream",
     "text": [
      "[0.44819466 0.47293447 0.47436007 0.43463497 0.43367347 0.44819466             \n",
      " 0.46015358 0.43463497 0.46015358 0.43270869 0.43441227 0.43247863\n",
      " 0.44684626 0.4334471  0.4334471  0.4479741  0.43441227 0.4334471\n",
      " 0.43537415 0.46250109]\n",
      "{'best_score': 0.44469916015236033, 'loss': 0.5553008398476397, 'params': {'bagging_freq': 3, 'feature_fraction': 0.7400000000000004, 'learning_rate': 0.09799999999999992, 'max_bin': 5, 'max_depth': 4, 'min_data_in_leaf': 475, 'neg_bagging_fraction': 0.7270000000000005, 'num_iterations': 142, 'num_leaves': 17, 'pos_bagging_fraction': 0.5600000000000003}, 'iteration': 24, 'best_cv': 3, 'train_time': 0.49570488184690475, 'status': 'ok'}\n",
      " 24%|██▍       | 24/100 [00:20<00:55,  1.36it/s, best loss: 0.4162996708367387]"
     ]
    },
    {
     "name": "stderr",
     "output_type": "stream",
     "text": [
      "[Parallel(n_jobs=-1)]: Done  20 out of  20 | elapsed:    0.5s finished\n",
      "\n",
      "[Parallel(n_jobs=-1)]: Using backend LokyBackend with 8 concurrent workers.\n",
      "\n"
     ]
    },
    {
     "name": "stdout",
     "output_type": "stream",
     "text": [
      "[0.43463497 0.43463497 0.43463497 0.43463497 0.43463497 0.43463497             \n",
      " 0.4614323  0.43463497 0.44819466 0.43463497 0.43441227 0.4479741\n",
      " 0.4479741  0.43247863 0.43441227 0.43441227 0.43441227 0.43441227\n",
      " 0.43537415 0.43537415]\n",
      "{'best_score': 0.4378971605588823, 'loss': 0.5621028394411177, 'params': {'bagging_freq': 3, 'feature_fraction': 0.5600000000000003, 'learning_rate': 0.08499999999999994, 'max_bin': 9, 'max_depth': 9, 'min_data_in_leaf': 123, 'neg_bagging_fraction': 0.6620000000000004, 'num_iterations': 222, 'num_leaves': 10, 'pos_bagging_fraction': 0.25200000000000006}, 'iteration': 25, 'best_cv': 7, 'train_time': 0.71812504529953, 'status': 'ok'}\n",
      " 25%|██▌       | 25/100 [00:21<00:59,  1.25it/s, best loss: 0.4162996708367387]"
     ]
    },
    {
     "name": "stderr",
     "output_type": "stream",
     "text": [
      "[Parallel(n_jobs=-1)]: Done  20 out of  20 | elapsed:    0.7s finished\n",
      "\n",
      "[Parallel(n_jobs=-1)]: Using backend LokyBackend with 8 concurrent workers.\n",
      "\n"
     ]
    },
    {
     "name": "stdout",
     "output_type": "stream",
     "text": [
      "[0.43463497 0.43463497 0.43463497 0.43463497 0.43463497 0.43463497             \n",
      " 0.43463497 0.43463497 0.43463497 0.43463497 0.43441227 0.43441227\n",
      " 0.43441227 0.43441227 0.43441227 0.43441227 0.43441227 0.43537415\n",
      " 0.43537415 0.43537415]\n",
      "{'best_score': 0.4346679027308653, 'loss': 0.5653320972691347, 'params': {'bagging_freq': 3, 'feature_fraction': 0.6600000000000004, 'learning_rate': 0.06999999999999995, 'max_bin': 5, 'max_depth': 9, 'min_data_in_leaf': 464, 'neg_bagging_fraction': 0.36700000000000016, 'num_iterations': 216, 'num_leaves': 14, 'pos_bagging_fraction': 0.21600000000000003}, 'iteration': 26, 'best_cv': 18, 'train_time': 0.4868563860654831, 'status': 'ok'}\n",
      " 26%|██▌       | 26/100 [00:21<00:57,  1.29it/s, best loss: 0.4162996708367387]"
     ]
    },
    {
     "name": "stderr",
     "output_type": "stream",
     "text": [
      "[Parallel(n_jobs=-1)]: Done  20 out of  20 | elapsed:    0.5s finished\n",
      "\n",
      "[Parallel(n_jobs=-1)]: Using backend LokyBackend with 8 concurrent workers.\n",
      "\n"
     ]
    },
    {
     "name": "stdout",
     "output_type": "stream",
     "text": [
      "[0.56882283 0.50069129 0.5226947  0.47775594 0.48232695 0.46730789             \n",
      " 0.51366035 0.49723841 0.48451027 0.49895833 0.48855634 0.49528732\n",
      " 0.50919449 0.5310986  0.4826695  0.50790514 0.51479049 0.47450904\n",
      " 0.47271457 0.51343429]\n",
      "{'best_score': 0.5002063376394463, 'loss': 0.49979366236055367, 'params': {'bagging_freq': 3, 'feature_fraction': 0.5800000000000003, 'learning_rate': 0.07399999999999994, 'max_bin': 3, 'max_depth': 6, 'min_data_in_leaf': 200, 'neg_bagging_fraction': 0.21000000000000002, 'num_iterations': 266, 'num_leaves': 21, 'pos_bagging_fraction': 0.2750000000000001}, 'iteration': 27, 'best_cv': 1, 'train_time': 0.5799530148506165, 'status': 'ok'}\n",
      " 27%|██▋       | 27/100 [00:22<00:55,  1.31it/s, best loss: 0.4162996708367387]"
     ]
    },
    {
     "name": "stderr",
     "output_type": "stream",
     "text": [
      "[Parallel(n_jobs=-1)]: Done  20 out of  20 | elapsed:    0.6s finished\n",
      "\n",
      "[Parallel(n_jobs=-1)]: Using backend LokyBackend with 8 concurrent workers.\n",
      "\n"
     ]
    },
    {
     "name": "stdout",
     "output_type": "stream",
     "text": [
      "[0.65160075 0.57727558 0.56762503 0.56762503 0.57036878 0.58893502             \n",
      " 0.56798493 0.60846561 0.57036878 0.6012931  0.57234865 0.52795163\n",
      " 0.5455983  0.6086444  0.63272354 0.62861957 0.59110338 0.56774895\n",
      " 0.60783636 0.58836171]\n",
      "{'best_score': 0.5871239555587155, 'loss': 0.41287604444128445, 'params': {'bagging_freq': 3, 'feature_fraction': 0.5300000000000002, 'learning_rate': 0.027999999999999983, 'max_bin': 9, 'max_depth': 6, 'min_data_in_leaf': 296, 'neg_bagging_fraction': 0.20500000000000002, 'num_iterations': 180, 'num_leaves': 34, 'pos_bagging_fraction': 0.45100000000000023}, 'iteration': 28, 'best_cv': 1, 'train_time': 0.4353009834885597, 'status': 'ok'}\n",
      " 28%|██▊       | 28/100 [00:23<00:52,  1.36it/s, best loss: 0.41287604444128445]"
     ]
    },
    {
     "name": "stderr",
     "output_type": "stream",
     "text": [
      "[Parallel(n_jobs=-1)]: Done  20 out of  20 | elapsed:    0.4s finished\n",
      "\n",
      "[Parallel(n_jobs=-1)]: Using backend LokyBackend with 8 concurrent workers.\n",
      "\n"
     ]
    },
    {
     "name": "stdout",
     "output_type": "stream",
     "text": [
      "[0.49427964 0.48232695 0.4838703  0.4459471  0.43367347 0.44145803              \n",
      " 0.49763376 0.43270869 0.45887939 0.47151687 0.44121511 0.44459268\n",
      " 0.48056487 0.45484401 0.44571918 0.45865362 0.47271457 0.44571918\n",
      " 0.47129327 0.47558152]\n",
      "{'best_score': 0.46165960975257914, 'loss': 0.5383403902474209, 'params': {'bagging_freq': 3, 'feature_fraction': 0.5300000000000002, 'learning_rate': 0.07299999999999994, 'max_bin': 9, 'max_depth': 6, 'min_data_in_leaf': 296, 'neg_bagging_fraction': 0.6330000000000005, 'num_iterations': 223, 'num_leaves': 34, 'pos_bagging_fraction': 0.5370000000000004}, 'iteration': 29, 'best_cv': 7, 'train_time': 0.7782154828310013, 'status': 'ok'}\n",
      " 29%|██▉       | 29/100 [00:24<00:55,  1.27it/s, best loss: 0.41287604444128445]"
     ]
    },
    {
     "name": "stderr",
     "output_type": "stream",
     "text": [
      "[Parallel(n_jobs=-1)]: Done  20 out of  20 | elapsed:    0.8s finished\n",
      "\n",
      "[Parallel(n_jobs=-1)]: Using backend LokyBackend with 8 concurrent workers.\n",
      "\n"
     ]
    },
    {
     "name": "stdout",
     "output_type": "stream",
     "text": [
      "[0.62695473 0.62841202 0.55668719 0.55816011 0.54656968 0.56783468              \n",
      " 0.61195398 0.60024951 0.53673498 0.60706861 0.53393288 0.5348881\n",
      " 0.51770129 0.57784483 0.63806035 0.65044966 0.58968927 0.61169591\n",
      " 0.58723903 0.57784251]\n",
      "{'best_score': 0.5829984659046558, 'loss': 0.41700153409534424, 'params': {'bagging_freq': 4, 'feature_fraction': 0.36000000000000015, 'learning_rate': 0.05699999999999996, 'max_bin': 9, 'max_depth': 6, 'min_data_in_leaf': 187, 'neg_bagging_fraction': 0.20500000000000002, 'num_iterations': 137, 'num_leaves': 11, 'pos_bagging_fraction': 0.5580000000000003}, 'iteration': 30, 'best_cv': 16, 'train_time': 0.3921327516436577, 'status': 'ok'}\n",
      " 30%|███       | 30/100 [00:24<00:52,  1.34it/s, best loss: 0.41287604444128445]"
     ]
    },
    {
     "name": "stderr",
     "output_type": "stream",
     "text": [
      "[Parallel(n_jobs=-1)]: Done  20 out of  20 | elapsed:    0.4s finished\n",
      "\n",
      "[Parallel(n_jobs=-1)]: Using backend LokyBackend with 8 concurrent workers.\n",
      "\n"
     ]
    },
    {
     "name": "stdout",
     "output_type": "stream",
     "text": [
      "[0.63564695 0.59345172 0.58656623 0.55512314 0.56798493 0.57159335              \n",
      " 0.57727558 0.59614607 0.57264438 0.62117092 0.54400125 0.53765597\n",
      " 0.53140116 0.61955691 0.58793373 0.62752947 0.59351679 0.5655398\n",
      " 0.62317802 0.57464349]\n",
      "{'best_score': 0.5841279936774125, 'loss': 0.4158720063225875, 'params': {'bagging_freq': 3, 'feature_fraction': 0.7100000000000004, 'learning_rate': 0.06199999999999996, 'max_bin': 9, 'max_depth': 6, 'min_data_in_leaf': 472, 'neg_bagging_fraction': 0.23300000000000004, 'num_iterations': 187, 'num_leaves': 34, 'pos_bagging_fraction': 0.48200000000000026}, 'iteration': 31, 'best_cv': 1, 'train_time': 0.3925299495458603, 'status': 'ok'}\n",
      " 31%|███       | 31/100 [00:25<00:49,  1.39it/s, best loss: 0.41287604444128445]"
     ]
    },
    {
     "name": "stderr",
     "output_type": "stream",
     "text": [
      "[Parallel(n_jobs=-1)]: Done  20 out of  20 | elapsed:    0.4s finished\n",
      "\n",
      "[Parallel(n_jobs=-1)]: Using backend LokyBackend with 8 concurrent workers.\n",
      "\n"
     ]
    },
    {
     "name": "stdout",
     "output_type": "stream",
     "text": [
      "[0.49427964 0.48079376 0.47436007 0.45887939 0.45887939 0.44482431              \n",
      " 0.5095729  0.44707049 0.49427964 0.44482431 0.4400894  0.45611015\n",
      " 0.49239559 0.45232156 0.44684626 0.47129327 0.4852066  0.46987952\n",
      " 0.48364888 0.4852066 ]\n",
      "{'best_score': 0.46953808799879926, 'loss': 0.5304619120012007, 'params': {'bagging_freq': 3, 'feature_fraction': 0.5700000000000003, 'learning_rate': 0.027999999999999983, 'max_bin': 9, 'max_depth': 6, 'min_data_in_leaf': 307, 'neg_bagging_fraction': 0.7110000000000005, 'num_iterations': 180, 'num_leaves': 34, 'pos_bagging_fraction': 0.7880000000000005}, 'iteration': 32, 'best_cv': 7, 'train_time': 0.6656261086463928, 'status': 'ok'}\n",
      " 32%|███▏      | 32/100 [00:26<00:50,  1.35it/s, best loss: 0.41287604444128445]"
     ]
    },
    {
     "name": "stderr",
     "output_type": "stream",
     "text": [
      "[Parallel(n_jobs=-1)]: Done  20 out of  20 | elapsed:    0.7s finished\n",
      "\n",
      "[Parallel(n_jobs=-1)]: Using backend LokyBackend with 8 concurrent workers.\n",
      "\n"
     ]
    },
    {
     "name": "stdout",
     "output_type": "stream",
     "text": [
      "[0.43463497 0.43463497 0.43463497 0.43463497 0.43463497 0.43463497              \n",
      " 0.43463497 0.43463497 0.43463497 0.43463497 0.43441227 0.43441227\n",
      " 0.43441227 0.43441227 0.43441227 0.43441227 0.43441227 0.43537415\n",
      " 0.43537415 0.43537415]\n",
      "{'best_score': 0.4346679027308653, 'loss': 0.5653320972691347, 'params': {'bagging_freq': 3, 'feature_fraction': 0.7100000000000004, 'learning_rate': 0.06699999999999995, 'max_bin': 9, 'max_depth': 4, 'min_data_in_leaf': 299, 'neg_bagging_fraction': 0.7700000000000005, 'num_iterations': 173, 'num_leaves': 20, 'pos_bagging_fraction': 0.3120000000000001}, 'iteration': 33, 'best_cv': 18, 'train_time': 0.6013182774186134, 'status': 'ok'}\n",
      " 33%|███▎      | 33/100 [00:27<00:51,  1.30it/s, best loss: 0.41287604444128445]"
     ]
    },
    {
     "name": "stderr",
     "output_type": "stream",
     "text": [
      "[Parallel(n_jobs=-1)]: Done  20 out of  20 | elapsed:    0.6s finished\n",
      "\n",
      "[Parallel(n_jobs=-1)]: Using backend LokyBackend with 8 concurrent workers.\n",
      "\n"
     ]
    },
    {
     "name": "stdout",
     "output_type": "stream",
     "text": [
      "[0.43463497 0.43463497 0.43463497 0.43463497 0.43463497 0.43463497              \n",
      " 0.43463497 0.43463497 0.43463497 0.43463497 0.43441227 0.43441227\n",
      " 0.43441227 0.43441227 0.43441227 0.43441227 0.43441227 0.43537415\n",
      " 0.43537415 0.43537415]\n",
      "{'best_score': 0.4346679027308653, 'loss': 0.5653320972691347, 'params': {'bagging_freq': 3, 'feature_fraction': 0.26000000000000006, 'learning_rate': 0.027999999999999983, 'max_bin': 9, 'max_depth': 6, 'min_data_in_leaf': 472, 'neg_bagging_fraction': 0.3230000000000001, 'num_iterations': 187, 'num_leaves': 28, 'pos_bagging_fraction': 0.35600000000000015}, 'iteration': 34, 'best_cv': 18, 'train_time': 0.4128631427884102, 'status': 'ok'}\n",
      " 34%|███▍      | 34/100 [00:27<00:48,  1.36it/s, best loss: 0.41287604444128445]"
     ]
    },
    {
     "name": "stderr",
     "output_type": "stream",
     "text": [
      "[Parallel(n_jobs=-1)]: Done  20 out of  20 | elapsed:    0.4s finished\n",
      "\n",
      "[Parallel(n_jobs=-1)]: Using backend LokyBackend with 8 concurrent workers.\n",
      "\n"
     ]
    },
    {
     "name": "stdout",
     "output_type": "stream",
     "text": [
      "[0.64218107 0.59755022 0.55532805 0.54636273 0.56070113 0.56876457              \n",
      " 0.57196013 0.61238645 0.53228809 0.59688423 0.53616492 0.5185559\n",
      " 0.52493549 0.58260719 0.60434322 0.61891644 0.59430038 0.6041751\n",
      " 0.5916267  0.58888018]\n",
      "{'best_score': 0.5774456099737965, 'loss': 0.42255439002620354, 'params': {'bagging_freq': 4, 'feature_fraction': 0.4200000000000002, 'learning_rate': 0.06199999999999996, 'max_bin': 9, 'max_depth': 7, 'min_data_in_leaf': 158, 'neg_bagging_fraction': 0.23300000000000004, 'num_iterations': 211, 'num_leaves': 38, 'pos_bagging_fraction': 0.6470000000000005}, 'iteration': 35, 'best_cv': 1, 'train_time': 0.5963098481297493, 'status': 'ok'}\n",
      " 35%|███▌      | 35/100 [00:28<00:47,  1.36it/s, best loss: 0.41287604444128445]"
     ]
    },
    {
     "name": "stderr",
     "output_type": "stream",
     "text": [
      "[Parallel(n_jobs=-1)]: Done  20 out of  20 | elapsed:    0.6s finished\n",
      "\n",
      "[Parallel(n_jobs=-1)]: Using backend LokyBackend with 8 concurrent workers.\n",
      "\n"
     ]
    },
    {
     "name": "stdout",
     "output_type": "stream",
     "text": [
      "[0.43463497 0.43463497 0.43463497 0.43463497 0.43463497 0.43463497              \n",
      " 0.43463497 0.43463497 0.43463497 0.43463497 0.43441227 0.43441227\n",
      " 0.43441227 0.43441227 0.43441227 0.43441227 0.43441227 0.43537415\n",
      " 0.43537415 0.43537415]\n",
      "{'best_score': 0.4346679027308653, 'loss': 0.5653320972691347, 'params': {'bagging_freq': 3, 'feature_fraction': 0.37000000000000016, 'learning_rate': 0.011, 'max_bin': 8, 'max_depth': 6, 'min_data_in_leaf': 407, 'neg_bagging_fraction': 0.7140000000000004, 'num_iterations': 114, 'num_leaves': 36, 'pos_bagging_fraction': 0.37700000000000017}, 'iteration': 36, 'best_cv': 18, 'train_time': 0.4153641313314438, 'status': 'ok'}\n",
      " 36%|███▌      | 36/100 [00:29<00:45,  1.41it/s, best loss: 0.41287604444128445]"
     ]
    },
    {
     "name": "stderr",
     "output_type": "stream",
     "text": [
      "[Parallel(n_jobs=-1)]: Done  20 out of  20 | elapsed:    0.4s finished\n",
      "\n",
      "[Parallel(n_jobs=-1)]: Using backend LokyBackend with 8 concurrent workers.\n",
      "\n"
     ]
    },
    {
     "name": "stdout",
     "output_type": "stream",
     "text": [
      "[0.51742005 0.49097731 0.49763376 0.45760942 0.45760942 0.46730789              \n",
      " 0.49262229 0.45887939 0.48079376 0.47010684 0.46567957 0.44571918\n",
      " 0.47903758 0.47751947 0.48364888 0.45865362 0.48210181 0.47129327\n",
      " 0.48210181 0.47414384]\n",
      "{'best_score': 0.4755429578892832, 'loss': 0.5244570421107169, 'params': {'bagging_freq': 3, 'feature_fraction': 0.3900000000000002, 'learning_rate': 0.06199999999999996, 'max_bin': 9, 'max_depth': 6, 'min_data_in_leaf': 110, 'neg_bagging_fraction': 0.7580000000000005, 'num_iterations': 144, 'num_leaves': 39, 'pos_bagging_fraction': 0.6530000000000005}, 'iteration': 37, 'best_cv': 1, 'train_time': 0.6465426161885262, 'status': 'ok'}\n",
      " 37%|███▋      | 37/100 [00:30<00:46,  1.36it/s, best loss: 0.41287604444128445]"
     ]
    },
    {
     "name": "stderr",
     "output_type": "stream",
     "text": [
      "[Parallel(n_jobs=-1)]: Done  20 out of  20 | elapsed:    0.6s finished\n",
      "\n",
      "[Parallel(n_jobs=-1)]: Using backend LokyBackend with 8 concurrent workers.\n",
      "\n"
     ]
    },
    {
     "name": "stdout",
     "output_type": "stream",
     "text": [
      "[0.43463497 0.43463497 0.43463497 0.43463497 0.43463497 0.43463497              \n",
      " 0.43463497 0.43463497 0.43463497 0.43463497 0.43441227 0.43441227\n",
      " 0.43441227 0.43441227 0.43441227 0.43441227 0.43441227 0.43537415\n",
      " 0.43537415 0.43537415]\n",
      "{'best_score': 0.4346679027308653, 'loss': 0.5653320972691347, 'params': {'bagging_freq': 1, 'feature_fraction': 0.7300000000000004, 'learning_rate': 0.01, 'max_bin': 4, 'max_depth': 5, 'min_data_in_leaf': 303, 'neg_bagging_fraction': 0.6060000000000003, 'num_iterations': 221, 'num_leaves': 26, 'pos_bagging_fraction': 0.48200000000000026}, 'iteration': 38, 'best_cv': 18, 'train_time': 0.6551243364810944, 'status': 'ok'}\n",
      " 38%|███▊      | 38/100 [00:30<00:48,  1.29it/s, best loss: 0.41287604444128445]"
     ]
    },
    {
     "name": "stderr",
     "output_type": "stream",
     "text": [
      "[Parallel(n_jobs=-1)]: Done  20 out of  20 | elapsed:    0.7s finished\n",
      "\n",
      "[Parallel(n_jobs=-1)]: Using backend LokyBackend with 8 concurrent workers.\n",
      "\n"
     ]
    },
    {
     "name": "stdout",
     "output_type": "stream",
     "text": [
      "[0.56647076 0.52336347 0.54534349 0.51883128 0.50453802 0.48133761              \n",
      " 0.52862535 0.52731127 0.51948052 0.52532895 0.49022292 0.4826695\n",
      " 0.50975275 0.49033564 0.49528732 0.50429265 0.53935806 0.50919449\n",
      " 0.53109994 0.52907801]\n",
      "{'best_score': 0.5160961001245926, 'loss': 0.4839038998754074, 'params': {'bagging_freq': 3, 'feature_fraction': 0.3200000000000001, 'learning_rate': 0.08999999999999993, 'max_bin': 9, 'max_depth': 7, 'min_data_in_leaf': 296, 'neg_bagging_fraction': 0.21400000000000002, 'num_iterations': 281, 'num_leaves': 34, 'pos_bagging_fraction': 0.3000000000000001}, 'iteration': 39, 'best_cv': 1, 'train_time': 0.5765221044421196, 'status': 'ok'}\n",
      " 39%|███▉      | 39/100 [00:31<00:49,  1.23it/s, best loss: 0.41287604444128445]"
     ]
    },
    {
     "name": "stderr",
     "output_type": "stream",
     "text": [
      "[Parallel(n_jobs=-1)]: Done  20 out of  20 | elapsed:    0.6s finished\n",
      "\n",
      "[Parallel(n_jobs=-1)]: Using backend LokyBackend with 8 concurrent workers.\n",
      "\n"
     ]
    },
    {
     "name": "stdout",
     "output_type": "stream",
     "text": [
      "[0.55956371 0.48451027 0.52731127 0.49262229 0.50419868 0.47775594              \n",
      " 0.50996656 0.49262229 0.49895833 0.51180556 0.48426443 0.46857993\n",
      " 0.50919449 0.52116536 0.46707305 0.50973285 0.5022096  0.52116536\n",
      " 0.49699864 0.51157569]\n",
      "{'best_score': 0.5025637143016823, 'loss': 0.49743628569831766, 'params': {'bagging_freq': 2, 'feature_fraction': 0.49000000000000027, 'learning_rate': 0.06799999999999995, 'max_bin': 8, 'max_depth': 6, 'min_data_in_leaf': 100, 'neg_bagging_fraction': 0.6350000000000005, 'num_iterations': 120, 'num_leaves': 23, 'pos_bagging_fraction': 0.6980000000000004}, 'iteration': 40, 'best_cv': 1, 'train_time': 0.551378920674324, 'status': 'ok'}\n",
      " 40%|████      | 40/100 [00:32<00:46,  1.29it/s, best loss: 0.41287604444128445]"
     ]
    },
    {
     "name": "stderr",
     "output_type": "stream",
     "text": [
      "[Parallel(n_jobs=-1)]: Done  20 out of  20 | elapsed:    0.5s finished\n",
      "\n",
      "[Parallel(n_jobs=-1)]: Using backend LokyBackend with 8 concurrent workers.\n",
      "\n"
     ]
    },
    {
     "name": "stdout",
     "output_type": "stream",
     "text": [
      "[0.50597434 0.47625039 0.50776552 0.45760942 0.45760942 0.45382201              \n",
      " 0.50776552 0.4459471  0.50243787 0.48079376 0.46429212 0.45232156\n",
      " 0.48910985 0.45358123 0.44571918 0.46707305 0.48210181 0.48210181\n",
      " 0.48364888 0.48677551]\n",
      "{'best_score': 0.4751350166689677, 'loss': 0.5248649833310324, 'params': {'bagging_freq': 3, 'feature_fraction': 0.6200000000000003, 'learning_rate': 0.03499999999999998, 'max_bin': 9, 'max_depth': 4, 'min_data_in_leaf': 215, 'neg_bagging_fraction': 0.6140000000000003, 'num_iterations': 243, 'num_leaves': 16, 'pos_bagging_fraction': 0.6420000000000003}, 'iteration': 41, 'best_cv': 3, 'train_time': 0.8007067516446114, 'status': 'ok'}\n",
      " 41%|████      | 41/100 [00:33<00:50,  1.17it/s, best loss: 0.41287604444128445]"
     ]
    },
    {
     "name": "stderr",
     "output_type": "stream",
     "text": [
      "[Parallel(n_jobs=-1)]: Done  20 out of  20 | elapsed:    0.8s finished\n",
      "\n",
      "[Parallel(n_jobs=-1)]: Using backend LokyBackend with 8 concurrent workers.\n",
      "\n"
     ]
    },
    {
     "name": "stdout",
     "output_type": "stream",
     "text": [
      "[0.43463497 0.43367347 0.43463497 0.43463497 0.43463497 0.43463497              \n",
      " 0.43463497 0.43463497 0.43463497 0.43463497 0.43441227 0.43441227\n",
      " 0.43441227 0.43441227 0.43441227 0.43441227 0.43441227 0.43441227\n",
      " 0.43537415 0.43537415]\n",
      "{'best_score': 0.4345717332785092, 'loss': 0.5654282667214908, 'params': {'bagging_freq': 2, 'feature_fraction': 0.6900000000000004, 'learning_rate': 0.09699999999999992, 'max_bin': 4, 'max_depth': 5, 'min_data_in_leaf': 354, 'neg_bagging_fraction': 0.5890000000000004, 'num_iterations': 215, 'num_leaves': 34, 'pos_bagging_fraction': 0.22900000000000004}, 'iteration': 42, 'best_cv': 19, 'train_time': 0.6500092074275017, 'status': 'ok'}\n",
      " 42%|████▏     | 42/100 [00:34<00:50,  1.16it/s, best loss: 0.41287604444128445]"
     ]
    },
    {
     "name": "stderr",
     "output_type": "stream",
     "text": [
      "[Parallel(n_jobs=-1)]: Done  20 out of  20 | elapsed:    0.6s finished\n",
      "\n",
      "[Parallel(n_jobs=-1)]: Using backend LokyBackend with 8 concurrent workers.\n",
      "\n"
     ]
    },
    {
     "name": "stdout",
     "output_type": "stream",
     "text": [
      "[0.43463497 0.43463497 0.43463497 0.43463497 0.43463497 0.43463497              \n",
      " 0.43463497 0.43463497 0.43463497 0.43463497 0.43441227 0.43441227\n",
      " 0.43441227 0.43441227 0.43441227 0.43441227 0.43441227 0.43537415\n",
      " 0.43537415 0.43537415]\n",
      "{'best_score': 0.4346679027308653, 'loss': 0.5653320972691347, 'params': {'bagging_freq': 4, 'feature_fraction': 0.4100000000000002, 'learning_rate': 0.028999999999999984, 'max_bin': 3, 'max_depth': 6, 'min_data_in_leaf': 471, 'neg_bagging_fraction': 0.7510000000000006, 'num_iterations': 253, 'num_leaves': 13, 'pos_bagging_fraction': 0.6290000000000004}, 'iteration': 43, 'best_cv': 18, 'train_time': 0.7830618321895599, 'status': 'ok'}\n",
      " 43%|████▎     | 43/100 [00:35<00:50,  1.14it/s, best loss: 0.41287604444128445]"
     ]
    },
    {
     "name": "stderr",
     "output_type": "stream",
     "text": [
      "[Parallel(n_jobs=-1)]: Done  20 out of  20 | elapsed:    0.8s finished\n",
      "\n",
      "[Parallel(n_jobs=-1)]: Using backend LokyBackend with 8 concurrent workers.\n",
      "\n"
     ]
    },
    {
     "name": "stdout",
     "output_type": "stream",
     "text": [
      "[0.49763376 0.47625039 0.47927025 0.48079376 0.47927025 0.44033613              \n",
      " 0.5375     0.45887939 0.49723841 0.49097731 0.46429212 0.45232156\n",
      " 0.50045921 0.4760101  0.44571918 0.5022096  0.5022096  0.52640938\n",
      " 0.50935961 0.5057536 ]\n",
      "{'best_score': 0.48614468022635116, 'loss': 0.5138553197736488, 'params': {'bagging_freq': 1, 'feature_fraction': 0.7600000000000005, 'learning_rate': 0.05899999999999996, 'max_bin': 6, 'max_depth': 3, 'min_data_in_leaf': 101, 'neg_bagging_fraction': 0.5620000000000003, 'num_iterations': 179, 'num_leaves': 34, 'pos_bagging_fraction': 0.6170000000000004}, 'iteration': 44, 'best_cv': 7, 'train_time': 0.4917086139321327, 'status': 'ok'}\n",
      " 44%|████▍     | 44/100 [00:36<00:47,  1.19it/s, best loss: 0.41287604444128445]"
     ]
    },
    {
     "name": "stderr",
     "output_type": "stream",
     "text": [
      "[Parallel(n_jobs=-1)]: Done  20 out of  20 | elapsed:    0.5s finished\n",
      "\n",
      "[Parallel(n_jobs=-1)]: Using backend LokyBackend with 8 concurrent workers.\n",
      "\n"
     ]
    },
    {
     "name": "stdout",
     "output_type": "stream",
     "text": [
      "[0.62336147 0.59602787 0.56331738 0.56558349 0.56091453 0.58041832              \n",
      " 0.59164454 0.63860465 0.54320988 0.61052632 0.55160209 0.56499271\n",
      " 0.53923348 0.59430038 0.62905028 0.64695297 0.58960715 0.63374969\n",
      " 0.61605674 0.59273699]\n",
      "{'best_score': 0.5915945466759395, 'loss': 0.40840545332406053, 'params': {'bagging_freq': 3, 'feature_fraction': 0.7200000000000004, 'learning_rate': 0.07699999999999994, 'max_bin': 9, 'max_depth': 6, 'min_data_in_leaf': 269, 'neg_bagging_fraction': 0.3040000000000001, 'num_iterations': 131, 'num_leaves': 12, 'pos_bagging_fraction': 0.7650000000000006}, 'iteration': 45, 'best_cv': 16, 'train_time': 0.40623296797275543, 'status': 'ok'}\n",
      " 45%|████▌     | 45/100 [00:36<00:41,  1.33it/s, best loss: 0.40840545332406053]"
     ]
    },
    {
     "name": "stderr",
     "output_type": "stream",
     "text": [
      "[Parallel(n_jobs=-1)]: Done  20 out of  20 | elapsed:    0.4s finished\n",
      "\n",
      "[Parallel(n_jobs=-1)]: Using backend LokyBackend with 8 concurrent workers.\n",
      "\n"
     ]
    },
    {
     "name": "stdout",
     "output_type": "stream",
     "text": [
      "[0.63513514 0.57997936 0.55916008 0.56585249 0.59005891 0.56126482              \n",
      " 0.56141813 0.57944891 0.54181187 0.59694989 0.56978897 0.56324497\n",
      " 0.52840295 0.6047619  0.61457702 0.66685346 0.63569704 0.57856878\n",
      " 0.63672627 0.58265242]\n",
      "{'best_score': 0.5876176685785918, 'loss': 0.41238233142140823, 'params': {'bagging_freq': 2, 'feature_fraction': 0.7200000000000004, 'learning_rate': 0.07699999999999994, 'max_bin': 7, 'max_depth': 8, 'min_data_in_leaf': 444, 'neg_bagging_fraction': 0.35200000000000015, 'num_iterations': 247, 'num_leaves': 12, 'pos_bagging_fraction': 0.7650000000000006}, 'iteration': 46, 'best_cv': 16, 'train_time': 0.6782562881708145, 'status': 'ok'}\n",
      " 46%|████▌     | 46/100 [00:37<00:43,  1.25it/s, best loss: 0.40840545332406053]"
     ]
    },
    {
     "name": "stderr",
     "output_type": "stream",
     "text": [
      "[Parallel(n_jobs=-1)]: Done  20 out of  20 | elapsed:    0.7s finished\n",
      "\n",
      "[Parallel(n_jobs=-1)]: Using backend LokyBackend with 8 concurrent workers.\n",
      "\n"
     ]
    },
    {
     "name": "stdout",
     "output_type": "stream",
     "text": [
      "[0.65214751 0.58597348 0.58692185 0.55644223 0.55544923 0.55322004              \n",
      " 0.58138046 0.60413199 0.55199838 0.60197935 0.51294709 0.5620548\n",
      " 0.51807229 0.59642366 0.61869627 0.6390622  0.60767631 0.59198336\n",
      " 0.62712521 0.56741378]\n",
      "{'best_score': 0.5835549741825947, 'loss': 0.4164450258174053, 'params': {'bagging_freq': 2, 'feature_fraction': 0.5200000000000002, 'learning_rate': 0.09999999999999992, 'max_bin': 7, 'max_depth': 8, 'min_data_in_leaf': 298, 'neg_bagging_fraction': 0.3050000000000001, 'num_iterations': 131, 'num_leaves': 12, 'pos_bagging_fraction': 0.7650000000000006}, 'iteration': 47, 'best_cv': 1, 'train_time': 0.42134077101945877, 'status': 'ok'}\n",
      " 47%|████▋     | 47/100 [00:38<00:41,  1.27it/s, best loss: 0.40840545332406053]"
     ]
    },
    {
     "name": "stderr",
     "output_type": "stream",
     "text": [
      "[Parallel(n_jobs=-1)]: Done  20 out of  20 | elapsed:    0.4s finished\n",
      "\n",
      "[Parallel(n_jobs=-1)]: Using backend LokyBackend with 8 concurrent workers.\n",
      "\n"
     ]
    },
    {
     "name": "stdout",
     "output_type": "stream",
     "text": [
      "[0.6646981  0.59459459 0.57311223 0.52706767 0.51189215 0.5595608               \n",
      " 0.57098329 0.61205292 0.56184211 0.5877361  0.48286604 0.52621064\n",
      " 0.50906519 0.56560748 0.59269683 0.63149716 0.5777335  0.60342075\n",
      " 0.59690337 0.56365795]\n",
      "{'best_score': 0.5706599433673534, 'loss': 0.4293400566326466, 'params': {'bagging_freq': 2, 'feature_fraction': 0.7200000000000004, 'learning_rate': 0.04499999999999997, 'max_bin': 7, 'max_depth': 8, 'min_data_in_leaf': 181, 'neg_bagging_fraction': 0.25000000000000006, 'num_iterations': 145, 'num_leaves': 12, 'pos_bagging_fraction': 0.7650000000000006}, 'iteration': 48, 'best_cv': 1, 'train_time': 0.48121287673711777, 'status': 'ok'}\n",
      " 48%|████▊     | 48/100 [00:38<00:38,  1.36it/s, best loss: 0.40840545332406053]"
     ]
    },
    {
     "name": "stderr",
     "output_type": "stream",
     "text": [
      "[Parallel(n_jobs=-1)]: Done  20 out of  20 | elapsed:    0.5s finished\n",
      "\n",
      "[Parallel(n_jobs=-1)]: Using backend LokyBackend with 8 concurrent workers.\n",
      "\n"
     ]
    },
    {
     "name": "stdout",
     "output_type": "stream",
     "text": [
      "[0.43463497 0.43463497 0.43463497 0.43463497 0.43463497 0.43463497              \n",
      " 0.43463497 0.43463497 0.43463497 0.43463497 0.43441227 0.43441227\n",
      " 0.43441227 0.43441227 0.43441227 0.43441227 0.43441227 0.43537415\n",
      " 0.43537415 0.43537415]\n",
      "{'best_score': 0.4346679027308653, 'loss': 0.5653320972691347, 'params': {'bagging_freq': 2, 'feature_fraction': 0.7200000000000004, 'learning_rate': 0.024999999999999988, 'max_bin': 7, 'max_depth': 8, 'min_data_in_leaf': 498, 'neg_bagging_fraction': 0.45300000000000024, 'num_iterations': 265, 'num_leaves': 24, 'pos_bagging_fraction': 0.2720000000000001}, 'iteration': 49, 'best_cv': 18, 'train_time': 0.6440978497266769, 'status': 'ok'}\n",
      " 49%|████▉     | 49/100 [00:39<00:39,  1.28it/s, best loss: 0.40840545332406053]"
     ]
    },
    {
     "name": "stderr",
     "output_type": "stream",
     "text": [
      "[Parallel(n_jobs=-1)]: Done  20 out of  20 | elapsed:    0.6s finished\n",
      "\n",
      "[Parallel(n_jobs=-1)]: Using backend LokyBackend with 8 concurrent workers.\n",
      "\n"
     ]
    },
    {
     "name": "stdout",
     "output_type": "stream",
     "text": [
      "[0.47436007 0.49427964 0.47293447 0.4838703  0.47293447 0.44370197              \n",
      " 0.48542432 0.43367347 0.46870398 0.4459471  0.45737993 0.4434666\n",
      " 0.46429212 0.45611015 0.4334471  0.44571918 0.48677551 0.49573071\n",
      " 0.48210181 0.49741824]\n",
      "{'best_score': 0.4669135573256569, 'loss': 0.5330864426743431, 'params': {'bagging_freq': 2, 'feature_fraction': 0.2700000000000001, 'learning_rate': 0.07699999999999994, 'max_bin': 7, 'max_depth': 8, 'min_data_in_leaf': 377, 'neg_bagging_fraction': 0.35800000000000015, 'num_iterations': 230, 'num_leaves': 12, 'pos_bagging_fraction': 0.36100000000000015}, 'iteration': 50, 'best_cv': 20, 'train_time': 0.5314314886927605, 'status': 'ok'}\n",
      " 50%|█████     | 50/100 [00:40<00:38,  1.29it/s, best loss: 0.40840545332406053]"
     ]
    },
    {
     "name": "stderr",
     "output_type": "stream",
     "text": [
      "[Parallel(n_jobs=-1)]: Done  20 out of  20 | elapsed:    0.5s finished\n",
      "\n",
      "[Parallel(n_jobs=-1)]: Using backend LokyBackend with 8 concurrent workers.\n",
      "\n"
     ]
    },
    {
     "name": "stdout",
     "output_type": "stream",
     "text": [
      "[0.43463497 0.43463497 0.43463497 0.43463497 0.43463497 0.43463497              \n",
      " 0.43463497 0.43463497 0.44819466 0.43463497 0.43441227 0.43441227\n",
      " 0.43441227 0.43441227 0.43441227 0.43441227 0.4479741  0.43441227\n",
      " 0.43537415 0.44910286]\n",
      "{'best_score': 0.4366623197970495, 'loss': 0.5633376802029505, 'params': {'bagging_freq': 2, 'feature_fraction': 0.23000000000000004, 'learning_rate': 0.07699999999999994, 'max_bin': 7, 'max_depth': 8, 'min_data_in_leaf': 444, 'neg_bagging_fraction': 0.7150000000000005, 'num_iterations': 219, 'num_leaves': 12, 'pos_bagging_fraction': 0.3950000000000002}, 'iteration': 51, 'best_cv': 20, 'train_time': 0.6223580092191696, 'status': 'ok'}\n",
      " 51%|█████     | 51/100 [00:41<00:37,  1.30it/s, best loss: 0.40840545332406053]"
     ]
    },
    {
     "name": "stderr",
     "output_type": "stream",
     "text": [
      "[Parallel(n_jobs=-1)]: Done  20 out of  20 | elapsed:    0.6s finished\n",
      "\n",
      "[Parallel(n_jobs=-1)]: Using backend LokyBackend with 8 concurrent workers.\n",
      "\n"
     ]
    },
    {
     "name": "stdout",
     "output_type": "stream",
     "text": [
      "[0.59992933 0.54849812 0.51755391 0.52534418 0.5375     0.50579505              \n",
      " 0.54109541 0.51883128 0.53281549 0.58731856 0.50975275 0.53609688\n",
      " 0.53198701 0.5346036  0.52311233 0.59435023 0.55758614 0.54662936\n",
      " 0.56671136 0.52707384]\n",
      "{'best_score': 0.5421292424329494, 'loss': 0.45787075756705065, 'params': {'bagging_freq': 2, 'feature_fraction': 0.6300000000000003, 'learning_rate': 0.07199999999999994, 'max_bin': 6, 'max_depth': 7, 'min_data_in_leaf': 246, 'neg_bagging_fraction': 0.2880000000000001, 'num_iterations': 167, 'num_leaves': 37, 'pos_bagging_fraction': 0.4280000000000002}, 'iteration': 52, 'best_cv': 1, 'train_time': 0.45975038409233093, 'status': 'ok'}\n",
      " 52%|█████▏    | 52/100 [00:42<00:35,  1.33it/s, best loss: 0.40840545332406053]"
     ]
    },
    {
     "name": "stderr",
     "output_type": "stream",
     "text": [
      "[Parallel(n_jobs=-1)]: Done  20 out of  20 | elapsed:    0.5s finished\n",
      "\n",
      "[Parallel(n_jobs=-1)]: Using backend LokyBackend with 8 concurrent workers.\n",
      "\n"
     ]
    },
    {
     "name": "stdout",
     "output_type": "stream",
     "text": [
      "[0.50419868 0.48772224 0.49594993 0.44370197 0.48542432 0.46730789              \n",
      " 0.51742005 0.4459471  0.48934413 0.47151687 0.47903758 0.45484401\n",
      " 0.49872242 0.48910985 0.44121511 0.45484401 0.49573071 0.49405669\n",
      " 0.48056487 0.47129327]\n",
      "{'best_score': 0.47839758357537665, 'loss': 0.5216024164246233, 'params': {'bagging_freq': 2, 'feature_fraction': 0.7200000000000004, 'learning_rate': 0.07699999999999994, 'max_bin': 7, 'max_depth': 5, 'min_data_in_leaf': 250, 'neg_bagging_fraction': 0.5070000000000003, 'num_iterations': 106, 'num_leaves': 18, 'pos_bagging_fraction': 0.5270000000000004}, 'iteration': 53, 'best_cv': 7, 'train_time': 0.39544830471277237, 'status': 'ok'}\n",
      " 53%|█████▎    | 53/100 [00:42<00:32,  1.46it/s, best loss: 0.40840545332406053]"
     ]
    },
    {
     "name": "stderr",
     "output_type": "stream",
     "text": [
      "[Parallel(n_jobs=-1)]: Done  20 out of  20 | elapsed:    0.4s finished\n",
      "\n",
      "[Parallel(n_jobs=-1)]: Using backend LokyBackend with 8 concurrent workers.\n",
      "\n"
     ]
    },
    {
     "name": "stdout",
     "output_type": "stream",
     "text": [
      "[0.63746825 0.58827008 0.58511911 0.55474926 0.56922179 0.60662314              \n",
      " 0.58933184 0.61569252 0.55014204 0.60543516 0.53916818 0.5325728\n",
      " 0.52448191 0.58473007 0.59065944 0.64491979 0.5976282  0.5937315\n",
      " 0.60096154 0.55004671]\n",
      "{'best_score': 0.5830476658395038, 'loss': 0.41695233416049615, 'params': {'bagging_freq': 4, 'feature_fraction': 0.45000000000000023, 'learning_rate': 0.07799999999999994, 'max_bin': 8, 'max_depth': 8, 'min_data_in_leaf': 266, 'neg_bagging_fraction': 0.3040000000000001, 'num_iterations': 258, 'num_leaves': 35, 'pos_bagging_fraction': 0.6800000000000004}, 'iteration': 54, 'best_cv': 16, 'train_time': 0.676866427063942, 'status': 'ok'}\n",
      " 54%|█████▍    | 54/100 [00:43<00:34,  1.33it/s, best loss: 0.40840545332406053]"
     ]
    },
    {
     "name": "stderr",
     "output_type": "stream",
     "text": [
      "[Parallel(n_jobs=-1)]: Done  20 out of  20 | elapsed:    0.7s finished\n",
      "\n",
      "[Parallel(n_jobs=-1)]: Using backend LokyBackend with 8 concurrent workers.\n",
      "\n"
     ]
    },
    {
     "name": "stdout",
     "output_type": "stream",
     "text": [
      "[0.53959847 0.50419868 0.50243787 0.48079376 0.49262229 0.4659182               \n",
      " 0.48934413 0.48232695 0.47625039 0.49097731 0.5022096  0.49074683\n",
      " 0.48198582 0.51104566 0.48910985 0.47903758 0.51343429 0.45358123\n",
      " 0.45865362 0.49741824]\n",
      "{'best_score': 0.4900845386542735, 'loss': 0.5099154613457265, 'params': {'bagging_freq': 1, 'feature_fraction': 0.5900000000000003, 'learning_rate': 0.05999999999999996, 'max_bin': 3, 'max_depth': 3, 'min_data_in_leaf': 159, 'neg_bagging_fraction': 0.35200000000000015, 'num_iterations': 151, 'num_leaves': 19, 'pos_bagging_fraction': 0.44500000000000023}, 'iteration': 55, 'best_cv': 1, 'train_time': 0.5313477143645287, 'status': 'ok'}\n",
      " 55%|█████▌    | 55/100 [00:44<00:34,  1.31it/s, best loss: 0.40840545332406053]"
     ]
    },
    {
     "name": "stderr",
     "output_type": "stream",
     "text": [
      "[Parallel(n_jobs=-1)]: Done  20 out of  20 | elapsed:    0.5s finished\n",
      "\n",
      "[Parallel(n_jobs=-1)]: Using backend LokyBackend with 8 concurrent workers.\n",
      "\n"
     ]
    },
    {
     "name": "stdout",
     "output_type": "stream",
     "text": [
      "[0.43463497 0.44707049 0.43463497 0.44819466 0.43367347 0.43367347              \n",
      " 0.44819466 0.43463497 0.46015358 0.43367347 0.4334471  0.4334471\n",
      " 0.43441227 0.4479741  0.4334471  0.43441227 0.4479741  0.43441227\n",
      " 0.43537415 0.44910286]\n",
      "{'best_score': 0.43962710134720756, 'loss': 0.5603728986527925, 'params': {'bagging_freq': 2, 'feature_fraction': 0.5000000000000002, 'learning_rate': 0.06899999999999995, 'max_bin': 4, 'max_depth': 4, 'min_data_in_leaf': 116, 'neg_bagging_fraction': 0.7820000000000005, 'num_iterations': 194, 'num_leaves': 31, 'pos_bagging_fraction': 0.44600000000000023}, 'iteration': 56, 'best_cv': 9, 'train_time': 0.7636614739894867, 'status': 'ok'}\n",
      " 56%|█████▌    | 56/100 [00:45<00:36,  1.20it/s, best loss: 0.40840545332406053]"
     ]
    },
    {
     "name": "stderr",
     "output_type": "stream",
     "text": [
      "[Parallel(n_jobs=-1)]: Done  20 out of  20 | elapsed:    0.8s finished\n",
      "\n",
      "[Parallel(n_jobs=-1)]: Using backend LokyBackend with 8 concurrent workers.\n",
      "\n"
     ]
    },
    {
     "name": "stdout",
     "output_type": "stream",
     "text": [
      "[0.43463497 0.44819466 0.43463497 0.43463497 0.43463497 0.43463497              \n",
      " 0.44819466 0.43463497 0.44707049 0.43367347 0.43441227 0.44684626\n",
      " 0.43441227 0.4479741  0.4334471  0.43441227 0.4479741  0.4479741\n",
      " 0.43537415 0.44910286]\n",
      "{'best_score': 0.43984362943361954, 'loss': 0.5601563705663805, 'params': {'bagging_freq': 1, 'feature_fraction': 0.3300000000000001, 'learning_rate': 0.06099999999999996, 'max_bin': 7, 'max_depth': 8, 'min_data_in_leaf': 269, 'neg_bagging_fraction': 0.6370000000000005, 'num_iterations': 220, 'num_leaves': 22, 'pos_bagging_fraction': 0.3850000000000002}, 'iteration': 57, 'best_cv': 20, 'train_time': 0.6414870396256447, 'status': 'ok'}\n",
      " 57%|█████▋    | 57/100 [00:46<00:36,  1.18it/s, best loss: 0.40840545332406053]"
     ]
    },
    {
     "name": "stderr",
     "output_type": "stream",
     "text": [
      "[Parallel(n_jobs=-1)]: Done  20 out of  20 | elapsed:    0.6s finished\n",
      "\n",
      "[Parallel(n_jobs=-1)]: Using backend LokyBackend with 8 concurrent workers.\n",
      "\n"
     ]
    },
    {
     "name": "stdout",
     "output_type": "stream",
     "text": [
      "[0.43463497 0.43463497 0.43463497 0.43463497 0.43463497 0.43463497              \n",
      " 0.43463497 0.43463497 0.43463497 0.43463497 0.43441227 0.43441227\n",
      " 0.43441227 0.43441227 0.43441227 0.43441227 0.43441227 0.43537415\n",
      " 0.43537415 0.43537415]\n",
      "{'best_score': 0.4346679027308653, 'loss': 0.5653320972691347, 'params': {'bagging_freq': 4, 'feature_fraction': 0.2, 'learning_rate': 0.04899999999999997, 'max_bin': 6, 'max_depth': 9, 'min_data_in_leaf': 415, 'neg_bagging_fraction': 0.34000000000000014, 'num_iterations': 247, 'num_leaves': 29, 'pos_bagging_fraction': 0.24800000000000005}, 'iteration': 58, 'best_cv': 18, 'train_time': 0.4976676478981972, 'status': 'ok'}\n",
      " 58%|█████▊    | 58/100 [00:46<00:34,  1.22it/s, best loss: 0.40840545332406053]"
     ]
    },
    {
     "name": "stderr",
     "output_type": "stream",
     "text": [
      "[Parallel(n_jobs=-1)]: Done  20 out of  20 | elapsed:    0.5s finished\n",
      "\n",
      "[Parallel(n_jobs=-1)]: Using backend LokyBackend with 8 concurrent workers.\n",
      "\n"
     ]
    },
    {
     "name": "stdout",
     "output_type": "stream",
     "text": [
      "[0.61358948 0.55135135 0.56216216 0.55135135 0.55846191 0.56835603              \n",
      " 0.5363824  0.59609164 0.52177069 0.58244514 0.51755496 0.52344498\n",
      " 0.5333768  0.58115028 0.59262522 0.63715847 0.57271557 0.5612887\n",
      " 0.58457274 0.53609688]\n",
      "{'best_score': 0.5640973383205061, 'loss': 0.4359026616794939, 'params': {'bagging_freq': 2, 'feature_fraction': 0.6000000000000003, 'learning_rate': 0.06299999999999996, 'max_bin': 8, 'max_depth': 3, 'min_data_in_leaf': 112, 'neg_bagging_fraction': 0.37600000000000017, 'num_iterations': 294, 'num_leaves': 12, 'pos_bagging_fraction': 0.6260000000000003}, 'iteration': 59, 'best_cv': 16, 'train_time': 0.7593991458415985, 'status': 'ok'}\n",
      " 59%|█████▉    | 59/100 [00:47<00:34,  1.18it/s, best loss: 0.40840545332406053]"
     ]
    },
    {
     "name": "stderr",
     "output_type": "stream",
     "text": [
      "[Parallel(n_jobs=-1)]: Done  20 out of  20 | elapsed:    0.8s finished\n",
      "\n",
      "[Parallel(n_jobs=-1)]: Using backend LokyBackend with 8 concurrent workers.\n",
      "\n"
     ]
    },
    {
     "name": "stdout",
     "output_type": "stream",
     "text": [
      "[0.4614323  0.47151687 0.51139722 0.44819466 0.43367347 0.4459471               \n",
      " 0.47293447 0.43463497 0.47293447 0.45887939 0.44684626 0.43150685\n",
      " 0.45865362 0.43247863 0.4334471  0.44571918 0.46121389 0.4334471\n",
      " 0.43441227 0.46250109]\n",
      "{'best_score': 0.45258854633985823, 'loss': 0.5474114536601418, 'params': {'bagging_freq': 2, 'feature_fraction': 0.7900000000000005, 'learning_rate': 0.040999999999999974, 'max_bin': 5, 'max_depth': 8, 'min_data_in_leaf': 262, 'neg_bagging_fraction': 0.7010000000000005, 'num_iterations': 237, 'num_leaves': 27, 'pos_bagging_fraction': 0.5570000000000004}, 'iteration': 60, 'best_cv': 3, 'train_time': 0.9087560772895813, 'status': 'ok'}\n",
      " 60%|██████    | 60/100 [00:48<00:37,  1.07it/s, best loss: 0.40840545332406053]"
     ]
    },
    {
     "name": "stderr",
     "output_type": "stream",
     "text": [
      "[Parallel(n_jobs=-1)]: Done  20 out of  20 | elapsed:    0.9s finished\n",
      "\n",
      "[Parallel(n_jobs=-1)]: Using backend LokyBackend with 8 concurrent workers.\n",
      "\n"
     ]
    },
    {
     "name": "stdout",
     "output_type": "stream",
     "text": [
      "[0.56319444 0.49723841 0.52662941 0.49097731 0.49427964 0.46730789              \n",
      " 0.50597434 0.48079376 0.49553098 0.50069129 0.48748412 0.47450904\n",
      " 0.48036509 0.50250671 0.4760101  0.5022096  0.48426443 0.46707305\n",
      " 0.54150884 0.50397418]\n",
      "{'best_score': 0.4971261312103524, 'loss': 0.5028738687896477, 'params': {'bagging_freq': 1, 'feature_fraction': 0.3100000000000001, 'learning_rate': 0.035999999999999976, 'max_bin': 3, 'max_depth': 7, 'min_data_in_leaf': 257, 'neg_bagging_fraction': 0.2770000000000001, 'num_iterations': 229, 'num_leaves': 30, 'pos_bagging_fraction': 0.4310000000000002}, 'iteration': 61, 'best_cv': 1, 'train_time': 0.5909428969025612, 'status': 'ok'}\n",
      " 61%|██████    | 61/100 [00:49<00:34,  1.14it/s, best loss: 0.40840545332406053]"
     ]
    },
    {
     "name": "stderr",
     "output_type": "stream",
     "text": [
      "[Parallel(n_jobs=-1)]: Done  20 out of  20 | elapsed:    0.6s finished\n",
      "\n",
      "[Parallel(n_jobs=-1)]: Using backend LokyBackend with 8 concurrent workers.\n",
      "\n"
     ]
    },
    {
     "name": "stdout",
     "output_type": "stream",
     "text": [
      "[0.43463497 0.43463497 0.43463497 0.43463497 0.43463497 0.43463497              \n",
      " 0.43463497 0.43463497 0.43463497 0.43463497 0.43441227 0.43441227\n",
      " 0.43441227 0.43441227 0.43441227 0.43441227 0.43441227 0.43537415\n",
      " 0.43537415 0.43537415]\n",
      "{'best_score': 0.4346679027308653, 'loss': 0.5653320972691347, 'params': {'bagging_freq': 4, 'feature_fraction': 0.2800000000000001, 'learning_rate': 0.018999999999999993, 'max_bin': 7, 'max_depth': 5, 'min_data_in_leaf': 153, 'neg_bagging_fraction': 0.5000000000000002, 'num_iterations': 113, 'num_leaves': 14, 'pos_bagging_fraction': 0.3940000000000002}, 'iteration': 62, 'best_cv': 18, 'train_time': 0.38079652190208435, 'status': 'ok'}\n",
      " 62%|██████▏   | 62/100 [00:50<00:30,  1.26it/s, best loss: 0.40840545332406053]"
     ]
    },
    {
     "name": "stderr",
     "output_type": "stream",
     "text": [
      "[Parallel(n_jobs=-1)]: Done  20 out of  20 | elapsed:    0.4s finished\n",
      "\n",
      "[Parallel(n_jobs=-1)]: Using backend LokyBackend with 8 concurrent workers.\n",
      "\n"
     ]
    },
    {
     "name": "stdout",
     "output_type": "stream",
     "text": [
      "[0.43463497 0.45760942 0.44819466 0.44819466 0.43463497 0.44707049              \n",
      " 0.44707049 0.43367347 0.46015358 0.4459471  0.4334471  0.44571918\n",
      " 0.4479741  0.44571918 0.4334471  0.4479741  0.4479741  0.45993151\n",
      " 0.43537415 0.46121389]\n",
      "{'best_score': 0.4457979113369899, 'loss': 0.5542020886630101, 'params': {'bagging_freq': 2, 'feature_fraction': 0.6700000000000004, 'learning_rate': 0.06499999999999995, 'max_bin': 4, 'max_depth': 4, 'min_data_in_leaf': 113, 'neg_bagging_fraction': 0.38000000000000017, 'num_iterations': 206, 'num_leaves': 17, 'pos_bagging_fraction': 0.26700000000000007}, 'iteration': 63, 'best_cv': 20, 'train_time': 0.6527998000383377, 'status': 'ok'}\n",
      " 63%|██████▎   | 63/100 [00:51<00:31,  1.19it/s, best loss: 0.40840545332406053]"
     ]
    },
    {
     "name": "stderr",
     "output_type": "stream",
     "text": [
      "[Parallel(n_jobs=-1)]: Done  20 out of  20 | elapsed:    0.6s finished\n",
      "\n",
      "[Parallel(n_jobs=-1)]: Using backend LokyBackend with 8 concurrent workers.\n",
      "\n"
     ]
    },
    {
     "name": "stdout",
     "output_type": "stream",
     "text": [
      "[0.46015358 0.48232695 0.4614323  0.4459471  0.43367347 0.43270869              \n",
      " 0.48698955 0.43463497 0.49427964 0.4459471  0.45737993 0.44571918\n",
      " 0.45737993 0.4434666  0.4334471  0.4479741  0.47414384 0.45993151\n",
      " 0.45993151 0.47558152]\n",
      "{'best_score': 0.456652428507531, 'loss': 0.5433475714924689, 'params': {'bagging_freq': 2, 'feature_fraction': 0.46000000000000024, 'learning_rate': 0.06399999999999995, 'max_bin': 7, 'max_depth': 9, 'min_data_in_leaf': 291, 'neg_bagging_fraction': 0.35100000000000015, 'num_iterations': 139, 'num_leaves': 11, 'pos_bagging_fraction': 0.3280000000000001}, 'iteration': 64, 'best_cv': 9, 'train_time': 0.41384102404117584, 'status': 'ok'}\n",
      " 64%|██████▍   | 64/100 [00:51<00:27,  1.33it/s, best loss: 0.40840545332406053]"
     ]
    },
    {
     "name": "stderr",
     "output_type": "stream",
     "text": [
      "[Parallel(n_jobs=-1)]: Done  20 out of  20 | elapsed:    0.4s finished\n",
      "\n",
      "[Parallel(n_jobs=-1)]: Using backend LokyBackend with 8 concurrent workers.\n",
      "\n"
     ]
    },
    {
     "name": "stdout",
     "output_type": "stream",
     "text": [
      "[0.60215054 0.53692115 0.53999326 0.51948052 0.53790982 0.52932862              \n",
      " 0.57165207 0.56007509 0.54475977 0.55782993 0.52944626 0.49482654\n",
      " 0.5612887  0.52344498 0.53198701 0.62403411 0.58300188 0.56675824\n",
      " 0.5737826  0.53764325]\n",
      "{'best_score': 0.5513157171406835, 'loss': 0.4486842828593165, 'params': {'bagging_freq': 3, 'feature_fraction': 0.34000000000000014, 'learning_rate': 0.02699999999999999, 'max_bin': 5, 'max_depth': 8, 'min_data_in_leaf': 227, 'neg_bagging_fraction': 0.3870000000000002, 'num_iterations': 131, 'num_leaves': 25, 'pos_bagging_fraction': 0.7330000000000005}, 'iteration': 65, 'best_cv': 16, 'train_time': 0.4136856868863106, 'status': 'ok'}\n",
      " 65%|██████▌   | 65/100 [00:52<00:25,  1.38it/s, best loss: 0.40840545332406053]"
     ]
    },
    {
     "name": "stderr",
     "output_type": "stream",
     "text": [
      "[Parallel(n_jobs=-1)]: Done  20 out of  20 | elapsed:    0.4s finished\n",
      "\n",
      "[Parallel(n_jobs=-1)]: Using backend LokyBackend with 8 concurrent workers.\n",
      "\n"
     ]
    },
    {
     "name": "stdout",
     "output_type": "stream",
     "text": [
      "[0.52125139 0.50069129 0.51932638 0.47151687 0.47010684 0.45634338              \n",
      " 0.51742005 0.45887939 0.50069129 0.45634338 0.46429212 0.47450904\n",
      " 0.47950728 0.43896355 0.46847291 0.53938447 0.51720154 0.49239559\n",
      " 0.50754851 0.50397418]\n",
      "{'best_score': 0.48794097295233085, 'loss': 0.5120590270476691, 'params': {'bagging_freq': 3, 'feature_fraction': 0.5300000000000002, 'learning_rate': 0.030999999999999986, 'max_bin': 9, 'max_depth': 6, 'min_data_in_leaf': 264, 'neg_bagging_fraction': 0.22600000000000003, 'num_iterations': 247, 'num_leaves': 15, 'pos_bagging_fraction': 0.2920000000000001}, 'iteration': 66, 'best_cv': 16, 'train_time': 0.5379069522023201, 'status': 'ok'}\n",
      " 66%|██████▌   | 66/100 [00:53<00:25,  1.35it/s, best loss: 0.40840545332406053]"
     ]
    },
    {
     "name": "stderr",
     "output_type": "stream",
     "text": [
      "[Parallel(n_jobs=-1)]: Done  20 out of  20 | elapsed:    0.5s finished\n",
      "\n",
      "[Parallel(n_jobs=-1)]: Using backend LokyBackend with 8 concurrent workers.\n",
      "\n"
     ]
    },
    {
     "name": "stdout",
     "output_type": "stream",
     "text": [
      "[0.61451599 0.59174217 0.58787129 0.54001554 0.5177854  0.54947886              \n",
      " 0.57311223 0.60470085 0.55245637 0.5974001  0.51919153 0.53095479\n",
      " 0.52223967 0.59151134 0.62196356 0.62497869 0.57306977 0.5625466\n",
      " 0.54890814 0.56567242]\n",
      "{'best_score': 0.5695057655921211, 'loss': 0.43049423440787893, 'params': {'bagging_freq': 3, 'feature_fraction': 0.4300000000000002, 'learning_rate': 0.03199999999999998, 'max_bin': 9, 'max_depth': 6, 'min_data_in_leaf': 494, 'neg_bagging_fraction': 0.20500000000000002, 'num_iterations': 160, 'num_leaves': 38, 'pos_bagging_fraction': 0.6190000000000004}, 'iteration': 67, 'best_cv': 16, 'train_time': 0.34951628744602203, 'status': 'ok'}\n",
      " 67%|██████▋   | 67/100 [00:53<00:21,  1.50it/s, best loss: 0.40840545332406053]"
     ]
    },
    {
     "name": "stderr",
     "output_type": "stream",
     "text": [
      "[Parallel(n_jobs=-1)]: Done  20 out of  20 | elapsed:    0.3s finished\n",
      "\n",
      "[Parallel(n_jobs=-1)]: Using backend LokyBackend with 8 concurrent workers.\n",
      "\n"
     ]
    },
    {
     "name": "stdout",
     "output_type": "stream",
     "text": [
      "[0.43463497 0.44707049 0.44819466 0.43463497 0.43463497 0.43463497              \n",
      " 0.44819466 0.43463497 0.46015358 0.43463497 0.43441227 0.4334471\n",
      " 0.4334471  0.4334471  0.43441227 0.43441227 0.46121389 0.43441227\n",
      " 0.43537415 0.44910286]\n",
      "{'best_score': 0.43975522534277084, 'loss': 0.5602447746572292, 'params': {'bagging_freq': 3, 'feature_fraction': 0.7000000000000004, 'learning_rate': 0.03699999999999998, 'max_bin': 9, 'max_depth': 6, 'min_data_in_leaf': 219, 'neg_bagging_fraction': 0.7080000000000004, 'num_iterations': 197, 'num_leaves': 21, 'pos_bagging_fraction': 0.4230000000000002}, 'iteration': 68, 'best_cv': 17, 'train_time': 0.7296591177582741, 'status': 'ok'}\n",
      " 68%|██████▊   | 68/100 [00:54<00:24,  1.32it/s, best loss: 0.40840545332406053]"
     ]
    },
    {
     "name": "stderr",
     "output_type": "stream",
     "text": [
      "[Parallel(n_jobs=-1)]: Done  20 out of  20 | elapsed:    0.7s finished\n",
      "\n",
      "[Parallel(n_jobs=-1)]: Using backend LokyBackend with 8 concurrent workers.\n",
      "\n"
     ]
    },
    {
     "name": "stdout",
     "output_type": "stream",
     "text": [
      "[0.61886854 0.56017923 0.55794504 0.5420932  0.57200627 0.55339954              \n",
      " 0.54320988 0.56007509 0.5533023  0.56243261 0.52451372 0.50058683\n",
      " 0.52743271 0.52193627 0.53351517 0.60191847 0.54825204 0.54891304\n",
      " 0.58056868 0.55521531]\n",
      "{'best_score': 0.5533181971509753, 'loss': 0.4466818028490247, 'params': {'bagging_freq': 3, 'feature_fraction': 0.25000000000000006, 'learning_rate': 0.029999999999999985, 'max_bin': 9, 'max_depth': 6, 'min_data_in_leaf': 347, 'neg_bagging_fraction': 0.37400000000000017, 'num_iterations': 201, 'num_leaves': 33, 'pos_bagging_fraction': 0.6810000000000005}, 'iteration': 69, 'best_cv': 1, 'train_time': 0.5161917880177498, 'status': 'ok'}\n",
      " 69%|██████▉   | 69/100 [00:55<00:22,  1.38it/s, best loss: 0.40840545332406053]"
     ]
    },
    {
     "name": "stderr",
     "output_type": "stream",
     "text": [
      "[Parallel(n_jobs=-1)]: Done  20 out of  20 | elapsed:    0.5s finished\n",
      "\n",
      "[Parallel(n_jobs=-1)]: Using backend LokyBackend with 8 concurrent workers.\n",
      "\n"
     ]
    },
    {
     "name": "stdout",
     "output_type": "stream",
     "text": [
      "[0.43463497 0.43463497 0.43463497 0.43463497 0.43463497 0.43463497              \n",
      " 0.44819466 0.43463497 0.4614323  0.43463497 0.43441227 0.43441227\n",
      " 0.43441227 0.4334471  0.43441227 0.43441227 0.43441227 0.43441227\n",
      " 0.43537415 0.44910286]\n",
      "{'best_score': 0.4372758361456402, 'loss': 0.5627241638543599, 'params': {'bagging_freq': 3, 'feature_fraction': 0.48000000000000026, 'learning_rate': 0.054999999999999966, 'max_bin': 9, 'max_depth': 6, 'min_data_in_leaf': 370, 'neg_bagging_fraction': 0.6420000000000003, 'num_iterations': 180, 'num_leaves': 28, 'pos_bagging_fraction': 0.37000000000000016}, 'iteration': 70, 'best_cv': 9, 'train_time': 0.5662382692098618, 'status': 'ok'}\n",
      " 70%|███████   | 70/100 [00:56<00:22,  1.34it/s, best loss: 0.40840545332406053]"
     ]
    },
    {
     "name": "stderr",
     "output_type": "stream",
     "text": [
      "[Parallel(n_jobs=-1)]: Done  20 out of  20 | elapsed:    0.6s finished\n",
      "\n",
      "[Parallel(n_jobs=-1)]: Using backend LokyBackend with 8 concurrent workers.\n",
      "\n"
     ]
    },
    {
     "name": "stdout",
     "output_type": "stream",
     "text": [
      "[0.44707049 0.45634338 0.4614323  0.43270869 0.43367347 0.44707049              \n",
      " 0.44707049 0.43270869 0.45634338 0.44707049 0.43247863 0.44459268\n",
      " 0.44571918 0.43247863 0.45865362 0.44684626 0.45993151 0.44571918\n",
      " 0.46121389 0.46250109]\n",
      "{'best_score': 0.447581328094895, 'loss': 0.552418671905105, 'params': {'bagging_freq': 3, 'feature_fraction': 0.6500000000000004, 'learning_rate': 0.08099999999999993, 'max_bin': 9, 'max_depth': 6, 'min_data_in_leaf': 216, 'neg_bagging_fraction': 0.7170000000000005, 'num_iterations': 242, 'num_leaves': 39, 'pos_bagging_fraction': 0.4300000000000002}, 'iteration': 71, 'best_cv': 20, 'train_time': 0.953451432287693, 'status': 'ok'}\n",
      " 71%|███████   | 71/100 [00:57<00:25,  1.13it/s, best loss: 0.40840545332406053]"
     ]
    },
    {
     "name": "stderr",
     "output_type": "stream",
     "text": [
      "[Parallel(n_jobs=-1)]: Done  20 out of  20 | elapsed:    0.9s finished\n",
      "\n",
      "[Parallel(n_jobs=-1)]: Using backend LokyBackend with 8 concurrent workers.\n",
      "\n"
     ]
    },
    {
     "name": "stdout",
     "output_type": "stream",
     "text": [
      "[0.53267843 0.49895833 0.50996656 0.4659182  0.49262229 0.47475318              \n",
      " 0.50069129 0.49097731 0.52731127 0.47927025 0.48748412 0.48855634\n",
      " 0.51479049 0.458796   0.48056487 0.52907801 0.51157569 0.51343429\n",
      " 0.52442896 0.5022096 ]\n",
      "{'best_score': 0.49920327456682845, 'loss': 0.5007967254331716, 'params': {'bagging_freq': 3, 'feature_fraction': 0.7700000000000005, 'learning_rate': 0.09599999999999992, 'max_bin': 6, 'max_depth': 3, 'min_data_in_leaf': 114, 'neg_bagging_fraction': 0.3080000000000001, 'num_iterations': 233, 'num_leaves': 26, 'pos_bagging_fraction': 0.3220000000000001}, 'iteration': 72, 'best_cv': 1, 'train_time': 0.597966268658638, 'status': 'ok'}\n",
      " 72%|███████▏  | 72/100 [00:58<00:23,  1.19it/s, best loss: 0.40840545332406053]"
     ]
    },
    {
     "name": "stderr",
     "output_type": "stream",
     "text": [
      "[Parallel(n_jobs=-1)]: Done  20 out of  20 | elapsed:    0.6s finished\n",
      "\n",
      "[Parallel(n_jobs=-1)]: Using backend LokyBackend with 8 concurrent workers.\n",
      "\n"
     ]
    },
    {
     "name": "stdout",
     "output_type": "stream",
     "text": [
      "[0.43463497 0.43463497 0.43463497 0.43463497 0.43463497 0.43463497              \n",
      " 0.43463497 0.43463497 0.43463497 0.43463497 0.43441227 0.43441227\n",
      " 0.43441227 0.43441227 0.43441227 0.43441227 0.43441227 0.43537415\n",
      " 0.43537415 0.43537415]\n",
      "{'best_score': 0.4346679027308653, 'loss': 0.5653320972691347, 'params': {'bagging_freq': 3, 'feature_fraction': 0.35000000000000014, 'learning_rate': 0.012999999999999998, 'max_bin': 9, 'max_depth': 7, 'min_data_in_leaf': 236, 'neg_bagging_fraction': 0.46800000000000025, 'num_iterations': 195, 'num_leaves': 20, 'pos_bagging_fraction': 0.4320000000000002}, 'iteration': 73, 'best_cv': 18, 'train_time': 0.5856969580054283, 'status': 'ok'}\n",
      " 73%|███████▎  | 73/100 [00:58<00:22,  1.19it/s, best loss: 0.40840545332406053]"
     ]
    },
    {
     "name": "stderr",
     "output_type": "stream",
     "text": [
      "[Parallel(n_jobs=-1)]: Done  20 out of  20 | elapsed:    0.6s finished\n",
      "\n",
      "[Parallel(n_jobs=-1)]: Using backend LokyBackend with 8 concurrent workers.\n",
      "\n"
     ]
    },
    {
     "name": "stdout",
     "output_type": "stream",
     "text": [
      "[0.5986249  0.52142075 0.53692115 0.52534418 0.55286219 0.49047839              \n",
      " 0.5313452  0.50275601 0.52337512 0.56007509 0.51727869 0.5310986\n",
      " 0.49343912 0.52650212 0.50191892 0.58300188 0.55095692 0.50919449\n",
      " 0.58597418 0.52508803]\n",
      "{'best_score': 0.5333827971024184, 'loss': 0.4666172028975816, 'params': {'bagging_freq': 3, 'feature_fraction': 0.47000000000000025, 'learning_rate': 0.03799999999999998, 'max_bin': 3, 'max_depth': 6, 'min_data_in_leaf': 363, 'neg_bagging_fraction': 0.45700000000000024, 'num_iterations': 190, 'num_leaves': 32, 'pos_bagging_fraction': 0.7650000000000006}, 'iteration': 74, 'best_cv': 1, 'train_time': 0.564069502055645, 'status': 'ok'}\n",
      " 74%|███████▍  | 74/100 [00:59<00:21,  1.20it/s, best loss: 0.40840545332406053]"
     ]
    },
    {
     "name": "stderr",
     "output_type": "stream",
     "text": [
      "[Parallel(n_jobs=-1)]: Done  20 out of  20 | elapsed:    0.6s finished\n",
      "\n",
      "[Parallel(n_jobs=-1)]: Using backend LokyBackend with 8 concurrent workers.\n",
      "\n"
     ]
    },
    {
     "name": "stdout",
     "output_type": "stream",
     "text": [
      "[0.51553161 0.4659182  0.49427964 0.48542432 0.47293447 0.4838703               \n",
      " 0.51553161 0.4459471  0.47775594 0.4838703  0.4400894  0.46567957\n",
      " 0.49872242 0.4601626  0.45737993 0.46847291 0.49911994 0.48056487\n",
      " 0.48364888 0.46707305]\n",
      "{'best_score': 0.47809885379163675, 'loss': 0.5219011462083633, 'params': {'bagging_freq': 4, 'feature_fraction': 0.4000000000000002, 'learning_rate': 0.07899999999999993, 'max_bin': 8, 'max_depth': 5, 'min_data_in_leaf': 102, 'neg_bagging_fraction': 0.5050000000000003, 'num_iterations': 156, 'num_leaves': 36, 'pos_bagging_fraction': 0.44700000000000023}, 'iteration': 75, 'best_cv': 1, 'train_time': 0.5493258088827133, 'status': 'ok'}\n",
      " 75%|███████▌  | 75/100 [01:00<00:19,  1.27it/s, best loss: 0.40840545332406053]"
     ]
    },
    {
     "name": "stderr",
     "output_type": "stream",
     "text": [
      "[Parallel(n_jobs=-1)]: Done  20 out of  20 | elapsed:    0.5s finished\n",
      "\n",
      "[Parallel(n_jobs=-1)]: Using backend LokyBackend with 8 concurrent workers.\n",
      "\n"
     ]
    },
    {
     "name": "stdout",
     "output_type": "stream",
     "text": [
      "[0.49763376 0.46730789 0.47436007 0.47293447 0.4459471  0.4459471               \n",
      " 0.50776552 0.43270869 0.47927025 0.44482431 0.44684626 0.44121511\n",
      " 0.47301587 0.4434666  0.44684626 0.47414384 0.50935961 0.46847291\n",
      " 0.47129327 0.48677551]\n",
      "{'best_score': 0.4665067191503014, 'loss': 0.5334932808496986, 'params': {'bagging_freq': 1, 'feature_fraction': 0.8000000000000005, 'learning_rate': 0.09499999999999992, 'max_bin': 9, 'max_depth': 4, 'min_data_in_leaf': 412, 'neg_bagging_fraction': 0.2910000000000001, 'num_iterations': 110, 'num_leaves': 12, 'pos_bagging_fraction': 0.3240000000000001}, 'iteration': 76, 'best_cv': 17, 'train_time': 0.3269590884447098, 'status': 'ok'}\n",
      " 76%|███████▌  | 76/100 [01:00<00:17,  1.38it/s, best loss: 0.40840545332406053]"
     ]
    },
    {
     "name": "stderr",
     "output_type": "stream",
     "text": [
      "[Parallel(n_jobs=-1)]: Done  20 out of  20 | elapsed:    0.3s finished\n",
      "\n",
      "[Parallel(n_jobs=-1)]: Using backend LokyBackend with 8 concurrent workers.\n",
      "\n"
     ]
    },
    {
     "name": "stdout",
     "output_type": "stream",
     "text": [
      "[0.55632495 0.49723841 0.54597788 0.49895833 0.50419868 0.48451027              \n",
      " 0.49895833 0.47927025 0.49215147 0.53132917 0.51479049 0.45607593\n",
      " 0.5310986  0.49189996 0.47950728 0.55933744 0.52442896 0.48426443\n",
      " 0.51859594 0.51859594]\n",
      "{'best_score': 0.5083756348359076, 'loss': 0.49162436516409236, 'params': {'bagging_freq': 3, 'feature_fraction': 0.5100000000000002, 'learning_rate': 0.08199999999999993, 'max_bin': 7, 'max_depth': 9, 'min_data_in_leaf': 211, 'neg_bagging_fraction': 0.6920000000000004, 'num_iterations': 155, 'num_leaves': 23, 'pos_bagging_fraction': 0.7860000000000005}, 'iteration': 77, 'best_cv': 16, 'train_time': 0.6511380150914192, 'status': 'ok'}\n",
      " 77%|███████▋  | 77/100 [01:01<00:17,  1.34it/s, best loss: 0.40840545332406053]"
     ]
    },
    {
     "name": "stderr",
     "output_type": "stream",
     "text": [
      "[Parallel(n_jobs=-1)]: Done  20 out of  20 | elapsed:    0.6s finished\n",
      "\n",
      "[Parallel(n_jobs=-1)]: Using backend LokyBackend with 8 concurrent workers.\n",
      "\n"
     ]
    },
    {
     "name": "stdout",
     "output_type": "stream",
     "text": [
      "[0.43463497 0.44707049 0.43463497 0.43463497 0.43463497 0.43463497              \n",
      " 0.44819466 0.43463497 0.46015358 0.43463497 0.43441227 0.4334471\n",
      " 0.43441227 0.43441227 0.43441227 0.43441227 0.4479741  0.43441227\n",
      " 0.43537415 0.44910286]\n",
      "{'best_score': 0.4385117678658367, 'loss': 0.5614882321341633, 'params': {'bagging_freq': 3, 'feature_fraction': 0.6400000000000003, 'learning_rate': 0.09399999999999993, 'max_bin': 4, 'max_depth': 6, 'min_data_in_leaf': 333, 'neg_bagging_fraction': 0.7770000000000006, 'num_iterations': 264, 'num_leaves': 16, 'pos_bagging_fraction': 0.37500000000000017}, 'iteration': 78, 'best_cv': 9, 'train_time': 0.9001708552241325, 'status': 'ok'}\n",
      " 78%|███████▊  | 78/100 [01:02<00:18,  1.16it/s, best loss: 0.40840545332406053]"
     ]
    },
    {
     "name": "stderr",
     "output_type": "stream",
     "text": [
      "[Parallel(n_jobs=-1)]: Done  20 out of  20 | elapsed:    0.9s finished\n",
      "\n",
      "[Parallel(n_jobs=-1)]: Using backend LokyBackend with 8 concurrent workers.\n",
      "\n"
     ]
    },
    {
     "name": "stdout",
     "output_type": "stream",
     "text": [
      "[0.44819466 0.44707049 0.4614323  0.43463497 0.43367347 0.43463497              \n",
      " 0.44819466 0.43463497 0.44707049 0.43463497 0.43441227 0.4334471\n",
      " 0.43441227 0.4334471  0.43441227 0.43441227 0.4479741  0.43441227\n",
      " 0.43537415 0.44910286]\n",
      "{'best_score': 0.439779130387954, 'loss': 0.560220869612046, 'params': {'bagging_freq': 2, 'feature_fraction': 0.22000000000000003, 'learning_rate': 0.06599999999999995, 'max_bin': 5, 'max_depth': 8, 'min_data_in_leaf': 147, 'neg_bagging_fraction': 0.5720000000000003, 'num_iterations': 111, 'num_leaves': 24, 'pos_bagging_fraction': 0.48900000000000027}, 'iteration': 79, 'best_cv': 3, 'train_time': 0.4192221537232399, 'status': 'ok'}\n",
      " 79%|███████▉  | 79/100 [01:03<00:16,  1.25it/s, best loss: 0.40840545332406053]"
     ]
    },
    {
     "name": "stderr",
     "output_type": "stream",
     "text": [
      "[Parallel(n_jobs=-1)]: Done  20 out of  20 | elapsed:    0.4s finished\n",
      "\n",
      "[Parallel(n_jobs=-1)]: Using backend LokyBackend with 8 concurrent workers.\n",
      "\n"
     ]
    },
    {
     "name": "stdout",
     "output_type": "stream",
     "text": [
      "[0.43463497 0.43463497 0.43463497 0.43463497 0.43463497 0.43463497              \n",
      " 0.43463497 0.43463497 0.43463497 0.43463497 0.43441227 0.43441227\n",
      " 0.43441227 0.43441227 0.43441227 0.43441227 0.43441227 0.43537415\n",
      " 0.43537415 0.43537415]\n",
      "{'best_score': 0.4346679027308653, 'loss': 0.5653320972691347, 'params': {'bagging_freq': 3, 'feature_fraction': 0.21000000000000002, 'learning_rate': 0.013999999999999997, 'max_bin': 9, 'max_depth': 6, 'min_data_in_leaf': 426, 'neg_bagging_fraction': 0.2830000000000001, 'num_iterations': 141, 'num_leaves': 13, 'pos_bagging_fraction': 0.34500000000000014}, 'iteration': 80, 'best_cv': 18, 'train_time': 0.32608941197395325, 'status': 'ok'}\n",
      " 80%|████████  | 80/100 [01:04<00:13,  1.43it/s, best loss: 0.40840545332406053]"
     ]
    },
    {
     "name": "stderr",
     "output_type": "stream",
     "text": [
      "[Parallel(n_jobs=-1)]: Done  20 out of  20 | elapsed:    0.3s finished\n",
      "\n",
      "[Parallel(n_jobs=-1)]: Using backend LokyBackend with 8 concurrent workers.\n",
      "\n"
     ]
    },
    {
     "name": "stdout",
     "output_type": "stream",
     "text": [
      "[0.43463497 0.43463497 0.43463497 0.43463497 0.43463497 0.43463497              \n",
      " 0.43463497 0.43463497 0.44819466 0.43463497 0.43441227 0.43441227\n",
      " 0.43441227 0.43441227 0.43441227 0.43441227 0.43441227 0.43537415\n",
      " 0.43537415 0.43537415]\n",
      "{'best_score': 0.4353458871282288, 'loss': 0.5646541128717713, 'params': {'bagging_freq': 4, 'feature_fraction': 0.5500000000000003, 'learning_rate': 0.07499999999999994, 'max_bin': 6, 'max_depth': 8, 'min_data_in_leaf': 423, 'neg_bagging_fraction': 0.7950000000000006, 'num_iterations': 117, 'num_leaves': 10, 'pos_bagging_fraction': 0.5050000000000003}, 'iteration': 81, 'best_cv': 9, 'train_time': 0.49831150472164154, 'status': 'ok'}\n",
      " 81%|████████  | 81/100 [01:04<00:14,  1.35it/s, best loss: 0.40840545332406053]"
     ]
    },
    {
     "name": "stderr",
     "output_type": "stream",
     "text": [
      "[Parallel(n_jobs=-1)]: Done  20 out of  20 | elapsed:    0.5s finished\n",
      "\n",
      "[Parallel(n_jobs=-1)]: Using backend LokyBackend with 8 concurrent workers.\n",
      "\n"
     ]
    },
    {
     "name": "stdout",
     "output_type": "stream",
     "text": [
      "[0.51553161 0.48772224 0.49427964 0.45382201 0.4838703  0.46730789              \n",
      " 0.49763376 0.44482431 0.48934413 0.48079376 0.47903758 0.45232156\n",
      " 0.51720154 0.4760101  0.46847291 0.47751947 0.48364888 0.49074683\n",
      " 0.48056487 0.46987952]\n",
      "{'best_score': 0.4805266453415955, 'loss': 0.5194733546584045, 'params': {'bagging_freq': 1, 'feature_fraction': 0.7200000000000004, 'learning_rate': 0.047999999999999966, 'max_bin': 7, 'max_depth': 6, 'min_data_in_leaf': 281, 'neg_bagging_fraction': 0.5770000000000004, 'num_iterations': 254, 'num_leaves': 18, 'pos_bagging_fraction': 0.5840000000000003}, 'iteration': 82, 'best_cv': 13, 'train_time': 0.74978157132864, 'status': 'ok'}\n",
      " 82%|████████▏ | 82/100 [01:05<00:14,  1.22it/s, best loss: 0.40840545332406053]"
     ]
    },
    {
     "name": "stderr",
     "output_type": "stream",
     "text": [
      "[Parallel(n_jobs=-1)]: Done  20 out of  20 | elapsed:    0.7s finished\n",
      "\n",
      "[Parallel(n_jobs=-1)]: Using backend LokyBackend with 8 concurrent workers.\n",
      "\n"
     ]
    },
    {
     "name": "stdout",
     "output_type": "stream",
     "text": [
      "[0.49427964 0.48079376 0.47436007 0.45887939 0.4459471  0.4459471               \n",
      " 0.48542432 0.43367347 0.47010684 0.44482431 0.44121511 0.4434666\n",
      " 0.5057536  0.45484401 0.44684626 0.44684626 0.45865362 0.45865362\n",
      " 0.45993151 0.45993151]\n",
      "{'best_score': 0.4605189052055412, 'loss': 0.5394810947944588, 'params': {'bagging_freq': 3, 'feature_fraction': 0.2900000000000001, 'learning_rate': 0.05799999999999996, 'max_bin': 9, 'max_depth': 7, 'min_data_in_leaf': 272, 'neg_bagging_fraction': 0.7280000000000004, 'num_iterations': 157, 'num_leaves': 31, 'pos_bagging_fraction': 0.7040000000000004}, 'iteration': 83, 'best_cv': 13, 'train_time': 0.5563833713531494, 'status': 'ok'}\n",
      " 83%|████████▎ | 83/100 [01:06<00:13,  1.27it/s, best loss: 0.40840545332406053]"
     ]
    },
    {
     "name": "stderr",
     "output_type": "stream",
     "text": [
      "[Parallel(n_jobs=-1)]: Done  20 out of  20 | elapsed:    0.6s finished\n",
      "\n",
      "[Parallel(n_jobs=-1)]: Using backend LokyBackend with 8 concurrent workers.\n",
      "\n"
     ]
    },
    {
     "name": "stdout",
     "output_type": "stream",
     "text": [
      "[0.56647076 0.50814271 0.54320988 0.50814271 0.51553161 0.49723841              \n",
      " 0.51692456 0.47010684 0.51883128 0.51180556 0.49897271 0.46857993\n",
      " 0.51539666 0.50191892 0.46429212 0.53314077 0.49358793 0.50609193\n",
      " 0.57099422 0.50429265]\n",
      "{'best_score': 0.5106836078491199, 'loss': 0.4893163921508801, 'params': {'bagging_freq': 2, 'feature_fraction': 0.24000000000000005, 'learning_rate': 0.09199999999999993, 'max_bin': 8, 'max_depth': 3, 'min_data_in_leaf': 444, 'neg_bagging_fraction': 0.33400000000000013, 'num_iterations': 262, 'num_leaves': 37, 'pos_bagging_fraction': 0.4380000000000002}, 'iteration': 84, 'best_cv': 19, 'train_time': 0.5734762400388718, 'status': 'ok'}\n",
      " 84%|████████▍ | 84/100 [01:07<00:12,  1.26it/s, best loss: 0.40840545332406053]"
     ]
    },
    {
     "name": "stderr",
     "output_type": "stream",
     "text": [
      "[Parallel(n_jobs=-1)]: Done  20 out of  20 | elapsed:    0.6s finished\n",
      "\n",
      "[Parallel(n_jobs=-1)]: Using backend LokyBackend with 8 concurrent workers.\n",
      "\n"
     ]
    },
    {
     "name": "stdout",
     "output_type": "stream",
     "text": [
      "[0.59320207 0.50944955 0.52731127 0.49723841 0.53337884 0.46041667              \n",
      " 0.50633339 0.49097731 0.51948052 0.51503364 0.49548583 0.53313622\n",
      " 0.48961071 0.5135022  0.50553191 0.5737826  0.52707384 0.50609193\n",
      " 0.57099422 0.51859594]\n",
      "{'best_score': 0.5193313550637662, 'loss': 0.48066864493623385, 'params': {'bagging_freq': 3, 'feature_fraction': 0.5400000000000003, 'learning_rate': 0.04399999999999998, 'max_bin': 3, 'max_depth': 5, 'min_data_in_leaf': 241, 'neg_bagging_fraction': 0.2890000000000001, 'num_iterations': 176, 'num_leaves': 12, 'pos_bagging_fraction': 0.45100000000000023}, 'iteration': 85, 'best_cv': 1, 'train_time': 0.48003318905830383, 'status': 'ok'}\n",
      " 85%|████████▌ | 85/100 [01:08<00:11,  1.35it/s, best loss: 0.40840545332406053]"
     ]
    },
    {
     "name": "stderr",
     "output_type": "stream",
     "text": [
      "[Parallel(n_jobs=-1)]: Done  20 out of  20 | elapsed:    0.5s finished\n",
      "\n",
      "[Parallel(n_jobs=-1)]: Using backend LokyBackend with 8 concurrent workers.\n",
      "\n"
     ]
    },
    {
     "name": "stdout",
     "output_type": "stream",
     "text": [
      "[0.61569252 0.580878   0.56174492 0.55933866 0.59139925 0.57307692              \n",
      " 0.5549291  0.59288401 0.53165901 0.58888889 0.5401732  0.52375571\n",
      " 0.53252605 0.5768962  0.6098155  0.64301075 0.58351254 0.57450444\n",
      " 0.62102187 0.552619  ]\n",
      "{'best_score': 0.5754163272404211, 'loss': 0.42458367275957887, 'params': {'bagging_freq': 2, 'feature_fraction': 0.7800000000000005, 'learning_rate': 0.052999999999999964, 'max_bin': 9, 'max_depth': 9, 'min_data_in_leaf': 404, 'neg_bagging_fraction': 0.35600000000000015, 'num_iterations': 128, 'num_leaves': 19, 'pos_bagging_fraction': 0.6820000000000004}, 'iteration': 86, 'best_cv': 16, 'train_time': 0.3839559555053711, 'status': 'ok'}\n",
      " 86%|████████▌ | 86/100 [01:08<00:09,  1.42it/s, best loss: 0.40840545332406053]"
     ]
    },
    {
     "name": "stderr",
     "output_type": "stream",
     "text": [
      "[Parallel(n_jobs=-1)]: Done  20 out of  20 | elapsed:    0.4s finished\n",
      "\n",
      "[Parallel(n_jobs=-1)]: Using backend LokyBackend with 8 concurrent workers.\n",
      "\n"
     ]
    },
    {
     "name": "stdout",
     "output_type": "stream",
     "text": [
      "[0.43463497 0.43463497 0.43463497 0.43463497 0.43463497 0.43463497              \n",
      " 0.43463497 0.43463497 0.43463497 0.43463497 0.43441227 0.43441227\n",
      " 0.43441227 0.43441227 0.43441227 0.43441227 0.43441227 0.43537415\n",
      " 0.43537415 0.43537415]\n",
      "{'best_score': 0.4346679027308653, 'loss': 0.5653320972691347, 'params': {'bagging_freq': 3, 'feature_fraction': 0.6100000000000003, 'learning_rate': 0.01999999999999999, 'max_bin': 4, 'max_depth': 4, 'min_data_in_leaf': 421, 'neg_bagging_fraction': 0.3950000000000002, 'num_iterations': 178, 'num_leaves': 35, 'pos_bagging_fraction': 0.4240000000000002}, 'iteration': 87, 'best_cv': 18, 'train_time': 0.45206672698259354, 'status': 'ok'}\n",
      " 87%|████████▋ | 87/100 [01:09<00:09,  1.43it/s, best loss: 0.40840545332406053]"
     ]
    },
    {
     "name": "stderr",
     "output_type": "stream",
     "text": [
      "[Parallel(n_jobs=-1)]: Done  20 out of  20 | elapsed:    0.4s finished\n",
      "\n",
      "[Parallel(n_jobs=-1)]: Using backend LokyBackend with 8 concurrent workers.\n",
      "\n"
     ]
    },
    {
     "name": "stdout",
     "output_type": "stream",
     "text": [
      "[0.61950373 0.59782609 0.56573252 0.56537283 0.6020641  0.56126482              \n",
      " 0.55592441 0.62870661 0.54011299 0.59646997 0.56539661 0.54475824\n",
      " 0.51228632 0.58897504 0.61368805 0.66431668 0.57464349 0.59448613\n",
      " 0.59827139 0.5859952 ]\n",
      "{'best_score': 0.5837897617428235, 'loss': 0.4162102382571765, 'params': {'bagging_freq': 4, 'feature_fraction': 0.5300000000000002, 'learning_rate': 0.08899999999999993, 'max_bin': 7, 'max_depth': 8, 'min_data_in_leaf': 449, 'neg_bagging_fraction': 0.35200000000000015, 'num_iterations': 212, 'num_leaves': 15, 'pos_bagging_fraction': 0.7170000000000005}, 'iteration': 88, 'best_cv': 16, 'train_time': 0.534601017832756, 'status': 'ok'}\n",
      " 88%|████████▊ | 88/100 [01:09<00:08,  1.45it/s, best loss: 0.40840545332406053]"
     ]
    },
    {
     "name": "stderr",
     "output_type": "stream",
     "text": [
      "[Parallel(n_jobs=-1)]: Done  20 out of  20 | elapsed:    0.5s finished\n",
      "\n",
      "[Parallel(n_jobs=-1)]: Using backend LokyBackend with 8 concurrent workers.\n",
      "\n"
     ]
    },
    {
     "name": "stdout",
     "output_type": "stream",
     "text": [
      "[0.6249232  0.60418605 0.57471264 0.56750466 0.57931943 0.58534859              \n",
      " 0.59169884 0.59131882 0.5585506  0.59082531 0.56978897 0.5370561\n",
      " 0.54780016 0.57535114 0.60619826 0.65551232 0.61110262 0.61053554\n",
      " 0.60831537 0.5749794 ]\n",
      "{'best_score': 0.5882514022696443, 'loss': 0.41174859773035566, 'params': {'bagging_freq': 1, 'feature_fraction': 0.6800000000000004, 'learning_rate': 0.08699999999999992, 'max_bin': 5, 'max_depth': 6, 'min_data_in_leaf': 269, 'neg_bagging_fraction': 0.3040000000000001, 'num_iterations': 116, 'num_leaves': 30, 'pos_bagging_fraction': 0.6970000000000005}, 'iteration': 89, 'best_cv': 16, 'train_time': 0.40743768215179443, 'status': 'ok'}\n",
      " 89%|████████▉ | 89/100 [01:10<00:07,  1.48it/s, best loss: 0.40840545332406053]"
     ]
    },
    {
     "name": "stderr",
     "output_type": "stream",
     "text": [
      "[Parallel(n_jobs=-1)]: Done  20 out of  20 | elapsed:    0.4s finished\n",
      "\n",
      "[Parallel(n_jobs=-1)]: Using backend LokyBackend with 8 concurrent workers.\n",
      "\n"
     ]
    },
    {
     "name": "stdout",
     "output_type": "stream",
     "text": [
      "[0.52862535 0.50069129 0.50776552 0.44482431 0.47151687 0.44257993              \n",
      " 0.5095729  0.47010684 0.49723841 0.4459471  0.46153395 0.45106476\n",
      " 0.50429265 0.46291035 0.45484401 0.46847291 0.5022096  0.53728223\n",
      " 0.53246962 0.47903758]\n",
      "{'best_score': 0.48364930923040034, 'loss': 0.5163506907695996, 'params': {'bagging_freq': 1, 'feature_fraction': 0.6800000000000004, 'learning_rate': 0.02099999999999999, 'max_bin': 5, 'max_depth': 6, 'min_data_in_leaf': 157, 'neg_bagging_fraction': 0.3040000000000001, 'num_iterations': 232, 'num_leaves': 30, 'pos_bagging_fraction': 0.37200000000000016}, 'iteration': 90, 'best_cv': 18, 'train_time': 0.7541009113192558, 'status': 'ok'}\n",
      " 90%|█████████ | 90/100 [01:11<00:08,  1.23it/s, best loss: 0.40840545332406053]"
     ]
    },
    {
     "name": "stderr",
     "output_type": "stream",
     "text": [
      "[Parallel(n_jobs=-1)]: Done  20 out of  20 | elapsed:    0.7s finished\n",
      "\n",
      "[Parallel(n_jobs=-1)]: Using backend LokyBackend with 8 concurrent workers.\n",
      "\n"
     ]
    },
    {
     "name": "stdout",
     "output_type": "stream",
     "text": [
      "[0.52862535 0.48934413 0.5226947  0.45382201 0.46730789 0.44145803              \n",
      " 0.53064142 0.48232695 0.50453802 0.50776552 0.4601626  0.43896355\n",
      " 0.4826695  0.458796   0.48056487 0.52640938 0.49074683 0.5022096\n",
      " 0.51530934 0.48910985]\n",
      "{'best_score': 0.48867327627756685, 'loss': 0.5113267237224332, 'params': {'bagging_freq': 1, 'feature_fraction': 0.5800000000000003, 'learning_rate': 0.08699999999999992, 'max_bin': 5, 'max_depth': 8, 'min_data_in_leaf': 242, 'neg_bagging_fraction': 0.3040000000000001, 'num_iterations': 122, 'num_leaves': 22, 'pos_bagging_fraction': 0.35800000000000015}, 'iteration': 91, 'best_cv': 7, 'train_time': 0.4054097458720207, 'status': 'ok'}\n",
      " 91%|█████████ | 91/100 [01:12<00:06,  1.36it/s, best loss: 0.40840545332406053]"
     ]
    },
    {
     "name": "stderr",
     "output_type": "stream",
     "text": [
      "[Parallel(n_jobs=-1)]: Done  20 out of  20 | elapsed:    0.4s finished\n",
      "\n",
      "[Parallel(n_jobs=-1)]: Using backend LokyBackend with 8 concurrent workers.\n",
      "\n"
     ]
    },
    {
     "name": "stdout",
     "output_type": "stream",
     "text": [
      "[0.54597788 0.49723841 0.51315789 0.49553098 0.48772224 0.47326389              \n",
      " 0.5375     0.48772224 0.50996656 0.52931111 0.49897271 0.48689976\n",
      " 0.50735675 0.51922767 0.51479049 0.56392563 0.51668533 0.51859594\n",
      " 0.52640938 0.51668533]\n",
      "{'best_score': 0.5123470099778744, 'loss': 0.4876529900221256, 'params': {'bagging_freq': 1, 'feature_fraction': 0.6800000000000004, 'learning_rate': 0.08799999999999993, 'max_bin': 5, 'max_depth': 6, 'min_data_in_leaf': 141, 'neg_bagging_fraction': 0.6850000000000005, 'num_iterations': 116, 'num_leaves': 30, 'pos_bagging_fraction': 0.7920000000000005}, 'iteration': 92, 'best_cv': 16, 'train_time': 0.4671691060066223, 'status': 'ok'}\n",
      " 92%|█████████▏| 92/100 [01:13<00:05,  1.38it/s, best loss: 0.40840545332406053]"
     ]
    },
    {
     "name": "stderr",
     "output_type": "stream",
     "text": [
      "[Parallel(n_jobs=-1)]: Done  20 out of  20 | elapsed:    0.5s finished\n",
      "\n",
      "[Parallel(n_jobs=-1)]: Using backend LokyBackend with 8 concurrent workers.\n",
      "\n"
     ]
    },
    {
     "name": "stdout",
     "output_type": "stream",
     "text": [
      "[0.6478971  0.55121294 0.53175278 0.53584229 0.55992135 0.50219024              \n",
      " 0.56007509 0.55286219 0.5363824  0.57065498 0.53622649 0.51950667\n",
      " 0.53807997 0.52592041 0.55683864 0.63207684 0.55768718 0.5680902\n",
      " 0.60774532 0.55521531]\n",
      "{'best_score': 0.5573089197923691, 'loss': 0.4426910802076309, 'params': {'bagging_freq': 1, 'feature_fraction': 0.7500000000000004, 'learning_rate': 0.03299999999999998, 'max_bin': 5, 'max_depth': 3, 'min_data_in_leaf': 172, 'neg_bagging_fraction': 0.3120000000000001, 'num_iterations': 196, 'num_leaves': 30, 'pos_bagging_fraction': 0.5390000000000004}, 'iteration': 93, 'best_cv': 1, 'train_time': 0.5996470376849174, 'status': 'ok'}\n",
      " 93%|█████████▎| 93/100 [01:13<00:05,  1.37it/s, best loss: 0.40840545332406053]"
     ]
    },
    {
     "name": "stderr",
     "output_type": "stream",
     "text": [
      "[Parallel(n_jobs=-1)]: Done  20 out of  20 | elapsed:    0.6s finished\n",
      "\n",
      "[Parallel(n_jobs=-1)]: Using backend LokyBackend with 8 concurrent workers.\n",
      "\n"
     ]
    },
    {
     "name": "stdout",
     "output_type": "stream",
     "text": [
      "[0.5375     0.48772224 0.51180556 0.47151687 0.4838703  0.4659182               \n",
      " 0.51366035 0.45760942 0.51553161 0.49097731 0.47450904 0.44981061\n",
      " 0.50429265 0.50073357 0.49074683 0.52442896 0.49405669 0.5022096\n",
      " 0.49573071 0.48056487]\n",
      "{'best_score': 0.49265976850890086, 'loss': 0.5073402314910991, 'params': {'bagging_freq': 1, 'feature_fraction': 0.4400000000000002, 'learning_rate': 0.05199999999999997, 'max_bin': 5, 'max_depth': 7, 'min_data_in_leaf': 136, 'neg_bagging_fraction': 0.6260000000000003, 'num_iterations': 184, 'num_leaves': 29, 'pos_bagging_fraction': 0.6630000000000005}, 'iteration': 94, 'best_cv': 1, 'train_time': 0.6680662110447884, 'status': 'ok'}\n",
      " 94%|█████████▍| 94/100 [01:14<00:04,  1.28it/s, best loss: 0.40840545332406053]"
     ]
    },
    {
     "name": "stderr",
     "output_type": "stream",
     "text": [
      "[Parallel(n_jobs=-1)]: Done  20 out of  20 | elapsed:    0.7s finished\n",
      "\n",
      "[Parallel(n_jobs=-1)]: Using backend LokyBackend with 8 concurrent workers.\n",
      "\n"
     ]
    },
    {
     "name": "stdout",
     "output_type": "stream",
     "text": [
      "[0.43463497 0.43463497 0.43463497 0.43463497 0.43463497 0.43463497              \n",
      " 0.43463497 0.43463497 0.43463497 0.43463497 0.43441227 0.43441227\n",
      " 0.43441227 0.43441227 0.43441227 0.43441227 0.43441227 0.43537415\n",
      " 0.43537415 0.43537415]\n",
      "{'best_score': 0.4346679027308653, 'loss': 0.5653320972691347, 'params': {'bagging_freq': 1, 'feature_fraction': 0.36000000000000015, 'learning_rate': 0.02599999999999999, 'max_bin': 5, 'max_depth': 5, 'min_data_in_leaf': 441, 'neg_bagging_fraction': 0.7130000000000005, 'num_iterations': 158, 'num_leaves': 27, 'pos_bagging_fraction': 0.3860000000000002}, 'iteration': 95, 'best_cv': 18, 'train_time': 0.45845208317041397, 'status': 'ok'}\n",
      " 95%|█████████▌| 95/100 [01:15<00:03,  1.32it/s, best loss: 0.40840545332406053]"
     ]
    },
    {
     "name": "stderr",
     "output_type": "stream",
     "text": [
      "[Parallel(n_jobs=-1)]: Done  20 out of  20 | elapsed:    0.5s finished\n",
      "\n",
      "[Parallel(n_jobs=-1)]: Using backend LokyBackend with 8 concurrent workers.\n",
      "\n"
     ]
    },
    {
     "name": "stdout",
     "output_type": "stream",
     "text": [
      "[0.4614323  0.47010684 0.51139722 0.44819466 0.43367347 0.44707049              \n",
      " 0.47293447 0.43463497 0.47151687 0.4459471  0.44684626 0.43247863\n",
      " 0.45737993 0.4334471  0.4334471  0.44684626 0.46121389 0.44684626\n",
      " 0.43537415 0.46121389]\n",
      "{'best_score': 0.452600094421941, 'loss': 0.547399905578059, 'params': {'bagging_freq': 1, 'feature_fraction': 0.38000000000000017, 'learning_rate': 0.053999999999999965, 'max_bin': 5, 'max_depth': 8, 'min_data_in_leaf': 323, 'neg_bagging_fraction': 0.6950000000000005, 'num_iterations': 236, 'num_leaves': 25, 'pos_bagging_fraction': 0.5630000000000004}, 'iteration': 96, 'best_cv': 3, 'train_time': 0.6961918696761131, 'status': 'ok'}\n",
      " 96%|█████████▌| 96/100 [01:16<00:03,  1.29it/s, best loss: 0.40840545332406053]"
     ]
    },
    {
     "name": "stderr",
     "output_type": "stream",
     "text": [
      "[Parallel(n_jobs=-1)]: Done  20 out of  20 | elapsed:    0.7s finished\n",
      "\n",
      "[Parallel(n_jobs=-1)]: Using backend LokyBackend with 8 concurrent workers.\n",
      "\n"
     ]
    },
    {
     "name": "stdout",
     "output_type": "stream",
     "text": [
      "[0.52465278 0.49723841 0.52862535 0.48934413 0.50597434 0.48611111              \n",
      " 0.51932638 0.46870398 0.50633339 0.51553161 0.48910985 0.46567957\n",
      " 0.50073357 0.48586914 0.46567957 0.47751947 0.51720154 0.50045921\n",
      " 0.50397418 0.49239559]\n",
      "{'best_score': 0.49702315908633166, 'loss': 0.5029768409136683, 'params': {'bagging_freq': 1, 'feature_fraction': 0.5600000000000003, 'learning_rate': 0.04599999999999997, 'max_bin': 7, 'max_depth': 4, 'min_data_in_leaf': 325, 'neg_bagging_fraction': 0.5820000000000003, 'num_iterations': 282, 'num_leaves': 12, 'pos_bagging_fraction': 0.6540000000000004}, 'iteration': 97, 'best_cv': 3, 'train_time': 0.7900182604789734, 'status': 'ok'}\n",
      " 97%|█████████▋| 97/100 [01:17<00:02,  1.17it/s, best loss: 0.40840545332406053]"
     ]
    },
    {
     "name": "stderr",
     "output_type": "stream",
     "text": [
      "[Parallel(n_jobs=-1)]: Done  20 out of  20 | elapsed:    0.8s finished\n",
      "\n",
      "[Parallel(n_jobs=-1)]: Using backend LokyBackend with 8 concurrent workers.\n",
      "\n"
     ]
    },
    {
     "name": "stdout",
     "output_type": "stream",
     "text": [
      "[0.43463497 0.43367347 0.4614323  0.44819466 0.43463497 0.43463497              \n",
      " 0.44707049 0.43463497 0.4614323  0.43270869 0.43441227 0.4334471\n",
      " 0.47414384 0.44684626 0.43441227 0.43441227 0.46121389 0.43441227\n",
      " 0.43441227 0.4479741 ]\n",
      "{'best_score': 0.44293691616186265, 'loss': 0.5570630838381374, 'params': {'bagging_freq': 2, 'feature_fraction': 0.7200000000000004, 'learning_rate': 0.07099999999999995, 'max_bin': 6, 'max_depth': 6, 'min_data_in_leaf': 259, 'neg_bagging_fraction': 0.4080000000000002, 'num_iterations': 279, 'num_leaves': 14, 'pos_bagging_fraction': 0.25500000000000006}, 'iteration': 98, 'best_cv': 13, 'train_time': 0.7702125236392021, 'status': 'ok'}\n",
      " 98%|█████████▊| 98/100 [01:18<00:01,  1.15it/s, best loss: 0.40840545332406053]"
     ]
    },
    {
     "name": "stderr",
     "output_type": "stream",
     "text": [
      "[Parallel(n_jobs=-1)]: Done  20 out of  20 | elapsed:    0.8s finished\n",
      "\n",
      "[Parallel(n_jobs=-1)]: Using backend LokyBackend with 8 concurrent workers.\n",
      "\n"
     ]
    },
    {
     "name": "stdout",
     "output_type": "stream",
     "text": [
      "[0.43463497 0.43463497 0.43463497 0.44819466 0.43463497 0.43463497              \n",
      " 0.44819466 0.43463497 0.46015358 0.43367347 0.43441227 0.4334471\n",
      " 0.43441227 0.43441227 0.4334471  0.43441227 0.46121389 0.43441227\n",
      " 0.43537415 0.46121389]\n",
      "{'best_score': 0.4397391842377359, 'loss': 0.5602608157622642, 'params': {'bagging_freq': 1, 'feature_fraction': 0.26000000000000006, 'learning_rate': 0.07699999999999994, 'max_bin': 8, 'max_depth': 9, 'min_data_in_leaf': 321, 'neg_bagging_fraction': 0.7550000000000006, 'num_iterations': 135, 'num_leaves': 17, 'pos_bagging_fraction': 0.5230000000000004}, 'iteration': 99, 'best_cv': 17, 'train_time': 0.4214158281683922, 'status': 'ok'}\n",
      " 99%|█████████▉| 99/100 [01:18<00:00,  1.24it/s, best loss: 0.40840545332406053]"
     ]
    },
    {
     "name": "stderr",
     "output_type": "stream",
     "text": [
      "[Parallel(n_jobs=-1)]: Done  20 out of  20 | elapsed:    0.4s finished\n",
      "\n",
      "[Parallel(n_jobs=-1)]: Using backend LokyBackend with 8 concurrent workers.\n",
      "\n"
     ]
    },
    {
     "name": "stdout",
     "output_type": "stream",
     "text": [
      "[0.50597434 0.45887939 0.5095729  0.47010684 0.43270869 0.46730789              \n",
      " 0.49763376 0.45760942 0.47775594 0.48542432 0.45993151 0.46847291\n",
      " 0.46987952 0.47450904 0.48056487 0.49405669 0.48210181 0.45611015\n",
      " 0.45993151 0.48835616]\n",
      "{'best_score': 0.4748443827642418, 'loss': 0.5251556172357582, 'params': {'bagging_freq': 2, 'feature_fraction': 0.5700000000000003, 'learning_rate': 0.07999999999999993, 'max_bin': 3, 'max_depth': 6, 'min_data_in_leaf': 144, 'neg_bagging_fraction': 0.6220000000000003, 'num_iterations': 207, 'num_leaves': 11, 'pos_bagging_fraction': 0.5640000000000003}, 'iteration': 100, 'best_cv': 3, 'train_time': 0.7252855896949768, 'status': 'ok'}\n",
      "100%|██████████| 100/100 [01:19<00:00,  1.25it/s, best loss: 0.40840545332406053]\n"
     ]
    },
    {
     "name": "stderr",
     "output_type": "stream",
     "text": [
      "[Parallel(n_jobs=-1)]: Done  20 out of  20 | elapsed:    0.7s finished\n",
      "\n"
     ]
    },
    {
     "data": {
      "text/plain": [
       "<matplotlib.axes._subplots.AxesSubplot at 0x7fa1a3f89278>"
      ]
     },
     "execution_count": 119,
     "metadata": {},
     "output_type": "execute_result"
    },
    {
     "data": {
      "image/png": "[encoded data removed]",
      "text/plain": [
       "<Figure size 720x360 with 1 Axes>"
      ]
     },
     "metadata": {
      "needs_background": "light"
     },
     "output_type": "display_data"
    }
   ],
   "source": [
    "#### Driver \n",
    "\n",
    "global mean_score_list\n",
    "mean_score_list=[]\n",
    "global max_score_list\n",
    "max_score_list=[]\n",
    "global ITERATION\n",
    "ITERATION = 0\n",
    "tpe_algorithm = tpe.suggest\n",
    "bayes_trials = Trials()\n",
    "best = fmin(fn=objective,\n",
    "            space=space,\n",
    "            algo=tpe.suggest,\n",
    "            max_evals=100,\n",
    "            trials=bayes_trials,\n",
    "            rstate=np.random.RandomState(9),\n",
    "            verbose=-1)\n",
    "\n",
    "bayes_trials_results = sorted(bayes_trials.results, key = lambda x: x['loss'])\n",
    "bayes_trials_results[:1]\n",
    "\n",
    "pd.DataFrame(bayes_trials_results).plot.scatter(x='iteration',y='loss',figsize=(10,5))"
   ]
  },
  {
   "cell_type": "markdown",
   "metadata": {},
   "source": [
    "### Ensembled"
   ]
  },
  {
   "cell_type": "markdown",
   "metadata": {},
   "source": [
    "<b>Did weighted ensembling with 0.6 weight to LGBM model and 0.4 to XGBoost model since LGBM was performing little better consistently</b>"
   ]
  },
  {
   "cell_type": "code",
   "execution_count": 58,
   "metadata": {
    "ExecuteTime": {
     "end_time": "2022-03-13T10:20:03.354506Z",
     "start_time": "2022-03-13T10:20:03.210043Z"
    }
   },
   "outputs": [
    {
     "name": "stdout",
     "output_type": "stream",
     "text": [
      "_____Train_____\n"
     ]
    },
    {
     "data": {
      "text/html": [
       "<div>\n",
       "<style scoped>\n",
       "    .dataframe tbody tr th:only-of-type {\n",
       "        vertical-align: middle;\n",
       "    }\n",
       "\n",
       "    .dataframe tbody tr th {\n",
       "        vertical-align: top;\n",
       "    }\n",
       "\n",
       "    .dataframe thead th {\n",
       "        text-align: right;\n",
       "    }\n",
       "</style>\n",
       "<table border=\"1\" class=\"dataframe\">\n",
       "  <thead>\n",
       "    <tr style=\"text-align: right;\">\n",
       "      <th></th>\n",
       "      <th>F1_Score</th>\n",
       "      <th>Accuracy</th>\n",
       "      <th>Class_Count</th>\n",
       "      <th>Class_Ratio</th>\n",
       "    </tr>\n",
       "  </thead>\n",
       "  <tbody>\n",
       "    <tr>\n",
       "      <th>@_0.1</th>\n",
       "      <td>18.773666</td>\n",
       "      <td>23.112782</td>\n",
       "      <td>6650.0</td>\n",
       "      <td>1.0</td>\n",
       "    </tr>\n",
       "    <tr>\n",
       "      <th>@_0.2</th>\n",
       "      <td>30.116692</td>\n",
       "      <td>31.368421</td>\n",
       "      <td>6650.0</td>\n",
       "      <td>1.0</td>\n",
       "    </tr>\n",
       "    <tr>\n",
       "      <th>@_0.3</th>\n",
       "      <td>52.401953</td>\n",
       "      <td>54.165414</td>\n",
       "      <td>6650.0</td>\n",
       "      <td>1.0</td>\n",
       "    </tr>\n",
       "    <tr>\n",
       "      <th>@_0.4</th>\n",
       "      <td>60.020131</td>\n",
       "      <td>68.646617</td>\n",
       "      <td>6650.0</td>\n",
       "      <td>1.0</td>\n",
       "    </tr>\n",
       "    <tr>\n",
       "      <th>@_0.5</th>\n",
       "      <td>57.644193</td>\n",
       "      <td>76.466165</td>\n",
       "      <td>6650.0</td>\n",
       "      <td>1.0</td>\n",
       "    </tr>\n",
       "    <tr>\n",
       "      <th>@_0.6</th>\n",
       "      <td>47.168853</td>\n",
       "      <td>77.203008</td>\n",
       "      <td>6650.0</td>\n",
       "      <td>1.0</td>\n",
       "    </tr>\n",
       "    <tr>\n",
       "      <th>@_0.7</th>\n",
       "      <td>43.466803</td>\n",
       "      <td>76.887218</td>\n",
       "      <td>6650.0</td>\n",
       "      <td>1.0</td>\n",
       "    </tr>\n",
       "    <tr>\n",
       "      <th>@_0.8</th>\n",
       "      <td>43.466803</td>\n",
       "      <td>76.887218</td>\n",
       "      <td>6650.0</td>\n",
       "      <td>1.0</td>\n",
       "    </tr>\n",
       "    <tr>\n",
       "      <th>@_0.9</th>\n",
       "      <td>43.466803</td>\n",
       "      <td>76.887218</td>\n",
       "      <td>6650.0</td>\n",
       "      <td>1.0</td>\n",
       "    </tr>\n",
       "  </tbody>\n",
       "</table>\n",
       "</div>"
      ],
      "text/plain": [
       "        F1_Score   Accuracy  Class_Count  Class_Ratio\n",
       "@_0.1  18.773666  23.112782       6650.0          1.0\n",
       "@_0.2  30.116692  31.368421       6650.0          1.0\n",
       "@_0.3  52.401953  54.165414       6650.0          1.0\n",
       "@_0.4  60.020131  68.646617       6650.0          1.0\n",
       "@_0.5  57.644193  76.466165       6650.0          1.0\n",
       "@_0.6  47.168853  77.203008       6650.0          1.0\n",
       "@_0.7  43.466803  76.887218       6650.0          1.0\n",
       "@_0.8  43.466803  76.887218       6650.0          1.0\n",
       "@_0.9  43.466803  76.887218       6650.0          1.0"
      ]
     },
     "metadata": {},
     "output_type": "display_data"
    }
   ],
   "source": [
    "# evaluation of ensembled model\n",
    "train['xgb_lgb'] = 0.4*train['xgb_preds'] + 0.6*train['lgb_preds']\n",
    "\n",
    "print(\"_____Train_____\")\n",
    "score_df(train, train['Is_Churn'], 'xgb_lgb', \n",
    "         [np.round(i,2) for i in list(np.arange(0.1, 1, 0.1, dtype=float))])"
   ]
  },
  {
   "cell_type": "code",
   "execution_count": 59,
   "metadata": {
    "ExecuteTime": {
     "end_time": "2022-03-13T10:20:05.794997Z",
     "start_time": "2022-03-13T10:20:05.476878Z"
    }
   },
   "outputs": [
    {
     "name": "stdout",
     "output_type": "stream",
     "text": [
      "_____Train_____\n"
     ]
    },
    {
     "data": {
      "text/html": [
       "<div>\n",
       "<style scoped>\n",
       "    .dataframe tbody tr th:only-of-type {\n",
       "        vertical-align: middle;\n",
       "    }\n",
       "\n",
       "    .dataframe tbody tr th {\n",
       "        vertical-align: top;\n",
       "    }\n",
       "\n",
       "    .dataframe thead th {\n",
       "        text-align: right;\n",
       "    }\n",
       "</style>\n",
       "<table border=\"1\" class=\"dataframe\">\n",
       "  <thead>\n",
       "    <tr style=\"text-align: right;\">\n",
       "      <th></th>\n",
       "      <th>F1_Score</th>\n",
       "      <th>Accuracy</th>\n",
       "      <th>Class_Count</th>\n",
       "      <th>Class_Ratio</th>\n",
       "    </tr>\n",
       "  </thead>\n",
       "  <tbody>\n",
       "    <tr>\n",
       "      <th>@_0.4</th>\n",
       "      <td>60.020131</td>\n",
       "      <td>68.646617</td>\n",
       "      <td>6650.0</td>\n",
       "      <td>1.0</td>\n",
       "    </tr>\n",
       "    <tr>\n",
       "      <th>@_0.41</th>\n",
       "      <td>60.587550</td>\n",
       "      <td>69.954887</td>\n",
       "      <td>6650.0</td>\n",
       "      <td>1.0</td>\n",
       "    </tr>\n",
       "    <tr>\n",
       "      <th>@_0.42</th>\n",
       "      <td>60.852044</td>\n",
       "      <td>71.157895</td>\n",
       "      <td>6650.0</td>\n",
       "      <td>1.0</td>\n",
       "    </tr>\n",
       "    <tr>\n",
       "      <th>@_0.43</th>\n",
       "      <td>60.966477</td>\n",
       "      <td>72.090226</td>\n",
       "      <td>6650.0</td>\n",
       "      <td>1.0</td>\n",
       "    </tr>\n",
       "    <tr>\n",
       "      <th>@_0.44</th>\n",
       "      <td>61.167684</td>\n",
       "      <td>73.293233</td>\n",
       "      <td>6650.0</td>\n",
       "      <td>1.0</td>\n",
       "    </tr>\n",
       "    <tr>\n",
       "      <th>@_0.45</th>\n",
       "      <td>60.663457</td>\n",
       "      <td>73.834586</td>\n",
       "      <td>6650.0</td>\n",
       "      <td>1.0</td>\n",
       "    </tr>\n",
       "    <tr>\n",
       "      <th>@_0.46</th>\n",
       "      <td>60.532746</td>\n",
       "      <td>74.556391</td>\n",
       "      <td>6650.0</td>\n",
       "      <td>1.0</td>\n",
       "    </tr>\n",
       "    <tr>\n",
       "      <th>@_0.47</th>\n",
       "      <td>60.029475</td>\n",
       "      <td>75.082707</td>\n",
       "      <td>6650.0</td>\n",
       "      <td>1.0</td>\n",
       "    </tr>\n",
       "    <tr>\n",
       "      <th>@_0.48</th>\n",
       "      <td>59.244332</td>\n",
       "      <td>75.578947</td>\n",
       "      <td>6650.0</td>\n",
       "      <td>1.0</td>\n",
       "    </tr>\n",
       "    <tr>\n",
       "      <th>@_0.49</th>\n",
       "      <td>58.520518</td>\n",
       "      <td>76.090226</td>\n",
       "      <td>6650.0</td>\n",
       "      <td>1.0</td>\n",
       "    </tr>\n",
       "    <tr>\n",
       "      <th>@_0.5</th>\n",
       "      <td>57.644193</td>\n",
       "      <td>76.466165</td>\n",
       "      <td>6650.0</td>\n",
       "      <td>1.0</td>\n",
       "    </tr>\n",
       "    <tr>\n",
       "      <th>@_0.51</th>\n",
       "      <td>56.712804</td>\n",
       "      <td>76.781955</td>\n",
       "      <td>6650.0</td>\n",
       "      <td>1.0</td>\n",
       "    </tr>\n",
       "    <tr>\n",
       "      <th>@_0.52</th>\n",
       "      <td>55.507694</td>\n",
       "      <td>76.917293</td>\n",
       "      <td>6650.0</td>\n",
       "      <td>1.0</td>\n",
       "    </tr>\n",
       "    <tr>\n",
       "      <th>@_0.53</th>\n",
       "      <td>54.195265</td>\n",
       "      <td>77.007519</td>\n",
       "      <td>6650.0</td>\n",
       "      <td>1.0</td>\n",
       "    </tr>\n",
       "    <tr>\n",
       "      <th>@_0.54</th>\n",
       "      <td>53.179040</td>\n",
       "      <td>77.157895</td>\n",
       "      <td>6650.0</td>\n",
       "      <td>1.0</td>\n",
       "    </tr>\n",
       "    <tr>\n",
       "      <th>@_0.55</th>\n",
       "      <td>52.301935</td>\n",
       "      <td>77.308271</td>\n",
       "      <td>6650.0</td>\n",
       "      <td>1.0</td>\n",
       "    </tr>\n",
       "    <tr>\n",
       "      <th>@_0.56</th>\n",
       "      <td>51.225031</td>\n",
       "      <td>77.383459</td>\n",
       "      <td>6650.0</td>\n",
       "      <td>1.0</td>\n",
       "    </tr>\n",
       "    <tr>\n",
       "      <th>@_0.57</th>\n",
       "      <td>50.078054</td>\n",
       "      <td>77.293233</td>\n",
       "      <td>6650.0</td>\n",
       "      <td>1.0</td>\n",
       "    </tr>\n",
       "    <tr>\n",
       "      <th>@_0.58</th>\n",
       "      <td>49.181622</td>\n",
       "      <td>77.293233</td>\n",
       "      <td>6650.0</td>\n",
       "      <td>1.0</td>\n",
       "    </tr>\n",
       "    <tr>\n",
       "      <th>@_0.59</th>\n",
       "      <td>48.077831</td>\n",
       "      <td>77.278195</td>\n",
       "      <td>6650.0</td>\n",
       "      <td>1.0</td>\n",
       "    </tr>\n",
       "  </tbody>\n",
       "</table>\n",
       "</div>"
      ],
      "text/plain": [
       "         F1_Score   Accuracy  Class_Count  Class_Ratio\n",
       "@_0.4   60.020131  68.646617       6650.0          1.0\n",
       "@_0.41  60.587550  69.954887       6650.0          1.0\n",
       "@_0.42  60.852044  71.157895       6650.0          1.0\n",
       "@_0.43  60.966477  72.090226       6650.0          1.0\n",
       "@_0.44  61.167684  73.293233       6650.0          1.0\n",
       "@_0.45  60.663457  73.834586       6650.0          1.0\n",
       "@_0.46  60.532746  74.556391       6650.0          1.0\n",
       "@_0.47  60.029475  75.082707       6650.0          1.0\n",
       "@_0.48  59.244332  75.578947       6650.0          1.0\n",
       "@_0.49  58.520518  76.090226       6650.0          1.0\n",
       "@_0.5   57.644193  76.466165       6650.0          1.0\n",
       "@_0.51  56.712804  76.781955       6650.0          1.0\n",
       "@_0.52  55.507694  76.917293       6650.0          1.0\n",
       "@_0.53  54.195265  77.007519       6650.0          1.0\n",
       "@_0.54  53.179040  77.157895       6650.0          1.0\n",
       "@_0.55  52.301935  77.308271       6650.0          1.0\n",
       "@_0.56  51.225031  77.383459       6650.0          1.0\n",
       "@_0.57  50.078054  77.293233       6650.0          1.0\n",
       "@_0.58  49.181622  77.293233       6650.0          1.0\n",
       "@_0.59  48.077831  77.278195       6650.0          1.0"
      ]
     },
     "metadata": {},
     "output_type": "display_data"
    }
   ],
   "source": [
    "print(\"_____Train_____\")\n",
    "score_df(train, train['Is_Churn'], 'xgb_lgb', \n",
    "         [np.round(i,2) for i in list(np.arange(0.4, 0.6, 0.01, dtype=float))])"
   ]
  },
  {
   "cell_type": "code",
   "execution_count": null,
   "metadata": {},
   "outputs": [],
   "source": []
  }
 ],
 "metadata": {
  "kernelspec": {
   "display_name": "Python 3",
   "language": "python",
   "name": "python3"
  },
  "language_info": {
   "codemirror_mode": {
    "name": "ipython",
    "version": 3
   },
   "file_extension": ".py",
   "mimetype": "text/x-python",
   "name": "python",
   "nbconvert_exporter": "python",
   "pygments_lexer": "ipython3",
   "version": "3.6.8"
  },
  "toc": {
   "base_numbering": 1,
   "nav_menu": {},
   "number_sections": true,
   "sideBar": true,
   "skip_h1_title": false,
   "title_cell": "Table of Contents",
   "title_sidebar": "Contents",
   "toc_cell": false,
   "toc_position": {},
   "toc_section_display": true,
   "toc_window_display": false
  },
  "varInspector": {
   "cols": {
    "lenName": 16,
    "lenType": 16,
    "lenVar": 40
   },
   "kernels_config": {
    "python": {
     "delete_cmd_postfix": "",
     "delete_cmd_prefix": "del ",
     "library": "var_list.py",
     "varRefreshCmd": "print(var_dic_list())"
    },
    "r": {
     "delete_cmd_postfix": ") ",
     "delete_cmd_prefix": "rm(",
     "library": "var_list.r",
     "varRefreshCmd": "cat(var_dic_list()) "
    }
   },
   "types_to_exclude": [
    "module",
    "function",
    "builtin_function_or_method",
    "instance",
    "_Feature"
   ],
   "window_display": false
  }
 },
 "nbformat": 4,
 "nbformat_minor": 2
}
